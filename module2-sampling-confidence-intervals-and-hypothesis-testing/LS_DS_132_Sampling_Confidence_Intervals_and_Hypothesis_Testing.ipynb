{
  "nbformat": 4,
  "nbformat_minor": 0,
  "metadata": {
    "colab": {
      "name": "LS_DS_132_Sampling_Confidence_Intervals_and_Hypothesis_Testing.ipynb",
      "provenance": [],
      "collapsed_sections": [],
      "include_colab_link": true
    },
    "kernelspec": {
      "name": "python3",
      "display_name": "Python 3"
    }
  },
  "cells": [
    {
      "cell_type": "markdown",
      "metadata": {
        "id": "view-in-github",
        "colab_type": "text"
      },
      "source": [
        "<a href=\"https://colab.research.google.com/github/Bhavani-Rajan/DS-Unit-1-Sprint-3-Statistical-Tests-and-Experiments/blob/master/module2-sampling-confidence-intervals-and-hypothesis-testing/LS_DS_132_Sampling_Confidence_Intervals_and_Hypothesis_Testing.ipynb\" target=\"_parent\"><img src=\"https://colab.research.google.com/assets/colab-badge.svg\" alt=\"Open In Colab\"/></a>"
      ]
    },
    {
      "cell_type": "markdown",
      "metadata": {
        "id": "838Dmw1kM2LK",
        "colab_type": "text"
      },
      "source": [
        "# Lambda School Data Science Module 132\n",
        "## Sampling, Confidence Intervals, and Hypothesis Testing"
      ]
    },
    {
      "cell_type": "markdown",
      "metadata": {
        "id": "dbcPKIo5M6Ny",
        "colab_type": "text"
      },
      "source": [
        "## Prepare - examine other available hypothesis tests\n",
        "\n",
        "If you had to pick a single hypothesis test in your toolbox, t-test would probably be the best choice - but the good news is you don't have to pick just one! Here's some of the others to be aware of:"
      ]
    },
    {
      "cell_type": "code",
      "metadata": {
        "id": "tlBel8j9M6tB",
        "colab_type": "code",
        "outputId": "19f66622-4b3c-4f5a-b1cc-f19fa90ddd9a",
        "colab": {
          "base_uri": "https://localhost:8080/",
          "height": 211
        }
      },
      "source": [
        "import numpy as np\n",
        "from scipy.stats import chisquare  # One-way chi square test\n",
        "\n",
        "# Chi square can take any crosstab/table and test the independence of rows/cols\n",
        "# The null hypothesis is that the rows/cols are independent -> low chi square\n",
        "# The alternative is that there is a dependence -> high chi square\n",
        "# Be aware! Chi square does *not* tell you direction/causation\n",
        "\n",
        "ind_obs = np.array([[1, 1], [2, 2]]).T\n",
        "print(ind_obs)\n",
        "print(chisquare(ind_obs, axis=None))\n",
        "\n",
        "dep_obs = np.array([[16, 18, 16, 14, 12, 12], [32, 24, 16, 28, 20, 24]]).T\n",
        "print(dep_obs)\n",
        "print(chisquare(dep_obs, axis=None))"
      ],
      "execution_count": 24,
      "outputs": [
        {
          "output_type": "stream",
          "text": [
            "[[1 2]\n",
            " [1 2]]\n",
            "Power_divergenceResult(statistic=0.6666666666666666, pvalue=0.8810148425137847)\n",
            "[[16 32]\n",
            " [18 24]\n",
            " [16 16]\n",
            " [14 28]\n",
            " [12 20]\n",
            " [12 24]]\n",
            "Power_divergenceResult(statistic=23.31034482758621, pvalue=0.015975692534127565)\n"
          ],
          "name": "stdout"
        }
      ]
    },
    {
      "cell_type": "code",
      "metadata": {
        "id": "nN0BdNiDPxbk",
        "colab_type": "code",
        "outputId": "8f2c3b0b-60ae-404c-f457-7d5682027e87",
        "colab": {
          "base_uri": "https://localhost:8080/",
          "height": 55
        }
      },
      "source": [
        "# Distribution tests:\n",
        "# We often assume that something is normal, but it can be important to *check*\n",
        "\n",
        "# For example, later on with predictive modeling, a typical assumption is that\n",
        "# residuals (prediction errors) are normal - checking is a good diagnostic\n",
        "\n",
        "from scipy.stats import normaltest\n",
        "# Poisson models arrival times and is related to the binomial (coinflip)\n",
        "sample = np.random.poisson(5, 1000)\n",
        "print(normaltest(sample))  # Pretty clearly not normal"
      ],
      "execution_count": 2,
      "outputs": [
        {
          "output_type": "stream",
          "text": [
            "NormaltestResult(statistic=36.486501966868545, pvalue=1.1941441788882378e-08)\n"
          ],
          "name": "stdout"
        }
      ]
    },
    {
      "cell_type": "code",
      "metadata": {
        "id": "P5t0WhkDReFO",
        "colab_type": "code",
        "outputId": "30d87ad6-8b74-4ccd-a5ae-6530bdaea700",
        "colab": {
          "base_uri": "https://localhost:8080/",
          "height": 52
        }
      },
      "source": [
        "# Kruskal-Wallis H-test - compare the median rank between 2+ groups\n",
        "# Can be applied to ranking decisions/outcomes/recommendations\n",
        "# The underlying math comes from chi-square distribution, and is best for n>5\n",
        "from scipy.stats import kruskal\n",
        "\n",
        "x1 = [1, 3, 5, 7, 9]\n",
        "y1 = [2, 4, 6, 8, 10]\n",
        "print(kruskal(x1, y1))  # x1 is a little better, but not \"significantly\" so\n",
        "\n",
        "x2 = [1, 1, 1]\n",
        "y2 = [2, 2, 2]\n",
        "z = [2, 2]  # Hey, a third group, and of different size!\n",
        "print(kruskal(x2, y2, z))  # x clearly dominates"
      ],
      "execution_count": 3,
      "outputs": [
        {
          "output_type": "stream",
          "text": [
            "KruskalResult(statistic=0.2727272727272734, pvalue=0.6015081344405895)\n",
            "KruskalResult(statistic=7.0, pvalue=0.0301973834223185)\n"
          ],
          "name": "stdout"
        }
      ]
    },
    {
      "cell_type": "markdown",
      "metadata": {
        "id": "7pT3IP36Rh0b",
        "colab_type": "text"
      },
      "source": [
        "And there's many more! `scipy.stats` is fairly comprehensive, though there are even more available if you delve into the extended world of statistics packages. As tests get increasingly obscure and specialized, the importance of knowing them by heart becomes small - but being able to look them up and figure them out when they *are* relevant is still important."
      ]
    },
    {
      "cell_type": "markdown",
      "metadata": {
        "id": "unJSkpJHULVR",
        "colab_type": "text"
      },
      "source": [
        "## Degrees of Freedom\n"
      ]
    },
    {
      "cell_type": "code",
      "metadata": {
        "id": "WyXOzS_XUPWU",
        "colab_type": "code",
        "colab": {
          "base_uri": "https://localhost:8080/",
          "height": 35
        },
        "outputId": "05e1a5ec-a4c1-40d4-d2a4-7e83cb6b0236"
      },
      "source": [
        "mean = 20\n",
        "n = 7\n",
        "[5, 9, 10, 20 , 15, 12, 69]\n",
        "\n",
        "# the first 6 days added up to 71\n",
        "# The mean has to be 20\n",
        "# I need the sum of all the values in the list to be 140\n",
        "# The last value in the list *HAS* to be 140-71 = 69"
      ],
      "execution_count": 4,
      "outputs": [
        {
          "output_type": "execute_result",
          "data": {
            "text/plain": [
              "[5, 9, 10, 20, 15, 12, 69]"
            ]
          },
          "metadata": {
            "tags": []
          },
          "execution_count": 4
        }
      ]
    },
    {
      "cell_type": "markdown",
      "metadata": {
        "id": "3JqroCQYQqhy",
        "colab_type": "text"
      },
      "source": [
        "## T-test Assumptions\n",
        "\n",
        "<https://statistics.laerd.com/statistical-guides/independent-t-test-statistical-guide.php>\n",
        "\n",
        "- Independence of means\n",
        "\n",
        "Are the means of our voting data independent (do not affect the outcome of one another)?\n",
        "  \n",
        "The best way to increase thel likelihood of our means being independent is to randomly sample (which we did not do).\n"
      ]
    },
    {
      "cell_type": "code",
      "metadata": {
        "id": "sqy2hEFRZnvI",
        "colab_type": "code",
        "colab": {}
      },
      "source": [
        "from scipy.stats import ttest_ind\n",
        "\n",
        "?ttest_ind"
      ],
      "execution_count": 0,
      "outputs": []
    },
    {
      "cell_type": "markdown",
      "metadata": {
        "id": "xI-PcK5sZ1A9",
        "colab_type": "text"
      },
      "source": [
        "- \"Homogeneity\" of Variance? \n",
        "\n",
        "Is the magnitude of the variance between the two roughly the same?\n",
        "\n",
        "I think we're OK on this one for the voting data, although it probably could be better, one party was larger than the other.\n",
        "\n",
        "If we suspect this to be a problem then we can use Welch's T-test"
      ]
    },
    {
      "cell_type": "code",
      "metadata": {
        "id": "P02dL0waauN5",
        "colab_type": "code",
        "colab": {}
      },
      "source": [
        "?ttest_ind"
      ],
      "execution_count": 0,
      "outputs": []
    },
    {
      "cell_type": "markdown",
      "metadata": {
        "id": "tjgoHHwGayoC",
        "colab_type": "text"
      },
      "source": [
        "- \"Dependent Variable\" (sample means) are Distributed Normally\n",
        "\n",
        "<https://stats.stackexchange.com/questions/9573/t-test-for-non-normal-when-n50>\n",
        "\n",
        "Lots of statistical tests depend on normal distributions. We can test for normality using Scipy as was shown above.\n",
        "\n",
        "This assumption is often assumed even if the assumption is a weak one. If you strongly suspect that things are not normally distributed, you can transform your data to get it looking more normal and then run your test. This problem typically goes away for large sample sizes (yay Central Limit Theorem) and is often why you don't hear it brought up. People declare the assumption to be satisfied either way. \n",
        "\n"
      ]
    },
    {
      "cell_type": "markdown",
      "metadata": {
        "id": "bvvPV-RJN2vA",
        "colab_type": "text"
      },
      "source": [
        "## Central Limit Theorem\n",
        "\n"
      ]
    },
    {
      "cell_type": "code",
      "metadata": {
        "id": "FBLoOF8qOJeJ",
        "colab_type": "code",
        "outputId": "2e81bf47-d908-402f-b94a-bb83db575617",
        "colab": {
          "base_uri": "https://localhost:8080/",
          "height": 72
        }
      },
      "source": [
        "import numpy as np\n",
        "import matplotlib.pyplot as plt\n",
        "import pandas as pd\n",
        "\n",
        "sample_means = []\n",
        "for x in range(0,3000):\n",
        "  coinflips = np.random.binomial(n=1, p=.5, size=50)\n",
        "  one_sample = coinflips\n",
        "  sample_means.append(coinflips.mean())\n",
        "\n",
        "print(len(sample_means))\n",
        "print(sample_means)"
      ],
      "execution_count": 7,
      "outputs": [
        {
          "output_type": "stream",
          "text": [
            "3000\n",
            "[0.48, 0.44, 0.3, 0.42, 0.44, 0.58, 0.48, 0.46, 0.48, 0.62, 0.6, 0.56, 0.58, 0.52, 0.6, 0.62, 0.56, 0.42, 0.4, 0.54, 0.68, 0.46, 0.64, 0.52, 0.5, 0.38, 0.6, 0.5, 0.48, 0.6, 0.58, 0.48, 0.5, 0.56, 0.48, 0.56, 0.52, 0.6, 0.56, 0.48, 0.48, 0.46, 0.5, 0.38, 0.52, 0.4, 0.52, 0.58, 0.62, 0.5, 0.58, 0.36, 0.44, 0.46, 0.52, 0.52, 0.58, 0.42, 0.62, 0.58, 0.38, 0.54, 0.52, 0.44, 0.5, 0.5, 0.6, 0.64, 0.36, 0.5, 0.48, 0.58, 0.44, 0.48, 0.48, 0.52, 0.64, 0.36, 0.56, 0.4, 0.42, 0.6, 0.54, 0.48, 0.34, 0.5, 0.46, 0.5, 0.5, 0.46, 0.44, 0.6, 0.52, 0.44, 0.46, 0.62, 0.5, 0.5, 0.48, 0.5, 0.44, 0.46, 0.48, 0.48, 0.52, 0.4, 0.5, 0.56, 0.52, 0.44, 0.62, 0.5, 0.62, 0.44, 0.52, 0.54, 0.48, 0.48, 0.44, 0.5, 0.56, 0.54, 0.5, 0.44, 0.52, 0.44, 0.5, 0.4, 0.34, 0.44, 0.54, 0.46, 0.44, 0.5, 0.56, 0.54, 0.7, 0.52, 0.54, 0.52, 0.44, 0.52, 0.44, 0.5, 0.46, 0.54, 0.46, 0.46, 0.5, 0.58, 0.38, 0.54, 0.56, 0.52, 0.48, 0.54, 0.48, 0.46, 0.46, 0.48, 0.52, 0.5, 0.42, 0.44, 0.46, 0.52, 0.6, 0.54, 0.44, 0.4, 0.44, 0.4, 0.5, 0.6, 0.32, 0.46, 0.56, 0.68, 0.62, 0.56, 0.46, 0.52, 0.52, 0.5, 0.5, 0.4, 0.48, 0.6, 0.36, 0.6, 0.5, 0.52, 0.34, 0.46, 0.54, 0.48, 0.58, 0.48, 0.56, 0.46, 0.52, 0.64, 0.54, 0.5, 0.5, 0.48, 0.48, 0.46, 0.56, 0.52, 0.52, 0.52, 0.44, 0.44, 0.52, 0.6, 0.6, 0.42, 0.46, 0.56, 0.48, 0.46, 0.58, 0.46, 0.44, 0.5, 0.58, 0.56, 0.4, 0.5, 0.54, 0.54, 0.48, 0.54, 0.52, 0.46, 0.52, 0.48, 0.48, 0.44, 0.56, 0.54, 0.48, 0.52, 0.58, 0.4, 0.58, 0.58, 0.5, 0.5, 0.54, 0.6, 0.46, 0.52, 0.52, 0.52, 0.44, 0.58, 0.54, 0.46, 0.44, 0.5, 0.52, 0.42, 0.54, 0.44, 0.52, 0.56, 0.52, 0.52, 0.4, 0.56, 0.54, 0.42, 0.64, 0.46, 0.56, 0.56, 0.5, 0.48, 0.5, 0.42, 0.46, 0.64, 0.48, 0.62, 0.46, 0.56, 0.5, 0.54, 0.54, 0.44, 0.56, 0.48, 0.48, 0.46, 0.62, 0.52, 0.64, 0.48, 0.58, 0.44, 0.42, 0.6, 0.48, 0.5, 0.6, 0.5, 0.44, 0.52, 0.56, 0.5, 0.42, 0.5, 0.5, 0.36, 0.48, 0.44, 0.46, 0.6, 0.5, 0.46, 0.52, 0.62, 0.42, 0.5, 0.52, 0.56, 0.38, 0.58, 0.54, 0.38, 0.46, 0.4, 0.46, 0.46, 0.54, 0.46, 0.44, 0.38, 0.52, 0.52, 0.52, 0.42, 0.5, 0.42, 0.46, 0.52, 0.6, 0.48, 0.54, 0.52, 0.48, 0.56, 0.52, 0.58, 0.52, 0.46, 0.5, 0.66, 0.6, 0.44, 0.5, 0.52, 0.42, 0.46, 0.54, 0.5, 0.42, 0.58, 0.56, 0.5, 0.52, 0.42, 0.54, 0.5, 0.54, 0.44, 0.48, 0.36, 0.62, 0.44, 0.4, 0.52, 0.58, 0.56, 0.5, 0.48, 0.5, 0.48, 0.46, 0.58, 0.54, 0.5, 0.54, 0.62, 0.58, 0.62, 0.52, 0.64, 0.62, 0.52, 0.46, 0.5, 0.46, 0.54, 0.48, 0.46, 0.5, 0.46, 0.56, 0.56, 0.56, 0.46, 0.38, 0.5, 0.54, 0.38, 0.56, 0.56, 0.48, 0.48, 0.42, 0.46, 0.62, 0.42, 0.38, 0.6, 0.48, 0.52, 0.54, 0.52, 0.46, 0.48, 0.56, 0.48, 0.52, 0.54, 0.38, 0.44, 0.5, 0.66, 0.56, 0.44, 0.48, 0.42, 0.42, 0.5, 0.52, 0.5, 0.56, 0.48, 0.56, 0.64, 0.6, 0.48, 0.56, 0.48, 0.44, 0.38, 0.42, 0.44, 0.66, 0.46, 0.46, 0.56, 0.42, 0.48, 0.56, 0.48, 0.46, 0.48, 0.46, 0.54, 0.52, 0.34, 0.42, 0.5, 0.38, 0.56, 0.52, 0.54, 0.52, 0.4, 0.5, 0.34, 0.48, 0.48, 0.6, 0.46, 0.44, 0.56, 0.4, 0.54, 0.54, 0.52, 0.5, 0.34, 0.48, 0.44, 0.42, 0.62, 0.46, 0.54, 0.5, 0.5, 0.44, 0.48, 0.52, 0.52, 0.54, 0.54, 0.48, 0.4, 0.5, 0.46, 0.52, 0.42, 0.5, 0.54, 0.46, 0.42, 0.54, 0.54, 0.58, 0.52, 0.4, 0.48, 0.5, 0.48, 0.48, 0.44, 0.48, 0.52, 0.62, 0.44, 0.52, 0.46, 0.62, 0.44, 0.46, 0.6, 0.56, 0.54, 0.46, 0.46, 0.42, 0.38, 0.62, 0.5, 0.44, 0.48, 0.7, 0.54, 0.46, 0.6, 0.58, 0.56, 0.58, 0.58, 0.5, 0.46, 0.52, 0.52, 0.46, 0.52, 0.48, 0.54, 0.46, 0.44, 0.62, 0.5, 0.54, 0.48, 0.56, 0.58, 0.36, 0.54, 0.64, 0.62, 0.56, 0.46, 0.62, 0.6, 0.46, 0.52, 0.52, 0.48, 0.44, 0.5, 0.44, 0.42, 0.5, 0.58, 0.5, 0.58, 0.42, 0.48, 0.52, 0.54, 0.48, 0.56, 0.48, 0.48, 0.54, 0.44, 0.5, 0.6, 0.42, 0.46, 0.46, 0.54, 0.56, 0.54, 0.38, 0.5, 0.34, 0.5, 0.46, 0.48, 0.62, 0.64, 0.42, 0.6, 0.5, 0.48, 0.54, 0.44, 0.48, 0.52, 0.5, 0.58, 0.42, 0.54, 0.56, 0.56, 0.58, 0.54, 0.56, 0.34, 0.54, 0.32, 0.32, 0.38, 0.4, 0.4, 0.5, 0.62, 0.52, 0.52, 0.48, 0.64, 0.46, 0.52, 0.48, 0.46, 0.5, 0.48, 0.56, 0.52, 0.42, 0.6, 0.5, 0.52, 0.58, 0.52, 0.48, 0.5, 0.56, 0.42, 0.4, 0.52, 0.52, 0.48, 0.52, 0.46, 0.48, 0.44, 0.56, 0.42, 0.44, 0.46, 0.48, 0.52, 0.5, 0.64, 0.6, 0.58, 0.5, 0.58, 0.48, 0.42, 0.48, 0.68, 0.52, 0.46, 0.52, 0.42, 0.56, 0.5, 0.46, 0.52, 0.46, 0.56, 0.46, 0.46, 0.48, 0.58, 0.46, 0.44, 0.58, 0.46, 0.48, 0.5, 0.4, 0.48, 0.46, 0.54, 0.44, 0.46, 0.52, 0.56, 0.56, 0.48, 0.64, 0.38, 0.38, 0.56, 0.46, 0.54, 0.42, 0.52, 0.54, 0.56, 0.58, 0.52, 0.5, 0.52, 0.46, 0.54, 0.56, 0.44, 0.4, 0.52, 0.58, 0.46, 0.44, 0.5, 0.46, 0.46, 0.48, 0.56, 0.66, 0.56, 0.52, 0.5, 0.52, 0.52, 0.48, 0.52, 0.52, 0.5, 0.6, 0.5, 0.38, 0.52, 0.64, 0.6, 0.46, 0.66, 0.6, 0.48, 0.56, 0.54, 0.58, 0.48, 0.44, 0.36, 0.52, 0.52, 0.5, 0.54, 0.52, 0.6, 0.44, 0.52, 0.36, 0.6, 0.56, 0.48, 0.52, 0.54, 0.42, 0.54, 0.56, 0.48, 0.44, 0.62, 0.48, 0.52, 0.64, 0.46, 0.58, 0.54, 0.46, 0.5, 0.58, 0.5, 0.48, 0.54, 0.54, 0.46, 0.5, 0.48, 0.48, 0.46, 0.4, 0.52, 0.54, 0.62, 0.44, 0.66, 0.54, 0.56, 0.56, 0.62, 0.56, 0.46, 0.42, 0.6, 0.48, 0.5, 0.52, 0.44, 0.54, 0.52, 0.38, 0.48, 0.44, 0.48, 0.56, 0.44, 0.62, 0.5, 0.5, 0.56, 0.42, 0.5, 0.58, 0.48, 0.6, 0.46, 0.48, 0.52, 0.48, 0.52, 0.52, 0.54, 0.66, 0.52, 0.42, 0.56, 0.42, 0.6, 0.6, 0.58, 0.48, 0.42, 0.52, 0.6, 0.64, 0.38, 0.64, 0.4, 0.48, 0.52, 0.42, 0.46, 0.46, 0.48, 0.54, 0.42, 0.56, 0.54, 0.72, 0.58, 0.48, 0.64, 0.54, 0.5, 0.44, 0.46, 0.46, 0.56, 0.44, 0.48, 0.38, 0.56, 0.56, 0.46, 0.6, 0.46, 0.44, 0.34, 0.42, 0.34, 0.48, 0.46, 0.56, 0.62, 0.5, 0.46, 0.52, 0.46, 0.54, 0.58, 0.6, 0.52, 0.56, 0.46, 0.54, 0.44, 0.48, 0.52, 0.56, 0.48, 0.52, 0.46, 0.52, 0.44, 0.64, 0.44, 0.48, 0.56, 0.44, 0.5, 0.58, 0.46, 0.62, 0.4, 0.42, 0.54, 0.66, 0.52, 0.42, 0.46, 0.42, 0.48, 0.46, 0.52, 0.48, 0.48, 0.54, 0.48, 0.4, 0.4, 0.62, 0.48, 0.5, 0.56, 0.4, 0.62, 0.46, 0.5, 0.36, 0.48, 0.56, 0.48, 0.48, 0.46, 0.62, 0.44, 0.58, 0.54, 0.56, 0.52, 0.52, 0.52, 0.46, 0.58, 0.56, 0.46, 0.5, 0.44, 0.42, 0.6, 0.5, 0.5, 0.56, 0.5, 0.6, 0.46, 0.5, 0.52, 0.62, 0.5, 0.56, 0.36, 0.46, 0.52, 0.42, 0.42, 0.42, 0.54, 0.52, 0.5, 0.62, 0.54, 0.4, 0.32, 0.58, 0.58, 0.54, 0.38, 0.5, 0.38, 0.58, 0.5, 0.66, 0.4, 0.58, 0.58, 0.54, 0.38, 0.54, 0.68, 0.48, 0.48, 0.42, 0.48, 0.56, 0.42, 0.46, 0.48, 0.64, 0.64, 0.42, 0.6, 0.46, 0.56, 0.5, 0.54, 0.5, 0.48, 0.62, 0.58, 0.5, 0.5, 0.56, 0.5, 0.4, 0.6, 0.46, 0.58, 0.64, 0.42, 0.46, 0.46, 0.56, 0.4, 0.44, 0.48, 0.54, 0.44, 0.54, 0.5, 0.54, 0.48, 0.42, 0.44, 0.54, 0.36, 0.46, 0.48, 0.54, 0.5, 0.58, 0.48, 0.6, 0.56, 0.64, 0.42, 0.54, 0.44, 0.48, 0.56, 0.44, 0.5, 0.4, 0.54, 0.46, 0.58, 0.56, 0.52, 0.44, 0.46, 0.6, 0.5, 0.42, 0.48, 0.58, 0.58, 0.54, 0.46, 0.48, 0.44, 0.42, 0.52, 0.46, 0.56, 0.44, 0.48, 0.5, 0.44, 0.36, 0.38, 0.68, 0.52, 0.5, 0.38, 0.38, 0.44, 0.52, 0.42, 0.5, 0.62, 0.6, 0.42, 0.5, 0.52, 0.6, 0.48, 0.56, 0.56, 0.5, 0.56, 0.6, 0.56, 0.46, 0.56, 0.52, 0.42, 0.4, 0.4, 0.5, 0.48, 0.5, 0.56, 0.62, 0.44, 0.54, 0.4, 0.58, 0.6, 0.32, 0.52, 0.52, 0.52, 0.34, 0.62, 0.44, 0.58, 0.5, 0.52, 0.56, 0.44, 0.66, 0.44, 0.42, 0.56, 0.36, 0.42, 0.42, 0.5, 0.52, 0.58, 0.46, 0.44, 0.56, 0.64, 0.52, 0.5, 0.54, 0.6, 0.48, 0.6, 0.5, 0.54, 0.46, 0.52, 0.6, 0.52, 0.54, 0.56, 0.52, 0.46, 0.66, 0.52, 0.46, 0.32, 0.64, 0.44, 0.54, 0.48, 0.58, 0.5, 0.38, 0.48, 0.46, 0.42, 0.46, 0.52, 0.48, 0.42, 0.5, 0.52, 0.5, 0.44, 0.5, 0.44, 0.52, 0.46, 0.5, 0.54, 0.56, 0.46, 0.62, 0.62, 0.46, 0.4, 0.52, 0.5, 0.52, 0.46, 0.6, 0.48, 0.6, 0.52, 0.58, 0.48, 0.52, 0.58, 0.46, 0.7, 0.56, 0.5, 0.54, 0.44, 0.44, 0.56, 0.5, 0.48, 0.62, 0.66, 0.56, 0.54, 0.5, 0.58, 0.52, 0.56, 0.46, 0.44, 0.52, 0.58, 0.54, 0.4, 0.6, 0.4, 0.44, 0.62, 0.42, 0.46, 0.56, 0.46, 0.58, 0.44, 0.64, 0.42, 0.4, 0.48, 0.52, 0.54, 0.54, 0.44, 0.56, 0.48, 0.64, 0.46, 0.52, 0.42, 0.6, 0.44, 0.66, 0.62, 0.54, 0.48, 0.42, 0.54, 0.46, 0.42, 0.58, 0.58, 0.52, 0.38, 0.46, 0.5, 0.4, 0.64, 0.34, 0.56, 0.4, 0.58, 0.54, 0.48, 0.54, 0.44, 0.54, 0.5, 0.38, 0.4, 0.44, 0.48, 0.5, 0.54, 0.54, 0.62, 0.4, 0.38, 0.56, 0.48, 0.4, 0.36, 0.46, 0.46, 0.6, 0.5, 0.56, 0.58, 0.52, 0.54, 0.44, 0.46, 0.4, 0.44, 0.56, 0.5, 0.5, 0.44, 0.5, 0.48, 0.38, 0.3, 0.54, 0.54, 0.6, 0.4, 0.48, 0.48, 0.54, 0.62, 0.62, 0.48, 0.38, 0.5, 0.44, 0.58, 0.56, 0.52, 0.44, 0.58, 0.52, 0.54, 0.46, 0.5, 0.32, 0.66, 0.52, 0.56, 0.42, 0.56, 0.44, 0.56, 0.42, 0.52, 0.5, 0.66, 0.46, 0.36, 0.58, 0.52, 0.46, 0.42, 0.52, 0.68, 0.32, 0.58, 0.54, 0.48, 0.54, 0.36, 0.5, 0.52, 0.4, 0.52, 0.4, 0.6, 0.52, 0.46, 0.48, 0.6, 0.68, 0.48, 0.34, 0.5, 0.4, 0.44, 0.48, 0.46, 0.44, 0.44, 0.52, 0.6, 0.38, 0.64, 0.52, 0.66, 0.5, 0.56, 0.4, 0.48, 0.54, 0.44, 0.6, 0.44, 0.5, 0.52, 0.52, 0.42, 0.56, 0.5, 0.44, 0.38, 0.5, 0.52, 0.38, 0.52, 0.56, 0.54, 0.62, 0.42, 0.54, 0.5, 0.5, 0.56, 0.5, 0.5, 0.62, 0.44, 0.44, 0.52, 0.46, 0.62, 0.48, 0.52, 0.62, 0.48, 0.56, 0.52, 0.44, 0.52, 0.58, 0.54, 0.38, 0.56, 0.38, 0.52, 0.32, 0.48, 0.48, 0.48, 0.48, 0.54, 0.38, 0.38, 0.48, 0.38, 0.32, 0.6, 0.6, 0.5, 0.46, 0.54, 0.54, 0.6, 0.56, 0.48, 0.56, 0.6, 0.48, 0.6, 0.48, 0.58, 0.44, 0.46, 0.4, 0.46, 0.56, 0.64, 0.38, 0.56, 0.56, 0.46, 0.54, 0.56, 0.56, 0.48, 0.44, 0.44, 0.42, 0.54, 0.48, 0.52, 0.56, 0.4, 0.46, 0.48, 0.56, 0.5, 0.48, 0.54, 0.44, 0.44, 0.6, 0.48, 0.5, 0.58, 0.48, 0.56, 0.62, 0.4, 0.54, 0.48, 0.5, 0.54, 0.44, 0.4, 0.46, 0.5, 0.48, 0.56, 0.46, 0.54, 0.44, 0.36, 0.66, 0.5, 0.42, 0.52, 0.52, 0.44, 0.52, 0.5, 0.5, 0.46, 0.38, 0.44, 0.42, 0.5, 0.54, 0.46, 0.56, 0.48, 0.48, 0.42, 0.48, 0.52, 0.72, 0.52, 0.5, 0.5, 0.66, 0.5, 0.58, 0.52, 0.54, 0.48, 0.46, 0.42, 0.42, 0.48, 0.56, 0.64, 0.5, 0.64, 0.46, 0.5, 0.44, 0.58, 0.42, 0.4, 0.5, 0.5, 0.48, 0.44, 0.56, 0.4, 0.5, 0.56, 0.54, 0.46, 0.58, 0.4, 0.42, 0.48, 0.48, 0.5, 0.52, 0.44, 0.44, 0.54, 0.54, 0.48, 0.58, 0.44, 0.56, 0.56, 0.38, 0.4, 0.52, 0.42, 0.48, 0.64, 0.48, 0.46, 0.5, 0.42, 0.46, 0.48, 0.66, 0.48, 0.52, 0.46, 0.56, 0.56, 0.46, 0.48, 0.52, 0.48, 0.46, 0.54, 0.44, 0.42, 0.52, 0.48, 0.58, 0.38, 0.54, 0.5, 0.48, 0.52, 0.5, 0.52, 0.46, 0.46, 0.36, 0.6, 0.4, 0.56, 0.5, 0.58, 0.54, 0.52, 0.5, 0.48, 0.4, 0.56, 0.5, 0.54, 0.44, 0.48, 0.42, 0.52, 0.56, 0.56, 0.54, 0.4, 0.58, 0.52, 0.52, 0.44, 0.64, 0.6, 0.5, 0.46, 0.48, 0.48, 0.52, 0.56, 0.46, 0.6, 0.64, 0.48, 0.58, 0.5, 0.46, 0.64, 0.56, 0.4, 0.5, 0.56, 0.48, 0.5, 0.56, 0.58, 0.48, 0.46, 0.44, 0.62, 0.48, 0.44, 0.6, 0.6, 0.5, 0.46, 0.5, 0.58, 0.56, 0.44, 0.42, 0.58, 0.54, 0.58, 0.42, 0.38, 0.5, 0.44, 0.46, 0.56, 0.44, 0.5, 0.38, 0.42, 0.44, 0.36, 0.42, 0.64, 0.5, 0.48, 0.54, 0.6, 0.44, 0.52, 0.54, 0.52, 0.52, 0.5, 0.42, 0.52, 0.6, 0.44, 0.5, 0.5, 0.56, 0.6, 0.48, 0.5, 0.4, 0.62, 0.54, 0.6, 0.48, 0.46, 0.5, 0.56, 0.4, 0.48, 0.46, 0.58, 0.46, 0.56, 0.44, 0.6, 0.46, 0.44, 0.5, 0.32, 0.46, 0.5, 0.48, 0.52, 0.44, 0.38, 0.44, 0.42, 0.52, 0.42, 0.5, 0.54, 0.54, 0.54, 0.52, 0.48, 0.6, 0.56, 0.56, 0.4, 0.58, 0.5, 0.48, 0.58, 0.54, 0.58, 0.52, 0.5, 0.64, 0.4, 0.54, 0.32, 0.54, 0.64, 0.48, 0.48, 0.66, 0.54, 0.42, 0.42, 0.46, 0.48, 0.5, 0.46, 0.46, 0.5, 0.44, 0.46, 0.62, 0.5, 0.48, 0.54, 0.42, 0.54, 0.5, 0.52, 0.46, 0.44, 0.46, 0.5, 0.54, 0.52, 0.52, 0.5, 0.66, 0.44, 0.56, 0.62, 0.56, 0.5, 0.58, 0.38, 0.42, 0.46, 0.54, 0.6, 0.42, 0.48, 0.42, 0.46, 0.44, 0.58, 0.66, 0.5, 0.54, 0.68, 0.44, 0.52, 0.28, 0.44, 0.58, 0.5, 0.54, 0.52, 0.5, 0.54, 0.54, 0.52, 0.56, 0.52, 0.66, 0.62, 0.52, 0.4, 0.42, 0.6, 0.62, 0.42, 0.42, 0.58, 0.52, 0.52, 0.62, 0.48, 0.68, 0.54, 0.56, 0.32, 0.54, 0.6, 0.48, 0.46, 0.58, 0.4, 0.46, 0.58, 0.5, 0.54, 0.54, 0.62, 0.62, 0.5, 0.6, 0.48, 0.48, 0.5, 0.52, 0.46, 0.5, 0.42, 0.36, 0.42, 0.64, 0.56, 0.54, 0.56, 0.66, 0.56, 0.42, 0.4, 0.5, 0.56, 0.66, 0.66, 0.4, 0.32, 0.48, 0.52, 0.52, 0.42, 0.44, 0.44, 0.56, 0.42, 0.64, 0.48, 0.56, 0.46, 0.52, 0.46, 0.36, 0.48, 0.46, 0.62, 0.48, 0.32, 0.62, 0.48, 0.54, 0.62, 0.5, 0.56, 0.44, 0.4, 0.56, 0.6, 0.48, 0.58, 0.5, 0.56, 0.5, 0.54, 0.52, 0.54, 0.52, 0.56, 0.48, 0.44, 0.52, 0.56, 0.54, 0.44, 0.58, 0.52, 0.62, 0.52, 0.54, 0.54, 0.42, 0.44, 0.42, 0.66, 0.6, 0.4, 0.46, 0.52, 0.48, 0.48, 0.58, 0.64, 0.44, 0.48, 0.52, 0.5, 0.42, 0.56, 0.44, 0.62, 0.54, 0.42, 0.42, 0.66, 0.48, 0.42, 0.62, 0.42, 0.52, 0.58, 0.36, 0.5, 0.5, 0.58, 0.48, 0.5, 0.46, 0.32, 0.56, 0.5, 0.52, 0.46, 0.48, 0.38, 0.52, 0.42, 0.48, 0.5, 0.56, 0.38, 0.38, 0.56, 0.52, 0.62, 0.58, 0.58, 0.48, 0.44, 0.46, 0.52, 0.56, 0.5, 0.5, 0.42, 0.5, 0.54, 0.42, 0.46, 0.36, 0.4, 0.56, 0.48, 0.36, 0.58, 0.44, 0.54, 0.44, 0.58, 0.4, 0.46, 0.66, 0.48, 0.42, 0.54, 0.36, 0.58, 0.4, 0.32, 0.52, 0.48, 0.48, 0.56, 0.46, 0.46, 0.6, 0.52, 0.62, 0.54, 0.52, 0.5, 0.48, 0.34, 0.58, 0.48, 0.58, 0.58, 0.58, 0.62, 0.38, 0.44, 0.42, 0.56, 0.38, 0.66, 0.52, 0.46, 0.52, 0.48, 0.36, 0.5, 0.46, 0.52, 0.5, 0.5, 0.52, 0.46, 0.48, 0.34, 0.54, 0.6, 0.52, 0.52, 0.5, 0.54, 0.6, 0.54, 0.44, 0.54, 0.66, 0.38, 0.5, 0.5, 0.44, 0.6, 0.52, 0.62, 0.48, 0.5, 0.44, 0.56, 0.5, 0.54, 0.68, 0.44, 0.44, 0.42, 0.58, 0.68, 0.42, 0.54, 0.48, 0.52, 0.44, 0.56, 0.58, 0.42, 0.52, 0.58, 0.5, 0.52, 0.52, 0.54, 0.5, 0.52, 0.48, 0.64, 0.6, 0.44, 0.54, 0.56, 0.56, 0.64, 0.44, 0.5, 0.48, 0.42, 0.42, 0.46, 0.5, 0.6, 0.42, 0.48, 0.5, 0.52, 0.44, 0.52, 0.54, 0.52, 0.44, 0.52, 0.52, 0.48, 0.54, 0.58, 0.46, 0.54, 0.48, 0.52, 0.4, 0.54, 0.64, 0.52, 0.58, 0.48, 0.42, 0.42, 0.5, 0.46, 0.42, 0.68, 0.44, 0.48, 0.54, 0.48, 0.54, 0.54, 0.56, 0.44, 0.5, 0.4, 0.46, 0.52, 0.52, 0.34, 0.5, 0.52, 0.52, 0.52, 0.5, 0.5, 0.5, 0.54, 0.46, 0.56, 0.58, 0.38, 0.5, 0.44, 0.52, 0.6, 0.36, 0.42, 0.52, 0.56, 0.54, 0.42, 0.44, 0.48, 0.42, 0.56, 0.4, 0.58, 0.38, 0.42, 0.56, 0.44, 0.42, 0.56, 0.5, 0.58, 0.48, 0.56, 0.48, 0.52, 0.5, 0.5, 0.52, 0.4, 0.6, 0.4, 0.4, 0.36, 0.52, 0.36, 0.5, 0.58, 0.6, 0.52, 0.4, 0.54, 0.4, 0.54, 0.56, 0.72, 0.44, 0.48, 0.56, 0.44, 0.46, 0.58, 0.62, 0.38, 0.5, 0.38, 0.56, 0.6, 0.48, 0.6, 0.62, 0.5, 0.5, 0.52, 0.5, 0.52, 0.52, 0.6, 0.34, 0.5, 0.48, 0.6, 0.52, 0.48, 0.32, 0.52, 0.48, 0.48, 0.5, 0.46, 0.44, 0.44, 0.5, 0.36, 0.42, 0.52, 0.6, 0.4, 0.5, 0.44, 0.6, 0.42, 0.58, 0.46, 0.56, 0.5, 0.46, 0.56, 0.56, 0.36, 0.56, 0.38, 0.52, 0.5, 0.34, 0.48, 0.48, 0.58, 0.44, 0.42, 0.54, 0.34, 0.5, 0.44, 0.48, 0.62, 0.58, 0.54, 0.46, 0.58, 0.58, 0.5, 0.42, 0.52, 0.44, 0.54, 0.46, 0.58, 0.38, 0.48, 0.58, 0.54, 0.52, 0.54, 0.56, 0.52, 0.42, 0.42, 0.56, 0.54, 0.52, 0.42, 0.36, 0.58, 0.5, 0.54, 0.48, 0.56, 0.58, 0.62, 0.5, 0.4, 0.56, 0.56, 0.56, 0.54, 0.54, 0.58, 0.46, 0.6, 0.6, 0.56, 0.54, 0.42, 0.42, 0.5, 0.52, 0.52, 0.66, 0.52, 0.48, 0.62, 0.56, 0.42, 0.44, 0.46, 0.52, 0.58, 0.56, 0.54, 0.64, 0.5, 0.5, 0.54, 0.54, 0.44, 0.5, 0.56, 0.38, 0.42, 0.54, 0.5, 0.52, 0.46, 0.44, 0.48, 0.66, 0.46, 0.52, 0.64, 0.56, 0.52, 0.58, 0.46, 0.5, 0.58, 0.48, 0.68, 0.52, 0.5, 0.48, 0.48, 0.4, 0.52, 0.58, 0.5, 0.54, 0.44, 0.4, 0.46, 0.58, 0.44, 0.54, 0.56, 0.6, 0.44, 0.52, 0.42, 0.44, 0.46, 0.52, 0.48, 0.54, 0.52, 0.4, 0.44, 0.6, 0.62, 0.5, 0.48, 0.52, 0.42, 0.5, 0.58, 0.4, 0.52, 0.6, 0.46, 0.62, 0.48, 0.58, 0.48, 0.66, 0.62, 0.5, 0.48, 0.6, 0.48, 0.54, 0.48, 0.42, 0.44, 0.48, 0.48, 0.48, 0.46, 0.48, 0.6, 0.58, 0.52, 0.38, 0.52, 0.58, 0.52, 0.42, 0.58, 0.52, 0.46, 0.5, 0.56, 0.48, 0.44, 0.64, 0.46, 0.52, 0.48, 0.44, 0.44, 0.5, 0.38, 0.5, 0.4, 0.4, 0.48, 0.56, 0.54, 0.58, 0.62, 0.4, 0.44, 0.52, 0.46, 0.48, 0.56, 0.46, 0.48, 0.44, 0.42, 0.5, 0.54, 0.46, 0.46, 0.5, 0.48, 0.42, 0.46, 0.56, 0.56, 0.46, 0.56, 0.56, 0.5, 0.56, 0.5, 0.6, 0.46, 0.52, 0.64, 0.52, 0.5, 0.54, 0.42, 0.46, 0.54, 0.46, 0.5, 0.46, 0.5, 0.46, 0.46, 0.48, 0.48, 0.4, 0.44, 0.5, 0.54, 0.54, 0.52, 0.52, 0.38, 0.5, 0.46, 0.38, 0.52, 0.46, 0.58, 0.42, 0.56, 0.54, 0.44, 0.52, 0.34, 0.48, 0.5, 0.52, 0.48, 0.48, 0.42, 0.5, 0.5, 0.54, 0.44, 0.58, 0.56, 0.64, 0.34, 0.48, 0.48, 0.58, 0.48, 0.58, 0.44, 0.4, 0.42, 0.52, 0.44, 0.44, 0.42, 0.48, 0.48, 0.46, 0.56, 0.48, 0.48, 0.46, 0.56, 0.34, 0.52, 0.58, 0.5, 0.44, 0.54, 0.46, 0.48, 0.48, 0.6, 0.48, 0.5, 0.68, 0.5, 0.54, 0.72, 0.5, 0.54, 0.34, 0.44, 0.48, 0.5, 0.5, 0.44, 0.46, 0.36, 0.4, 0.64, 0.64, 0.56, 0.66, 0.44, 0.44, 0.36, 0.5, 0.66, 0.64, 0.64, 0.52, 0.48, 0.48, 0.44, 0.38, 0.66, 0.48, 0.44, 0.5, 0.56, 0.44, 0.6, 0.52, 0.54, 0.58, 0.62, 0.54, 0.64, 0.68, 0.48, 0.56, 0.42, 0.46, 0.42, 0.54, 0.44, 0.44, 0.44, 0.54, 0.56, 0.44, 0.48, 0.54, 0.58, 0.36, 0.48, 0.54, 0.54, 0.54, 0.58, 0.56, 0.42, 0.38, 0.6, 0.56, 0.48, 0.5, 0.5, 0.46, 0.42, 0.56, 0.56, 0.48, 0.5, 0.38, 0.4, 0.56, 0.4, 0.7, 0.58, 0.52, 0.52, 0.44, 0.44, 0.62, 0.48, 0.44, 0.54, 0.46, 0.54, 0.42, 0.52, 0.48, 0.56, 0.56, 0.52, 0.66, 0.46, 0.5, 0.52, 0.44, 0.56, 0.56, 0.5, 0.62, 0.5, 0.36, 0.6, 0.5, 0.46, 0.52, 0.52, 0.44, 0.6, 0.52, 0.74, 0.46, 0.58, 0.5, 0.6, 0.44, 0.64, 0.56, 0.46, 0.44, 0.46, 0.46, 0.54, 0.46, 0.58, 0.52, 0.44, 0.46, 0.42, 0.5, 0.56, 0.46, 0.5, 0.54, 0.46, 0.48, 0.52, 0.6, 0.54, 0.52, 0.62, 0.46, 0.5, 0.52, 0.46, 0.54, 0.52, 0.42, 0.48, 0.54, 0.5, 0.5, 0.5, 0.48, 0.48, 0.58, 0.54, 0.54, 0.6, 0.5, 0.44, 0.64, 0.46, 0.46, 0.62, 0.54, 0.54, 0.46, 0.48, 0.4, 0.6, 0.54, 0.36, 0.54, 0.5, 0.46, 0.48, 0.52, 0.56, 0.56, 0.46, 0.42, 0.44, 0.48, 0.36, 0.58, 0.52, 0.44, 0.44, 0.56, 0.54, 0.56, 0.46, 0.68, 0.46, 0.52, 0.48, 0.52, 0.42, 0.4, 0.58, 0.4, 0.54, 0.52, 0.48, 0.52, 0.56, 0.4, 0.36, 0.42, 0.46, 0.54, 0.48, 0.48, 0.5, 0.44, 0.5, 0.42, 0.42, 0.6, 0.52, 0.56, 0.56, 0.48, 0.62, 0.36, 0.52, 0.36, 0.44, 0.5, 0.58, 0.54, 0.54, 0.66, 0.58, 0.56, 0.56, 0.46, 0.42, 0.36, 0.52, 0.7, 0.4, 0.46, 0.42, 0.52, 0.6, 0.58, 0.52, 0.52, 0.56, 0.38, 0.44, 0.6, 0.5, 0.54, 0.46, 0.4, 0.52, 0.5, 0.54, 0.52, 0.48, 0.48, 0.54, 0.56, 0.46, 0.64, 0.42, 0.62, 0.56, 0.48, 0.5, 0.6, 0.48, 0.48, 0.56, 0.48, 0.4, 0.54, 0.56, 0.52, 0.44, 0.6, 0.38, 0.42, 0.58, 0.5, 0.54, 0.4, 0.6, 0.52, 0.48, 0.5, 0.52, 0.62, 0.4, 0.54, 0.52, 0.58, 0.56, 0.48, 0.62, 0.46, 0.5, 0.52, 0.42, 0.54, 0.46, 0.54, 0.56, 0.58, 0.46, 0.5, 0.52, 0.54, 0.5, 0.52, 0.46, 0.48, 0.44, 0.5, 0.52, 0.52, 0.6, 0.44, 0.54, 0.5, 0.48, 0.4, 0.48, 0.56, 0.54, 0.38, 0.5, 0.58, 0.56, 0.46, 0.44]\n"
          ],
          "name": "stdout"
        }
      ]
    },
    {
      "cell_type": "code",
      "metadata": {
        "id": "rfeA06evOT2K",
        "colab_type": "code",
        "outputId": "757c0280-8706-4c67-801c-590d98a7848f",
        "colab": {
          "base_uri": "https://localhost:8080/",
          "height": 202
        }
      },
      "source": [
        "df = pd.DataFrame({'single_sample': one_sample})\n",
        "df.head()"
      ],
      "execution_count": 8,
      "outputs": [
        {
          "output_type": "execute_result",
          "data": {
            "text/html": [
              "<div>\n",
              "<style scoped>\n",
              "    .dataframe tbody tr th:only-of-type {\n",
              "        vertical-align: middle;\n",
              "    }\n",
              "\n",
              "    .dataframe tbody tr th {\n",
              "        vertical-align: top;\n",
              "    }\n",
              "\n",
              "    .dataframe thead th {\n",
              "        text-align: right;\n",
              "    }\n",
              "</style>\n",
              "<table border=\"1\" class=\"dataframe\">\n",
              "  <thead>\n",
              "    <tr style=\"text-align: right;\">\n",
              "      <th></th>\n",
              "      <th>single_sample</th>\n",
              "    </tr>\n",
              "  </thead>\n",
              "  <tbody>\n",
              "    <tr>\n",
              "      <th>0</th>\n",
              "      <td>0</td>\n",
              "    </tr>\n",
              "    <tr>\n",
              "      <th>1</th>\n",
              "      <td>0</td>\n",
              "    </tr>\n",
              "    <tr>\n",
              "      <th>2</th>\n",
              "      <td>1</td>\n",
              "    </tr>\n",
              "    <tr>\n",
              "      <th>3</th>\n",
              "      <td>0</td>\n",
              "    </tr>\n",
              "    <tr>\n",
              "      <th>4</th>\n",
              "      <td>1</td>\n",
              "    </tr>\n",
              "  </tbody>\n",
              "</table>\n",
              "</div>"
            ],
            "text/plain": [
              "   single_sample\n",
              "0              0\n",
              "1              0\n",
              "2              1\n",
              "3              0\n",
              "4              1"
            ]
          },
          "metadata": {
            "tags": []
          },
          "execution_count": 8
        }
      ]
    },
    {
      "cell_type": "code",
      "metadata": {
        "id": "GlMSNFX6OmBV",
        "colab_type": "code",
        "outputId": "6d42b6c2-3b58-4f46-9470-68f408f1bf7a",
        "colab": {
          "base_uri": "https://localhost:8080/",
          "height": 269
        }
      },
      "source": [
        "df.single_sample.hist();"
      ],
      "execution_count": 9,
      "outputs": [
        {
          "output_type": "display_data",
          "data": {
            "image/png": "[encoded data removed]",
            "text/plain": [
              "<Figure size 432x288 with 1 Axes>"
            ]
          },
          "metadata": {
            "tags": []
          }
        }
      ]
    },
    {
      "cell_type": "code",
      "metadata": {
        "id": "Jie4ypgLOs5M",
        "colab_type": "code",
        "outputId": "68735090-3880-4617-b47a-8f251a917e36",
        "colab": {
          "base_uri": "https://localhost:8080/",
          "height": 296
        }
      },
      "source": [
        "ax = plt.hist(sample_means, bins=13)\n",
        "plt.title('Distribution of 3000 sample means \\n (of 8 coinflips each)');"
      ],
      "execution_count": 10,
      "outputs": [
        {
          "output_type": "display_data",
          "data": {
            "image/png": "[encoded data removed]",
            "text/plain": [
              "<Figure size 432x288 with 1 Axes>"
            ]
          },
          "metadata": {
            "tags": []
          }
        }
      ]
    },
    {
      "cell_type": "markdown",
      "metadata": {
        "id": "LsEAjc4rOylm",
        "colab_type": "text"
      },
      "source": [
        "What does the Central Limit Theorem State? That no matter the initial distribution of the population, the distribution of sample means taken will approximate a normal distribution as $n \\rightarrow \\infty$.\n",
        "\n",
        "This has very important implications for hypothesis testing and is precisely the reason why the t-distribution begins to approximate the normal distribution as our sample size increases. "
      ]
    },
    {
      "cell_type": "code",
      "metadata": {
        "id": "F15l-J788ApQ",
        "colab_type": "code",
        "outputId": "812d7ab9-c420-49bf-f23d-fedd4e6eb508",
        "colab": {
          "base_uri": "https://localhost:8080/",
          "height": 72
        }
      },
      "source": [
        "sample_means_small = []\n",
        "sample_means_large = []\n",
        "for x in range(0,3000):\n",
        "  coinflips_small = np.random.binomial(n=1, p=.5, size=20)\n",
        "  coinflips_large = np.random.binomial(n=1, p=.5, size=100)\n",
        "  one_small_sample = coinflips_small\n",
        "  one_small_large = coinflips_large\n",
        "  sample_means_small.append(coinflips_small.mean())\n",
        "  sample_means_large.append(coinflips_large.mean())\n",
        "\n",
        "print(len(sample_means_small))\n",
        "print(sample_means_small)"
      ],
      "execution_count": 11,
      "outputs": [
        {
          "output_type": "stream",
          "text": [
            "3000\n",
            "[0.5, 0.5, 0.65, 0.45, 0.55, 0.6, 0.4, 0.6, 0.6, 0.65, 0.6, 0.75, 0.5, 0.45, 0.45, 0.6, 0.5, 0.45, 0.25, 0.55, 0.3, 0.5, 0.55, 0.45, 0.5, 0.45, 0.65, 0.45, 0.6, 0.4, 0.55, 0.4, 0.35, 0.55, 0.45, 0.65, 0.7, 0.45, 0.4, 0.55, 0.5, 0.35, 0.65, 0.5, 0.65, 0.6, 0.65, 0.4, 0.55, 0.4, 0.65, 0.5, 0.3, 0.65, 0.5, 0.55, 0.6, 0.35, 0.4, 0.5, 0.45, 0.5, 0.4, 0.6, 0.35, 0.45, 0.6, 0.6, 0.7, 0.35, 0.3, 0.55, 0.4, 0.5, 0.4, 0.7, 0.45, 0.35, 0.5, 0.55, 0.25, 0.45, 0.4, 0.6, 0.35, 0.55, 0.55, 0.4, 0.5, 0.5, 0.4, 0.3, 0.6, 0.8, 0.6, 0.5, 0.35, 0.25, 0.8, 0.45, 0.45, 0.5, 0.55, 0.5, 0.55, 0.5, 0.25, 0.6, 0.45, 0.45, 0.45, 0.4, 0.6, 0.55, 0.4, 0.35, 0.4, 0.45, 0.6, 0.6, 0.45, 0.5, 0.55, 0.4, 0.3, 0.35, 0.45, 0.55, 0.65, 0.55, 0.6, 0.75, 0.5, 0.4, 0.65, 0.5, 0.65, 0.4, 0.55, 0.55, 0.35, 0.35, 0.45, 0.65, 0.45, 0.55, 0.45, 0.65, 0.45, 0.55, 0.5, 0.65, 0.55, 0.65, 0.6, 0.45, 0.4, 0.6, 0.35, 0.6, 0.4, 0.45, 0.65, 0.65, 0.4, 0.55, 0.35, 0.5, 0.5, 0.6, 0.35, 0.65, 0.45, 0.35, 0.5, 0.65, 0.5, 0.5, 0.3, 0.45, 0.55, 0.5, 0.65, 0.45, 0.45, 0.3, 0.4, 0.5, 0.55, 0.45, 0.6, 0.5, 0.5, 0.5, 0.55, 0.45, 0.5, 0.7, 0.65, 0.6, 0.6, 0.65, 0.45, 0.35, 0.5, 0.75, 0.6, 0.55, 0.4, 0.75, 0.6, 0.5, 0.6, 0.45, 0.6, 0.5, 0.45, 0.25, 0.35, 0.4, 0.5, 0.55, 0.5, 0.35, 0.55, 0.55, 0.65, 0.65, 0.4, 0.6, 0.45, 0.6, 0.45, 0.45, 0.55, 0.45, 0.5, 0.6, 0.55, 0.35, 0.4, 0.45, 0.45, 0.3, 0.45, 0.45, 0.6, 0.65, 0.7, 0.4, 0.45, 0.6, 0.65, 0.55, 0.6, 0.6, 0.45, 0.4, 0.6, 0.5, 0.55, 0.5, 0.45, 0.6, 0.5, 0.3, 0.6, 0.5, 0.6, 0.5, 0.5, 0.45, 0.55, 0.5, 0.35, 0.5, 0.35, 0.35, 0.5, 0.5, 0.25, 0.35, 0.45, 0.3, 0.3, 0.65, 0.4, 0.4, 0.55, 0.4, 0.6, 0.25, 0.4, 0.55, 0.55, 0.5, 0.55, 0.4, 0.5, 0.6, 0.5, 0.4, 0.5, 0.55, 0.3, 0.55, 0.3, 0.3, 0.2, 0.6, 0.6, 0.4, 0.4, 0.75, 0.45, 0.65, 0.6, 0.4, 0.3, 0.45, 0.45, 0.35, 0.6, 0.6, 0.5, 0.65, 0.5, 0.7, 0.55, 0.4, 0.4, 0.3, 0.55, 0.6, 0.45, 0.5, 0.5, 0.35, 0.4, 0.2, 0.45, 0.45, 0.55, 0.45, 0.6, 0.35, 0.6, 0.45, 0.35, 0.4, 0.45, 0.45, 0.65, 0.6, 0.45, 0.55, 0.55, 0.5, 0.6, 0.65, 0.4, 0.7, 0.45, 0.45, 0.35, 0.65, 0.6, 0.6, 0.55, 0.75, 0.4, 0.45, 0.5, 0.5, 0.6, 0.3, 0.6, 0.7, 0.4, 0.55, 0.45, 0.5, 0.4, 0.35, 0.6, 0.4, 0.55, 0.5, 0.35, 0.8, 0.35, 0.55, 0.65, 0.45, 0.35, 0.5, 0.5, 0.55, 0.4, 0.5, 0.65, 0.65, 0.45, 0.35, 0.5, 0.5, 0.6, 0.6, 0.5, 0.65, 0.4, 0.35, 0.6, 0.45, 0.5, 0.65, 0.65, 0.5, 0.4, 0.4, 0.6, 0.55, 0.55, 0.65, 0.6, 0.5, 0.45, 0.35, 0.55, 0.55, 0.65, 0.7, 0.5, 0.4, 0.6, 0.45, 0.55, 0.5, 0.4, 0.55, 0.5, 0.7, 0.3, 0.55, 0.45, 0.4, 0.6, 0.4, 0.5, 0.5, 0.3, 0.25, 0.5, 0.55, 0.45, 0.5, 0.3, 0.7, 0.4, 0.55, 0.5, 0.3, 0.45, 0.45, 0.45, 0.6, 0.45, 0.5, 0.45, 0.6, 0.5, 0.45, 0.45, 0.4, 0.65, 0.45, 0.45, 0.75, 0.3, 0.7, 0.55, 0.6, 0.7, 0.45, 0.65, 0.6, 0.55, 0.3, 0.35, 0.55, 0.4, 0.55, 0.65, 0.65, 0.45, 0.45, 0.35, 0.6, 0.55, 0.45, 0.4, 0.4, 0.5, 0.35, 0.6, 0.5, 0.65, 0.45, 0.6, 0.55, 0.3, 0.45, 0.45, 0.6, 0.55, 0.5, 0.4, 0.55, 0.6, 0.4, 0.4, 0.6, 0.5, 0.55, 0.45, 0.45, 0.25, 0.15, 0.6, 0.4, 0.45, 0.65, 0.65, 0.5, 0.55, 0.75, 0.6, 0.45, 0.4, 0.35, 0.3, 0.4, 0.45, 0.4, 0.55, 0.5, 0.55, 0.4, 0.5, 0.7, 0.7, 0.5, 0.5, 0.6, 0.45, 0.5, 0.65, 0.5, 0.45, 0.4, 0.45, 0.4, 0.4, 0.45, 0.5, 0.45, 0.7, 0.5, 0.5, 0.55, 0.5, 0.6, 0.5, 0.5, 0.4, 0.35, 0.55, 0.55, 0.3, 0.55, 0.6, 0.4, 0.55, 0.45, 0.5, 0.55, 0.6, 0.5, 0.6, 0.45, 0.4, 0.5, 0.5, 0.65, 0.6, 0.65, 0.35, 0.55, 0.45, 0.35, 0.45, 0.4, 0.4, 0.5, 0.5, 0.4, 0.65, 0.55, 0.45, 0.4, 0.5, 0.25, 0.55, 0.65, 0.4, 0.5, 0.6, 0.3, 0.65, 0.55, 0.65, 0.55, 0.45, 0.65, 0.4, 0.5, 0.4, 0.5, 0.45, 0.55, 0.8, 0.5, 0.45, 0.55, 0.55, 0.6, 0.25, 0.4, 0.55, 0.65, 0.4, 0.45, 0.65, 0.5, 0.6, 0.25, 0.25, 0.55, 0.5, 0.55, 0.45, 0.35, 0.4, 0.6, 0.45, 0.3, 0.45, 0.4, 0.5, 0.5, 0.3, 0.55, 0.65, 0.6, 0.55, 0.45, 0.55, 0.5, 0.5, 0.55, 0.45, 0.6, 0.45, 0.5, 0.55, 0.55, 0.35, 0.35, 0.4, 0.4, 0.5, 0.6, 0.55, 0.45, 0.6, 0.85, 0.55, 0.15, 0.45, 0.55, 0.75, 0.4, 0.35, 0.65, 0.45, 0.25, 0.45, 0.75, 0.3, 0.6, 0.55, 0.65, 0.45, 0.6, 0.5, 0.25, 0.5, 0.5, 0.65, 0.65, 0.5, 0.45, 0.45, 0.6, 0.6, 0.55, 0.3, 0.55, 0.4, 0.55, 0.7, 0.55, 0.3, 0.5, 0.55, 0.25, 0.5, 0.4, 0.5, 0.55, 0.65, 0.6, 0.55, 0.75, 0.6, 0.6, 0.4, 0.65, 0.35, 0.4, 0.35, 0.6, 0.45, 0.4, 0.45, 0.5, 0.7, 0.55, 0.55, 0.5, 0.55, 0.5, 0.6, 0.45, 0.3, 0.55, 0.45, 0.4, 0.45, 0.4, 0.65, 0.55, 0.45, 0.45, 0.5, 0.8, 0.35, 0.5, 0.8, 0.5, 0.25, 0.6, 0.35, 0.5, 0.5, 0.35, 0.5, 0.3, 0.25, 0.6, 0.45, 0.4, 0.6, 0.4, 0.4, 0.4, 0.45, 0.5, 0.5, 0.35, 0.5, 0.5, 0.35, 0.35, 0.45, 0.45, 0.6, 0.45, 0.35, 0.5, 0.45, 0.5, 0.5, 0.6, 0.35, 0.7, 0.45, 0.55, 0.55, 0.45, 0.55, 0.45, 0.15, 0.4, 0.6, 0.55, 0.5, 0.35, 0.7, 0.45, 0.6, 0.55, 0.4, 0.6, 0.5, 0.5, 0.35, 0.55, 0.55, 0.55, 0.8, 0.4, 0.45, 0.5, 0.35, 0.5, 0.6, 0.5, 0.5, 0.45, 0.45, 0.8, 0.45, 0.5, 0.6, 0.5, 0.3, 0.55, 0.65, 0.65, 0.3, 0.6, 0.4, 0.4, 0.5, 0.4, 0.55, 0.65, 0.65, 0.45, 0.65, 0.5, 0.45, 0.35, 0.45, 0.55, 0.5, 0.6, 0.6, 0.35, 0.45, 0.8, 0.5, 0.55, 0.65, 0.35, 0.55, 0.5, 0.4, 0.4, 0.75, 0.3, 0.6, 0.4, 0.3, 0.55, 0.5, 0.55, 0.4, 0.5, 0.4, 0.6, 0.65, 0.4, 0.4, 0.7, 0.4, 0.5, 0.55, 0.45, 0.55, 0.35, 0.3, 0.6, 0.4, 0.45, 0.45, 0.7, 0.5, 0.55, 0.7, 0.6, 0.4, 0.6, 0.55, 0.55, 0.4, 0.65, 0.55, 0.45, 0.5, 0.5, 0.5, 0.55, 0.4, 0.55, 0.3, 0.6, 0.5, 0.6, 0.65, 0.6, 0.55, 0.6, 0.5, 0.55, 0.6, 0.6, 0.45, 0.7, 0.45, 0.6, 0.3, 0.5, 0.65, 0.3, 0.5, 0.4, 0.4, 0.75, 0.5, 0.5, 0.35, 0.35, 0.55, 0.55, 0.6, 0.6, 0.5, 0.6, 0.4, 0.45, 0.45, 0.5, 0.25, 0.65, 0.6, 0.25, 0.85, 0.5, 0.5, 0.35, 0.55, 0.6, 0.55, 0.4, 0.6, 0.4, 0.55, 0.6, 0.35, 0.45, 0.4, 0.6, 0.4, 0.25, 0.6, 0.6, 0.35, 0.7, 0.5, 0.4, 0.55, 0.6, 0.65, 0.6, 0.45, 0.5, 0.35, 0.5, 0.4, 0.5, 0.6, 0.6, 0.5, 0.65, 0.65, 0.55, 0.55, 0.7, 0.55, 0.55, 0.5, 0.6, 0.3, 0.55, 0.45, 0.65, 0.3, 0.45, 0.55, 0.5, 0.55, 0.5, 0.55, 0.5, 0.45, 0.5, 0.45, 0.55, 0.55, 0.5, 0.35, 0.5, 0.6, 0.6, 0.4, 0.5, 0.35, 0.6, 0.55, 0.55, 0.45, 0.45, 0.45, 0.4, 0.4, 0.35, 0.6, 0.4, 0.5, 0.5, 0.5, 0.6, 0.65, 0.5, 0.25, 0.45, 0.6, 0.8, 0.45, 0.5, 0.5, 0.4, 0.6, 0.5, 0.55, 0.5, 0.6, 0.5, 0.55, 0.6, 0.5, 0.55, 0.25, 0.4, 0.45, 0.4, 0.4, 0.65, 0.55, 0.5, 0.5, 0.75, 0.45, 0.35, 0.6, 0.6, 0.45, 0.3, 0.55, 0.55, 0.6, 0.4, 0.5, 0.45, 0.5, 0.45, 0.65, 0.5, 0.6, 0.55, 0.5, 0.45, 0.55, 0.55, 0.4, 0.5, 0.45, 0.5, 0.55, 0.4, 0.3, 0.6, 0.55, 0.6, 0.55, 0.6, 0.65, 0.4, 0.3, 0.25, 0.4, 0.75, 0.5, 0.55, 0.6, 0.6, 0.4, 0.6, 0.55, 0.5, 0.4, 0.35, 0.55, 0.4, 0.3, 0.4, 0.6, 0.55, 0.3, 0.7, 0.3, 0.35, 0.4, 0.5, 0.4, 0.45, 0.35, 0.6, 0.5, 0.6, 0.6, 0.55, 0.45, 0.5, 0.6, 0.5, 0.5, 0.5, 0.45, 0.35, 0.6, 0.6, 0.55, 0.45, 0.5, 0.6, 0.45, 0.45, 0.55, 0.6, 0.5, 0.35, 0.6, 0.4, 0.3, 0.55, 0.45, 0.55, 0.55, 0.7, 0.65, 0.6, 0.75, 0.55, 0.4, 0.55, 0.5, 0.45, 0.45, 0.5, 0.4, 0.65, 0.4, 0.45, 0.45, 0.4, 0.45, 0.6, 0.4, 0.45, 0.55, 0.6, 0.5, 0.35, 0.55, 0.5, 0.55, 0.65, 0.4, 0.7, 0.5, 0.5, 0.55, 0.55, 0.6, 0.65, 0.55, 0.4, 0.4, 0.4, 0.55, 0.5, 0.45, 0.45, 0.35, 0.4, 0.65, 0.45, 0.4, 0.5, 0.65, 0.7, 0.4, 0.45, 0.45, 0.5, 0.3, 0.45, 0.55, 0.55, 0.6, 0.45, 0.55, 0.55, 0.55, 0.35, 0.65, 0.7, 0.7, 0.45, 0.55, 0.6, 0.7, 0.45, 0.4, 0.65, 0.6, 0.6, 0.55, 0.55, 0.5, 0.5, 0.55, 0.6, 0.7, 0.6, 0.35, 0.55, 0.35, 0.6, 0.45, 0.65, 0.6, 0.6, 0.45, 0.55, 0.5, 0.45, 0.45, 0.5, 0.4, 0.45, 0.45, 0.55, 0.55, 0.75, 0.45, 0.3, 0.4, 0.55, 0.4, 0.4, 0.65, 0.25, 0.65, 0.65, 0.55, 0.6, 0.5, 0.45, 0.55, 0.6, 0.65, 0.6, 0.45, 0.35, 0.55, 0.55, 0.45, 0.45, 0.5, 0.45, 0.5, 0.6, 0.35, 0.4, 0.5, 0.55, 0.5, 0.6, 0.55, 0.5, 0.45, 0.45, 0.45, 0.55, 0.55, 0.15, 0.6, 0.3, 0.4, 0.25, 0.4, 0.6, 0.6, 0.55, 0.5, 0.4, 0.35, 0.4, 0.65, 0.65, 0.35, 0.5, 0.35, 0.65, 0.5, 0.5, 0.35, 0.45, 0.5, 0.45, 0.55, 0.6, 0.4, 0.5, 0.45, 0.45, 0.5, 0.45, 0.4, 0.45, 0.55, 0.5, 0.45, 0.45, 0.55, 0.7, 0.4, 0.55, 0.6, 0.5, 0.8, 0.6, 0.5, 0.65, 0.55, 0.35, 0.6, 0.6, 0.45, 0.6, 0.55, 0.4, 0.45, 0.55, 0.4, 0.5, 0.5, 0.5, 0.45, 0.45, 0.7, 0.7, 0.45, 0.5, 0.45, 0.5, 0.4, 0.45, 0.6, 0.4, 0.45, 0.2, 0.55, 0.7, 0.5, 0.5, 0.45, 0.35, 0.4, 0.35, 0.6, 0.4, 0.45, 0.4, 0.6, 0.45, 0.5, 0.5, 0.5, 0.4, 0.4, 0.5, 0.45, 0.5, 0.4, 0.7, 0.65, 0.4, 0.45, 0.25, 0.55, 0.45, 0.5, 0.5, 0.55, 0.6, 0.4, 0.65, 0.5, 0.45, 0.4, 0.45, 0.5, 0.4, 0.55, 0.7, 0.5, 0.55, 0.6, 0.4, 0.5, 0.6, 0.6, 0.6, 0.45, 0.7, 0.5, 0.7, 0.55, 0.5, 0.7, 0.55, 0.45, 0.55, 0.6, 0.25, 0.3, 0.75, 0.55, 0.75, 0.4, 0.55, 0.25, 0.45, 0.3, 0.55, 0.45, 0.6, 0.45, 0.4, 0.5, 0.75, 0.55, 0.65, 0.55, 0.55, 0.35, 0.4, 0.7, 0.55, 0.35, 0.5, 0.4, 0.65, 0.45, 0.6, 0.45, 0.6, 0.65, 0.5, 0.3, 0.3, 0.5, 0.4, 0.4, 0.5, 0.55, 0.7, 0.55, 0.5, 0.4, 0.55, 0.4, 0.5, 0.45, 0.45, 0.7, 0.7, 0.7, 0.55, 0.5, 0.45, 0.6, 0.6, 0.6, 0.5, 0.6, 0.45, 0.5, 0.55, 0.4, 0.55, 0.25, 0.6, 0.5, 0.55, 0.35, 0.45, 0.4, 0.35, 0.55, 0.45, 0.55, 0.4, 0.3, 0.45, 0.4, 0.4, 0.55, 0.3, 0.45, 0.65, 0.55, 0.4, 0.5, 0.5, 0.45, 0.4, 0.35, 0.55, 0.6, 0.3, 0.7, 0.4, 0.55, 0.5, 0.55, 0.5, 0.45, 0.5, 0.5, 0.55, 0.6, 0.45, 0.25, 0.65, 0.5, 0.6, 0.6, 0.4, 0.5, 0.65, 0.55, 0.45, 0.25, 0.5, 0.4, 0.65, 0.4, 0.45, 0.5, 0.75, 0.45, 0.8, 0.55, 0.55, 0.45, 0.65, 0.6, 0.55, 0.3, 0.55, 0.45, 0.55, 0.35, 0.5, 0.5, 0.5, 0.5, 0.45, 0.5, 0.5, 0.6, 0.65, 0.45, 0.55, 0.25, 0.55, 0.65, 0.45, 0.6, 0.6, 0.6, 0.55, 0.6, 0.55, 0.5, 0.45, 0.5, 0.65, 0.7, 0.4, 0.5, 0.6, 0.4, 0.4, 0.45, 0.3, 0.65, 0.5, 0.65, 0.65, 0.4, 0.5, 0.6, 0.4, 0.3, 0.45, 0.55, 0.5, 0.5, 0.4, 0.7, 0.4, 0.5, 0.5, 0.45, 0.55, 0.55, 0.55, 0.6, 0.45, 0.55, 0.45, 0.35, 0.45, 0.35, 0.5, 0.5, 0.4, 0.4, 0.4, 0.8, 0.65, 0.5, 0.65, 0.45, 0.4, 0.4, 0.55, 0.7, 0.45, 0.6, 0.65, 0.5, 0.6, 0.6, 0.55, 0.25, 0.45, 0.45, 0.35, 0.45, 0.65, 0.4, 0.45, 0.45, 0.5, 0.45, 0.4, 0.5, 0.55, 0.45, 0.3, 0.45, 0.35, 0.45, 0.5, 0.4, 0.5, 0.5, 0.45, 0.5, 0.6, 0.3, 0.65, 0.6, 0.5, 0.65, 0.55, 0.55, 0.35, 0.85, 0.5, 0.5, 0.45, 0.5, 0.5, 0.55, 0.5, 0.35, 0.3, 0.3, 0.75, 0.6, 0.6, 0.55, 0.7, 0.45, 0.55, 0.3, 0.45, 0.45, 0.45, 0.4, 0.65, 0.3, 0.55, 0.4, 0.45, 0.35, 0.4, 0.65, 0.6, 0.75, 0.6, 0.55, 0.55, 0.45, 0.7, 0.55, 0.5, 0.5, 0.65, 0.45, 0.45, 0.6, 0.35, 0.35, 0.45, 0.55, 0.6, 0.55, 0.6, 0.45, 0.35, 0.65, 0.45, 0.55, 0.75, 0.4, 0.45, 0.35, 0.35, 0.6, 0.4, 0.65, 0.75, 0.45, 0.55, 0.45, 0.3, 0.5, 0.55, 0.55, 0.35, 0.5, 0.5, 0.7, 0.4, 0.5, 0.4, 0.5, 0.7, 0.55, 0.3, 0.55, 0.35, 0.45, 0.5, 0.4, 0.65, 0.5, 0.55, 0.45, 0.4, 0.55, 0.45, 0.55, 0.45, 0.45, 0.7, 0.4, 0.45, 0.55, 0.45, 0.55, 0.7, 0.45, 0.6, 0.4, 0.5, 0.55, 0.4, 0.45, 0.6, 0.4, 0.4, 0.55, 0.45, 0.3, 0.5, 0.6, 0.45, 0.45, 0.45, 0.65, 0.3, 0.65, 0.45, 0.45, 0.5, 0.45, 0.5, 0.5, 0.5, 0.4, 0.6, 0.55, 0.35, 0.55, 0.45, 0.25, 0.65, 0.6, 0.55, 0.45, 0.6, 0.45, 0.5, 0.55, 0.6, 0.6, 0.45, 0.45, 0.35, 0.5, 0.45, 0.45, 0.6, 0.35, 0.65, 0.45, 0.65, 0.3, 0.65, 0.4, 0.55, 0.6, 0.55, 0.5, 0.6, 0.5, 0.3, 0.35, 0.55, 0.4, 0.4, 0.8, 0.45, 0.65, 0.5, 0.4, 0.45, 0.35, 0.5, 0.65, 0.75, 0.45, 0.55, 0.55, 0.5, 0.65, 0.6, 0.3, 0.5, 0.45, 0.5, 0.8, 0.65, 0.45, 0.45, 0.4, 0.65, 0.65, 0.5, 0.45, 0.55, 0.6, 0.8, 0.45, 0.5, 0.55, 0.45, 0.35, 0.6, 0.6, 0.8, 0.5, 0.5, 0.5, 0.5, 0.3, 0.4, 0.4, 0.55, 0.65, 0.55, 0.45, 0.5, 0.5, 0.75, 0.65, 0.55, 0.6, 0.55, 0.45, 0.65, 0.45, 0.5, 0.45, 0.45, 0.65, 0.35, 0.45, 0.45, 0.55, 0.5, 0.3, 0.6, 0.45, 0.55, 0.7, 0.4, 0.35, 0.55, 0.35, 0.65, 0.55, 0.65, 0.5, 0.45, 0.45, 0.45, 0.55, 0.6, 0.55, 0.6, 0.35, 0.5, 0.6, 0.6, 0.55, 0.6, 0.75, 0.65, 0.5, 0.65, 0.55, 0.5, 0.75, 0.4, 0.5, 0.4, 0.55, 0.6, 0.45, 0.6, 0.45, 0.45, 0.6, 0.45, 0.4, 0.55, 0.6, 0.4, 0.4, 0.45, 0.6, 0.45, 0.25, 0.55, 0.5, 0.25, 0.5, 0.55, 0.7, 0.5, 0.45, 0.55, 0.45, 0.5, 0.6, 0.45, 0.65, 0.65, 0.4, 0.75, 0.35, 0.65, 0.35, 0.5, 0.45, 0.55, 0.6, 0.4, 0.55, 0.7, 0.5, 0.65, 0.45, 0.5, 0.45, 0.4, 0.6, 0.45, 0.45, 0.5, 0.4, 0.5, 0.45, 0.45, 0.55, 0.55, 0.4, 0.55, 0.6, 0.45, 0.5, 0.5, 0.5, 0.45, 0.45, 0.7, 0.7, 0.55, 0.45, 0.45, 0.7, 0.5, 0.45, 0.3, 0.3, 0.45, 0.7, 0.45, 0.55, 0.45, 0.6, 0.35, 0.5, 0.45, 0.25, 0.4, 0.6, 0.6, 0.5, 0.35, 0.55, 0.5, 0.6, 0.6, 0.55, 0.35, 0.35, 0.6, 0.6, 0.5, 0.4, 0.45, 0.65, 0.55, 0.55, 0.5, 0.1, 0.55, 0.65, 0.5, 0.5, 0.6, 0.4, 0.4, 0.5, 0.7, 0.85, 0.65, 0.55, 0.45, 0.6, 0.55, 0.4, 0.65, 0.3, 0.4, 0.55, 0.5, 0.65, 0.35, 0.6, 0.85, 0.2, 0.7, 0.3, 0.2, 0.4, 0.45, 0.7, 0.5, 0.55, 0.7, 0.55, 0.55, 0.5, 0.4, 0.75, 0.55, 0.35, 0.7, 0.25, 0.45, 0.65, 0.55, 0.6, 0.4, 0.65, 0.6, 0.55, 0.6, 0.5, 0.55, 0.2, 0.25, 0.4, 0.65, 0.4, 0.55, 0.45, 0.4, 0.45, 0.5, 0.7, 0.45, 0.55, 0.4, 0.6, 0.55, 0.5, 0.55, 0.6, 0.45, 0.45, 0.3, 0.35, 0.45, 0.45, 0.75, 0.5, 0.5, 0.6, 0.65, 0.6, 0.65, 0.35, 0.35, 0.4, 0.25, 0.4, 0.35, 0.45, 0.65, 0.45, 0.35, 0.5, 0.75, 0.3, 0.4, 0.6, 0.6, 0.35, 0.55, 0.6, 0.55, 0.55, 0.5, 0.55, 0.6, 0.5, 0.5, 0.3, 0.35, 0.5, 0.6, 0.45, 0.5, 0.55, 0.35, 0.4, 0.45, 0.55, 0.65, 0.75, 0.5, 0.55, 0.4, 0.55, 0.6, 0.5, 0.45, 0.7, 0.45, 0.45, 0.25, 0.45, 0.35, 0.5, 0.35, 0.35, 0.3, 0.4, 0.5, 0.45, 0.4, 0.5, 0.4, 0.55, 0.6, 0.35, 0.35, 0.65, 0.6, 0.55, 0.45, 0.45, 0.65, 0.5, 0.55, 0.85, 0.45, 0.5, 0.4, 0.6, 0.6, 0.35, 0.55, 0.25, 0.6, 0.35, 0.55, 0.3, 0.4, 0.35, 0.5, 0.65, 0.4, 0.5, 0.5, 0.35, 0.2, 0.55, 0.65, 0.3, 0.6, 0.35, 0.45, 0.45, 0.65, 0.45, 0.65, 0.55, 0.25, 0.5, 0.5, 0.55, 0.6, 0.45, 0.4, 0.5, 0.5, 0.65, 0.55, 0.45, 0.4, 0.4, 0.55, 0.6, 0.5, 0.55, 0.45, 0.65, 0.35, 0.5, 0.4, 0.4, 0.4, 0.5, 0.35, 0.45, 0.5, 0.55, 0.5, 0.65, 0.5, 0.45, 0.5, 0.55, 0.65, 0.55, 0.45, 0.5, 0.65, 0.3, 0.6, 0.5, 0.55, 0.5, 0.3, 0.45, 0.4, 0.35, 0.45, 0.35, 0.55, 0.5, 0.5, 0.45, 0.35, 0.3, 0.5, 0.35, 0.5, 0.65, 0.5, 0.25, 0.5, 0.45, 0.8, 0.5, 0.45, 0.45, 0.4, 0.6, 0.35, 0.4, 0.65, 0.35, 0.55, 0.55, 0.4, 0.35, 0.55, 0.4, 0.45, 0.45, 0.65, 0.4, 0.55, 0.45, 0.45, 0.3, 0.45, 0.65, 0.4, 0.65, 0.55, 0.45, 0.6, 0.55, 0.4, 0.55, 0.4, 0.6, 0.5, 0.45, 0.6, 0.6, 0.5, 0.4, 0.55, 0.6, 0.55, 0.25, 0.4, 0.55, 0.25, 0.4, 0.65, 0.7, 0.4, 0.5, 0.3, 0.55, 0.45, 0.5, 0.65, 0.4, 0.4, 0.35, 0.4, 0.6, 0.45, 0.45, 0.3, 0.4, 0.45, 0.55, 0.55, 0.35, 0.35, 0.65, 0.3, 0.45, 0.45, 0.6, 0.5, 0.65, 0.3, 0.55, 0.5, 0.4, 0.3, 0.45, 0.55, 0.45, 0.4, 0.7, 0.4, 0.6, 0.3, 0.4, 0.5, 0.4, 0.45, 0.6, 0.7, 0.6, 0.55, 0.65, 0.6, 0.5, 0.45, 0.65, 0.5, 0.65, 0.4, 0.45, 0.4, 0.75, 0.4, 0.45, 0.4, 0.5, 0.45, 0.5, 0.65, 0.55, 0.55, 0.45, 0.6, 0.6, 0.25, 0.4, 0.6, 0.5, 0.55, 0.55, 0.7, 0.55, 0.5, 0.5, 0.65, 0.7, 0.6, 0.5, 0.45, 0.5, 0.65, 0.7, 0.45, 0.5, 0.75, 0.5, 0.5, 0.25, 0.5, 0.4, 0.35, 0.6, 0.55, 0.6, 0.55, 0.55, 0.4, 0.65, 0.5, 0.55, 0.5, 0.6, 0.7, 0.35, 0.5, 0.5, 0.4, 0.4, 0.5, 0.4, 0.5, 0.5, 0.3, 0.55, 0.45, 0.55, 0.5, 0.45, 0.45, 0.6, 0.45, 0.7, 0.25, 0.35, 0.5, 0.75, 0.65, 0.2, 0.45, 0.6, 0.6, 0.5, 0.5, 0.6, 0.3, 0.5, 0.6, 0.5, 0.55, 0.45, 0.45, 0.3, 0.35, 0.55, 0.35, 0.45, 0.5, 0.6, 0.55, 0.6, 0.5, 0.5, 0.6, 0.5, 0.5, 0.6, 0.4, 0.45, 0.4, 0.5, 0.35, 0.6, 0.35, 0.6, 0.35, 0.45, 0.6, 0.6, 0.45, 0.55, 0.55, 0.65, 0.6, 0.35, 0.45, 0.3, 0.35, 0.35, 0.4, 0.5, 0.5, 0.5, 0.5, 0.8, 0.6, 0.6, 0.55, 0.75, 0.4, 0.6, 0.6, 0.55, 0.6, 0.45, 0.5, 0.45, 0.55, 0.7, 0.65, 0.4, 0.45, 0.6, 0.35, 0.5, 0.6, 0.55, 0.4, 0.5, 0.35, 0.6, 0.3, 0.55, 0.5, 0.55, 0.65, 0.5, 0.7, 0.45, 0.4, 0.45, 0.65, 0.5, 0.45, 0.35, 0.45, 0.7, 0.65, 0.5, 0.4, 0.55, 0.55, 0.65, 0.5, 0.35, 0.45, 0.6, 0.6, 0.5, 0.55, 0.6, 0.45, 0.55, 0.55, 0.45, 0.6, 0.65, 0.5, 0.5, 0.6, 0.55, 0.65, 0.4, 0.55, 0.5, 0.65, 0.45, 0.55, 0.4, 0.4, 0.35, 0.65, 0.6, 0.35, 0.35, 0.6, 0.4, 0.5, 0.4, 0.35, 0.45, 0.35, 0.5, 0.45, 0.8, 0.65, 0.45, 0.5, 0.7, 0.4, 0.5, 0.55, 0.4, 0.5, 0.3, 0.35, 0.35, 0.7, 0.55, 0.45, 0.7, 0.45, 0.35, 0.4, 0.5, 0.7, 0.35, 0.55, 0.45, 0.35, 0.35, 0.7, 0.5, 0.25, 0.4, 0.4, 0.5, 0.5, 0.55, 0.6, 0.5, 0.55, 0.35, 0.55, 0.3, 0.4, 0.55, 0.6, 0.75, 0.5, 0.45, 0.5, 0.3, 0.5, 0.5, 0.45, 0.6, 0.8, 0.45, 0.5, 0.6, 0.45, 0.45, 0.45, 0.5, 0.5, 0.55, 0.65, 0.55, 0.45, 0.5, 0.55, 0.55, 0.5, 0.55, 0.25, 0.25, 0.4, 0.5, 0.65, 0.35, 0.65, 0.4, 0.45, 0.55, 0.65, 0.5, 0.4, 0.6, 0.5, 0.55, 0.65, 0.55, 0.6, 0.45, 0.6, 0.35, 0.45, 0.6, 0.65, 0.3, 0.9, 0.4, 0.4, 0.5, 0.45, 0.7, 0.6, 0.3, 0.55, 0.6, 0.65, 0.5, 0.75, 0.45, 0.35, 0.6, 0.7, 0.65, 0.6, 0.65, 0.6, 0.3, 0.4, 0.6, 0.65, 0.55, 0.5, 0.55, 0.5, 0.3, 0.45, 0.35, 0.4, 0.5, 0.3, 0.65, 0.65, 0.4, 0.4, 0.4, 0.5, 0.45, 0.45, 0.5, 0.6, 0.4, 0.4, 0.6, 0.45, 0.5, 0.45, 0.45, 0.55, 0.2, 0.45, 0.6, 0.5, 0.7, 0.3, 0.4, 0.45, 0.6, 0.45, 0.45, 0.55, 0.45, 0.6, 0.5, 0.65, 0.5, 0.55, 0.5, 0.4, 0.5, 0.55, 0.55, 0.55, 0.4, 0.35, 0.45, 0.4, 0.4, 0.4, 0.45, 0.55, 0.55, 0.6, 0.45, 0.7, 0.6, 0.55, 0.55, 0.4, 0.65, 0.55, 0.45, 0.6, 0.55, 0.55, 0.35, 0.6, 0.3, 0.65, 0.5, 0.65, 0.5, 0.6, 0.4, 0.55, 0.45, 0.35, 0.6, 0.7, 0.5, 0.6, 0.45, 0.45, 0.45, 0.55, 0.45, 0.6, 0.45, 0.45, 0.5, 0.35, 0.55, 0.5, 0.35, 0.35, 0.7, 0.65, 0.55, 0.5, 0.55, 0.45, 0.35, 0.55, 0.65, 0.6, 0.45, 0.7, 0.55, 0.55, 0.5, 0.45, 0.35, 0.35, 0.65, 0.5, 0.25, 0.6, 0.35, 0.4, 0.4, 0.5, 0.45, 0.4, 0.55, 0.65, 0.3, 0.5, 0.7, 0.4, 0.45, 0.45, 0.5, 0.55, 0.3, 0.65, 0.5, 0.6, 0.6, 0.6, 0.5, 0.65, 0.55, 0.45, 0.7, 0.55, 0.6, 0.6, 0.7, 0.55, 0.65, 0.3, 0.5, 0.55, 0.5, 0.65, 0.25, 0.45]\n"
          ],
          "name": "stdout"
        }
      ]
    },
    {
      "cell_type": "code",
      "metadata": {
        "colab_type": "code",
        "outputId": "4869a4d4-4399-4c3f-92cc-8d27131f807e",
        "id": "JdES8jXz8kAG",
        "colab": {
          "base_uri": "https://localhost:8080/",
          "height": 269
        }
      },
      "source": [
        "import matplotlib.pyplot as plt\n",
        "import seaborn as sns\n",
        "fix, ax = plt.subplots()\n",
        "for sample in [sample_means_small, sample_means_large]:\n",
        "  sns.distplot(sample)"
      ],
      "execution_count": 12,
      "outputs": [
        {
          "output_type": "display_data",
          "data": {
            "image/png": "[encoded data removed]",
            "text/plain": [
              "<Figure size 432x288 with 1 Axes>"
            ]
          },
          "metadata": {
            "tags": []
          }
        }
      ]
    },
    {
      "cell_type": "markdown",
      "metadata": {
        "id": "EYqo5vZZSFUr",
        "colab_type": "text"
      },
      "source": [
        "## Standard Error of the Mean\n",
        "\n",
        "What does it mean to \"estimate\"? the Population mean?"
      ]
    },
    {
      "cell_type": "code",
      "metadata": {
        "id": "puGXH6vbSIE4",
        "colab_type": "code",
        "colab": {
          "base_uri": "https://localhost:8080/",
          "height": 35
        },
        "outputId": "938dd388-47f6-4c5c-c96d-975050d5270d"
      },
      "source": [
        "# Calculate the sample mean for a single sample\n",
        "df.single_sample.mean()"
      ],
      "execution_count": 14,
      "outputs": [
        {
          "output_type": "execute_result",
          "data": {
            "text/plain": [
              "0.44"
            ]
          },
          "metadata": {
            "tags": []
          },
          "execution_count": 14
        }
      ]
    },
    {
      "cell_type": "markdown",
      "metadata": {
        "id": "nfdQf8QYUUmw",
        "colab_type": "text"
      },
      "source": [
        "## Build and Interpret a Confidence Interval\n",
        "\n",
        "<img src=\"https://github.com/ryanallredblog/ryanallredblog.github.io/blob/master/img/Confidence_Interval.png?raw=true\" width=400>"
      ]
    },
    {
      "cell_type": "code",
      "metadata": {
        "id": "G_tpjdlpzBfR",
        "colab_type": "code",
        "colab": {
          "base_uri": "https://localhost:8080/",
          "height": 277
        },
        "outputId": "5715cddd-ca4a-4bfb-8bec-4d285bb92d11"
      },
      "source": [
        "import numpy as np\n",
        "coinflips = np.random.binomial(n=1, p=.5, size=500)\n",
        "print(np.std(coinflips, ddof=1))\n",
        "print(coinflips)"
      ],
      "execution_count": 20,
      "outputs": [
        {
          "output_type": "stream",
          "text": [
            "0.4994746739323223\n",
            "[0 0 1 0 0 0 1 0 0 1 1 1 1 1 0 0 1 1 1 1 0 0 0 1 0 0 1 0 1 0 1 1 0 0 1 1 1\n",
            " 0 0 1 0 0 0 0 1 0 1 1 1 0 1 0 0 0 1 0 1 0 1 0 1 1 0 1 0 1 0 0 1 1 0 0 1 1\n",
            " 0 1 0 1 0 1 1 1 0 0 0 1 0 0 0 0 0 0 1 0 0 0 1 1 1 1 0 1 1 0 1 1 1 1 1 1 0\n",
            " 1 0 1 0 0 1 0 0 0 0 1 0 1 1 1 1 1 0 0 0 0 0 1 0 1 1 0 1 1 1 0 0 1 1 1 0 1\n",
            " 1 0 1 0 0 1 0 0 0 1 0 1 0 1 0 0 0 1 1 0 1 1 0 1 0 1 1 0 1 0 1 1 0 0 1 1 1\n",
            " 1 0 1 0 1 1 1 1 1 0 1 0 1 0 0 0 1 0 0 1 0 0 0 1 1 0 1 1 0 1 0 0 1 0 0 0 1\n",
            " 0 1 0 0 1 0 0 0 0 0 0 1 1 1 1 0 0 0 0 1 1 1 0 0 0 0 0 0 0 1 0 1 0 1 0 0 1\n",
            " 1 0 0 1 1 0 0 1 0 1 0 0 1 1 0 0 1 0 0 0 1 0 1 0 0 1 0 0 0 0 1 0 1 0 1 1 0\n",
            " 0 0 0 1 0 0 0 0 1 0 0 0 0 1 0 1 0 1 1 1 1 1 1 1 0 0 0 1 0 1 0 0 1 0 1 0 1\n",
            " 1 0 1 0 0 1 0 0 1 1 1 0 0 0 1 1 1 1 0 1 0 1 0 1 1 1 0 1 1 1 1 1 0 1 0 0 0\n",
            " 1 0 1 0 0 1 1 0 0 1 0 0 1 0 0 0 1 0 0 1 1 1 0 0 0 1 0 1 1 1 0 1 1 0 0 1 0\n",
            " 1 0 0 1 0 0 1 0 1 0 0 0 1 1 0 0 0 0 0 0 1 1 1 0 1 1 1 0 0 1 1 0 0 0 0 0 0\n",
            " 0 1 1 0 1 1 1 1 0 0 1 0 1 1 0 0 1 0 1 0 1 0 0 1 1 0 0 1 0 0 0 0 1 1 1 1 0\n",
            " 0 1 0 1 0 1 1 1 0 0 0 0 0 0 1 0 1 0 1]\n"
          ],
          "name": "stdout"
        }
      ]
    },
    {
      "cell_type": "code",
      "metadata": {
        "id": "tBx71Kf0UjT3",
        "colab_type": "code",
        "colab": {}
      },
      "source": [
        "import scipy.stats as stats\n",
        "\n",
        "def confidence_interval(data, confidence=0.95):\n",
        "  \"\"\"\n",
        "  Calculate a confidence interval around a sample mean for given data.\n",
        "  Using t-distribution and two-tailed test, default 95% confidence. \n",
        "  \n",
        "  Arguments:\n",
        "    data - iterable (list or numpy array) of sample observations\n",
        "    confidence - level of confidence for the interval\n",
        "  \n",
        "  Returns:\n",
        "    tuple of (mean, lower bound, upper bound)\n",
        "  \"\"\"\n",
        "  data = np.array(data)\n",
        "  mean = np.mean(data)\n",
        "  n = len(data)\n",
        "  stderr = stats.sem(data)\n",
        "  interval = stderr * stats.t.ppf((1 + confidence) / 2.0, n - 1)\n",
        "  return (mean, mean - interval, mean + interval)"
      ],
      "execution_count": 0,
      "outputs": []
    },
    {
      "cell_type": "code",
      "metadata": {
        "id": "tgU_s6PizNgf",
        "colab_type": "code",
        "colab": {
          "base_uri": "https://localhost:8080/",
          "height": 35
        },
        "outputId": "e0eba148-66ee-4cdd-e759-aea5acb64c4c"
      },
      "source": [
        "coinflips = np.random.binomial(n=1, p=.5, size=500)\n",
        "confidence_interval(coinflips)"
      ],
      "execution_count": 28,
      "outputs": [
        {
          "output_type": "execute_result",
          "data": {
            "text/plain": [
              "(0.53, 0.48610254595075325, 0.5738974540492467)"
            ]
          },
          "metadata": {
            "tags": []
          },
          "execution_count": 28
        }
      ]
    },
    {
      "cell_type": "code",
      "metadata": {
        "id": "lvQwlVK90YwO",
        "colab_type": "code",
        "colab": {
          "base_uri": "https://localhost:8080/",
          "height": 35
        },
        "outputId": "4fdade89-5ae4-42e4-d2d6-51a80374cc51"
      },
      "source": [
        "coinflips = np.random.binomial(n=1, p=.5, size=500)\n",
        "confidence_interval(coinflips)"
      ],
      "execution_count": 29,
      "outputs": [
        {
          "output_type": "execute_result",
          "data": {
            "text/plain": [
              "(0.496, 0.4520247238261776, 0.5399752761738225)"
            ]
          },
          "metadata": {
            "tags": []
          },
          "execution_count": 29
        }
      ]
    },
    {
      "cell_type": "code",
      "metadata": {
        "id": "0oRwFTRo0Z8s",
        "colab_type": "code",
        "colab": {
          "base_uri": "https://localhost:8080/",
          "height": 35
        },
        "outputId": "b89576a0-3f59-4a77-86ae-644ec6e30ee4"
      },
      "source": [
        "coinflips = np.random.binomial(n=1, p=.5, size=500)\n",
        "confidence_interval(coinflips)"
      ],
      "execution_count": 30,
      "outputs": [
        {
          "output_type": "execute_result",
          "data": {
            "text/plain": [
              "(0.564, 0.5203850613666883, 0.6076149386333116)"
            ]
          },
          "metadata": {
            "tags": []
          },
          "execution_count": 30
        }
      ]
    },
    {
      "cell_type": "code",
      "metadata": {
        "id": "yoy-VD220gJc",
        "colab_type": "code",
        "colab": {
          "base_uri": "https://localhost:8080/",
          "height": 35
        },
        "outputId": "ce2027f2-70cf-4756-a077-104302318ce2"
      },
      "source": [
        "coinflips = np.random.binomial(n=1, p=.5, size=500)\n",
        "confidence_interval(coinflips)"
      ],
      "execution_count": 31,
      "outputs": [
        {
          "output_type": "execute_result",
          "data": {
            "text/plain": [
              "(0.498, 0.45402366836466523, 0.5419763316353348)"
            ]
          },
          "metadata": {
            "tags": []
          },
          "execution_count": 31
        }
      ]
    },
    {
      "cell_type": "code",
      "metadata": {
        "id": "zBgIeQ1-0hVk",
        "colab_type": "code",
        "colab": {
          "base_uri": "https://localhost:8080/",
          "height": 35
        },
        "outputId": "01510f1d-42ee-4732-9876-f5b96c8dea21"
      },
      "source": [
        "coinflips = np.random.binomial(n=1, p=.5, size=500)\n",
        "confidence_interval(coinflips)"
      ],
      "execution_count": 32,
      "outputs": [
        {
          "output_type": "execute_result",
          "data": {
            "text/plain": [
              "(0.508, 0.46402894592557514, 0.5519710540744249)"
            ]
          },
          "metadata": {
            "tags": []
          },
          "execution_count": 32
        }
      ]
    },
    {
      "cell_type": "markdown",
      "metadata": {
        "id": "N0V_Iz950ntT",
        "colab_type": "text"
      },
      "source": [
        "## Looking at stats.t.ppf\n"
      ]
    },
    {
      "cell_type": "code",
      "metadata": {
        "id": "UKGnV2Tn0kIs",
        "colab_type": "code",
        "colab": {
          "base_uri": "https://localhost:8080/",
          "height": 35
        },
        "outputId": "d8a2fffa-0fbd-4679-9a81-9d4195005342"
      },
      "source": [
        "# stats.t.ppf(# probability cutoff, # degrees of freedom)\n",
        "\n",
        "# 95% confidence level -> .025\n",
        "\n",
        "# 1 - confidence_level == .05 / 2 -> .025\n",
        "\n",
        "confidence_level = .95\n",
        "dof = 42-1\n",
        "\n",
        "stats.t.ppf((1 + confidence_level) / 2, dof)"
      ],
      "execution_count": 33,
      "outputs": [
        {
          "output_type": "execute_result",
          "data": {
            "text/plain": [
              "2.0195409639828936"
            ]
          },
          "metadata": {
            "tags": []
          },
          "execution_count": 33
        }
      ]
    },
    {
      "cell_type": "markdown",
      "metadata": {
        "id": "C4rtc8luVUAK",
        "colab_type": "text"
      },
      "source": [
        "## Graphically Represent a Confidence Interval"
      ]
    },
    {
      "cell_type": "code",
      "metadata": {
        "id": "pz6F9_3_VmKr",
        "colab_type": "code",
        "colab": {
          "base_uri": "https://localhost:8080/",
          "height": 269
        },
        "outputId": "b43bede9-45e7-41d2-e826-a867ee046b00"
      },
      "source": [
        "import seaborn as sns\n",
        "coinflips_42 = np.random.binomial(n=1, p=.5, size=42)\n",
        "sns.kdeplot(coinflips_42)\n",
        "CI = confidence_interval(coinflips_42)\n",
        "plt.axvline(x=CI[1], color='red')\n",
        "plt.axvline(x=CI[2], color='red')\n",
        "plt.axvline(x=CI[0], color='k');"
      ],
      "execution_count": 34,
      "outputs": [
        {
          "output_type": "display_data",
          "data": {
            "image/png": "[encoded data removed]",
            "text/plain": [
              "<Figure size 432x288 with 1 Axes>"
            ]
          },
          "metadata": {
            "tags": []
          }
        }
      ]
    },
    {
      "cell_type": "markdown",
      "metadata": {
        "id": "_oy0uoBGeoEb",
        "colab_type": "text"
      },
      "source": [
        "## Relationship between Confidence Intervals and T-tests\n",
        "\n",
        "Confidence Interval == Bounds of statistical significance for our t-test\n",
        "\n",
        "A sample mean that falls inside of our confidence interval will \"FAIL TO REJECT\" our null hypothesis\n",
        "\n",
        "A sample mean that falls outside of our confidence interval will \"REJECT\" our null hypothesis"
      ]
    },
    {
      "cell_type": "code",
      "metadata": {
        "id": "izIyVavzfCXS",
        "colab_type": "code",
        "colab": {}
      },
      "source": [
        "from scipy.stats import t, ttest_1samp"
      ],
      "execution_count": 0,
      "outputs": []
    },
    {
      "cell_type": "code",
      "metadata": {
        "id": "Y7HwdMwDfL1N",
        "colab_type": "code",
        "outputId": "fb4d02cc-cc64-4d7c-fa3e-3d5a35c6d4b0",
        "colab": {
          "base_uri": "https://localhost:8080/",
          "height": 55
        }
      },
      "source": [
        "import numpy as np\n",
        "\n",
        "coinflip_means = []\n",
        "for x in range(0,100):\n",
        "  coinflips = np.random.binomial(n=1, p=.5, size=30)\n",
        "  coinflip_means.append(coinflips.mean())\n",
        "\n",
        "print(coinflip_means)"
      ],
      "execution_count": 36,
      "outputs": [
        {
          "output_type": "stream",
          "text": [
            "[0.36666666666666664, 0.5, 0.36666666666666664, 0.5, 0.4666666666666667, 0.4666666666666667, 0.5, 0.4, 0.43333333333333335, 0.5, 0.5333333333333333, 0.5666666666666667, 0.5, 0.43333333333333335, 0.4666666666666667, 0.5, 0.5333333333333333, 0.6, 0.5, 0.5666666666666667, 0.6666666666666666, 0.4666666666666667, 0.4, 0.7333333333333333, 0.43333333333333335, 0.7, 0.36666666666666664, 0.4666666666666667, 0.43333333333333335, 0.36666666666666664, 0.6333333333333333, 0.6, 0.5666666666666667, 0.4666666666666667, 0.5333333333333333, 0.4, 0.43333333333333335, 0.4, 0.6333333333333333, 0.3333333333333333, 0.4666666666666667, 0.4666666666666667, 0.5333333333333333, 0.43333333333333335, 0.4666666666666667, 0.43333333333333335, 0.6, 0.5, 0.6666666666666666, 0.5333333333333333, 0.5666666666666667, 0.43333333333333335, 0.5333333333333333, 0.5, 0.5666666666666667, 0.5666666666666667, 0.5333333333333333, 0.4666666666666667, 0.5333333333333333, 0.6, 0.6, 0.5333333333333333, 0.3333333333333333, 0.4666666666666667, 0.5, 0.5333333333333333, 0.5666666666666667, 0.5, 0.6, 0.6333333333333333, 0.4, 0.6, 0.5, 0.43333333333333335, 0.5666666666666667, 0.4666666666666667, 0.4666666666666667, 0.43333333333333335, 0.5, 0.6333333333333333, 0.5333333333333333, 0.5, 0.5333333333333333, 0.5333333333333333, 0.5333333333333333, 0.4666666666666667, 0.43333333333333335, 0.4, 0.36666666666666664, 0.5333333333333333, 0.5333333333333333, 0.6666666666666666, 0.3, 0.43333333333333335, 0.6, 0.8, 0.5666666666666667, 0.36666666666666664, 0.4666666666666667, 0.4]\n"
          ],
          "name": "stdout"
        }
      ]
    },
    {
      "cell_type": "code",
      "metadata": {
        "id": "nQDo-ZXlfOvR",
        "colab_type": "code",
        "outputId": "113ef404-fe89-4c5e-8be2-823d39ccaa5f",
        "colab": {
          "base_uri": "https://localhost:8080/",
          "height": 35
        }
      },
      "source": [
        "# Sample Size\n",
        "n = len(coinflip_means)\n",
        "# Degrees of Freedom\n",
        "dof = n-1\n",
        "# The Mean of Means:\n",
        "mean = np.mean(coinflip_means)\n",
        "# Sample Standard Deviation\n",
        "sample_std = np.std(coinflip_means, ddof=1)\n",
        "# Standard Error\n",
        "std_err = sample_std/n**.5\n",
        "\n",
        "CI = t.interval(.95, dof, loc=mean, scale=std_err)\n",
        "print(\"95% Confidence Interval: \", CI)"
      ],
      "execution_count": 37,
      "outputs": [
        {
          "output_type": "stream",
          "text": [
            "95% Confidence Interval:  (0.485635358155927, 0.5216979751774063)\n"
          ],
          "name": "stdout"
        }
      ]
    },
    {
      "cell_type": "code",
      "metadata": {
        "id": "PiaALHSNfWou",
        "colab_type": "code",
        "outputId": "612dbe6c-be4e-4cbb-9aeb-81309fb54529",
        "colab": {
          "base_uri": "https://localhost:8080/",
          "height": 52
        }
      },
      "source": [
        "'''You can roll your own CI calculation pretty easily. \n",
        "The only thing that's a little bit challenging \n",
        "is understanding the t stat lookup'''\n",
        "\n",
        "# 95% confidence interval\n",
        "t_stat = t.ppf(.975, dof)\n",
        "print(\"t Statistic:\", t_stat)\n",
        "\n",
        "CI = (mean-(t_stat*std_err), mean+(t_stat*std_err))\n",
        "print(\"Confidence Interval\", CI)"
      ],
      "execution_count": 0,
      "outputs": [
        {
          "output_type": "stream",
          "text": [
            "t Statistic: 1.9842169515086827\n",
            "Confidence Interval (0.48189276007256693, 0.5181072399274331)\n"
          ],
          "name": "stdout"
        }
      ]
    },
    {
      "cell_type": "markdown",
      "metadata": {
        "id": "EamZNJhAf-fY",
        "colab_type": "text"
      },
      "source": [
        "A null hypothesis that's just inside of our confidence interval == fail to reject\n",
        "\n"
      ]
    },
    {
      "cell_type": "code",
      "metadata": {
        "id": "cNpzYbjpfirR",
        "colab_type": "code",
        "outputId": "a115652b-5de1-4f07-84e2-5fa022f8c73d",
        "colab": {
          "base_uri": "https://localhost:8080/",
          "height": 35
        }
      },
      "source": [
        "ttest_1samp(coinflip_means, .49)"
      ],
      "execution_count": 38,
      "outputs": [
        {
          "output_type": "execute_result",
          "data": {
            "text/plain": [
              "Ttest_1sampResult(statistic=1.503919233286211, pvalue=0.1357857240868549)"
            ]
          },
          "metadata": {
            "tags": []
          },
          "execution_count": 38
        }
      ]
    },
    {
      "cell_type": "markdown",
      "metadata": {
        "id": "hO34mbL9gHn1",
        "colab_type": "text"
      },
      "source": [
        "A null hypothesis that's just outside of our confidence interval == reject\n",
        "\n"
      ]
    },
    {
      "cell_type": "code",
      "metadata": {
        "id": "N4SUjj82gKlv",
        "colab_type": "code",
        "outputId": "6e69c24b-0b39-4f11-861a-ce2e96b9018e",
        "colab": {
          "base_uri": "https://localhost:8080/",
          "height": 35
        }
      },
      "source": [
        "ttest_1samp(coinflip_means, .4818927)"
      ],
      "execution_count": 39,
      "outputs": [
        {
          "output_type": "execute_result",
          "data": {
            "text/plain": [
              "Ttest_1sampResult(statistic=2.396069799141423, pvalue=0.01845043247865314)"
            ]
          },
          "metadata": {
            "tags": []
          },
          "execution_count": 39
        }
      ]
    },
    {
      "cell_type": "markdown",
      "metadata": {
        "colab_type": "text",
        "id": "JZ0OsOkE3SXn"
      },
      "source": [
        "## Run a $\\chi^{2}$ Test \"by hand\" (Using Numpy)\n",
        "\n",
        "\\begin{align}\n",
        "\\chi^2 = \\sum \\frac{(observed_{ij}-expected_{ij})^2}{(expected_{ij})}\n",
        "\\end{align}\n"
      ]
    },
    {
      "cell_type": "code",
      "metadata": {
        "id": "DDsovHUyUj3v",
        "colab_type": "code",
        "colab": {
          "base_uri": "https://localhost:8080/",
          "height": 361
        },
        "outputId": "5b536c25-d2ee-4c17-9c15-13e91494ba62"
      },
      "source": [
        "df = pd.read_csv('https://raw.githubusercontent.com/ryanleeallred/datasets/master/adult.csv', na_values=\" ?\")\n",
        "print(df.shape)\n",
        "df.head()"
      ],
      "execution_count": 40,
      "outputs": [
        {
          "output_type": "stream",
          "text": [
            "(32561, 15)\n"
          ],
          "name": "stdout"
        },
        {
          "output_type": "execute_result",
          "data": {
            "text/html": [
              "<div>\n",
              "<style scoped>\n",
              "    .dataframe tbody tr th:only-of-type {\n",
              "        vertical-align: middle;\n",
              "    }\n",
              "\n",
              "    .dataframe tbody tr th {\n",
              "        vertical-align: top;\n",
              "    }\n",
              "\n",
              "    .dataframe thead th {\n",
              "        text-align: right;\n",
              "    }\n",
              "</style>\n",
              "<table border=\"1\" class=\"dataframe\">\n",
              "  <thead>\n",
              "    <tr style=\"text-align: right;\">\n",
              "      <th></th>\n",
              "      <th>age</th>\n",
              "      <th>workclass</th>\n",
              "      <th>fnlwgt</th>\n",
              "      <th>education</th>\n",
              "      <th>education-num</th>\n",
              "      <th>marital-status</th>\n",
              "      <th>occupation</th>\n",
              "      <th>relationship</th>\n",
              "      <th>race</th>\n",
              "      <th>sex</th>\n",
              "      <th>capital-gain</th>\n",
              "      <th>capital-loss</th>\n",
              "      <th>hours-per-week</th>\n",
              "      <th>country</th>\n",
              "      <th>salary</th>\n",
              "    </tr>\n",
              "  </thead>\n",
              "  <tbody>\n",
              "    <tr>\n",
              "      <th>0</th>\n",
              "      <td>39</td>\n",
              "      <td>State-gov</td>\n",
              "      <td>77516</td>\n",
              "      <td>Bachelors</td>\n",
              "      <td>13</td>\n",
              "      <td>Never-married</td>\n",
              "      <td>Adm-clerical</td>\n",
              "      <td>Not-in-family</td>\n",
              "      <td>White</td>\n",
              "      <td>Male</td>\n",
              "      <td>2174</td>\n",
              "      <td>0</td>\n",
              "      <td>40</td>\n",
              "      <td>United-States</td>\n",
              "      <td>&lt;=50K</td>\n",
              "    </tr>\n",
              "    <tr>\n",
              "      <th>1</th>\n",
              "      <td>50</td>\n",
              "      <td>Self-emp-not-inc</td>\n",
              "      <td>83311</td>\n",
              "      <td>Bachelors</td>\n",
              "      <td>13</td>\n",
              "      <td>Married-civ-spouse</td>\n",
              "      <td>Exec-managerial</td>\n",
              "      <td>Husband</td>\n",
              "      <td>White</td>\n",
              "      <td>Male</td>\n",
              "      <td>0</td>\n",
              "      <td>0</td>\n",
              "      <td>13</td>\n",
              "      <td>United-States</td>\n",
              "      <td>&lt;=50K</td>\n",
              "    </tr>\n",
              "    <tr>\n",
              "      <th>2</th>\n",
              "      <td>38</td>\n",
              "      <td>Private</td>\n",
              "      <td>215646</td>\n",
              "      <td>HS-grad</td>\n",
              "      <td>9</td>\n",
              "      <td>Divorced</td>\n",
              "      <td>Handlers-cleaners</td>\n",
              "      <td>Not-in-family</td>\n",
              "      <td>White</td>\n",
              "      <td>Male</td>\n",
              "      <td>0</td>\n",
              "      <td>0</td>\n",
              "      <td>40</td>\n",
              "      <td>United-States</td>\n",
              "      <td>&lt;=50K</td>\n",
              "    </tr>\n",
              "    <tr>\n",
              "      <th>3</th>\n",
              "      <td>53</td>\n",
              "      <td>Private</td>\n",
              "      <td>234721</td>\n",
              "      <td>11th</td>\n",
              "      <td>7</td>\n",
              "      <td>Married-civ-spouse</td>\n",
              "      <td>Handlers-cleaners</td>\n",
              "      <td>Husband</td>\n",
              "      <td>Black</td>\n",
              "      <td>Male</td>\n",
              "      <td>0</td>\n",
              "      <td>0</td>\n",
              "      <td>40</td>\n",
              "      <td>United-States</td>\n",
              "      <td>&lt;=50K</td>\n",
              "    </tr>\n",
              "    <tr>\n",
              "      <th>4</th>\n",
              "      <td>28</td>\n",
              "      <td>Private</td>\n",
              "      <td>338409</td>\n",
              "      <td>Bachelors</td>\n",
              "      <td>13</td>\n",
              "      <td>Married-civ-spouse</td>\n",
              "      <td>Prof-specialty</td>\n",
              "      <td>Wife</td>\n",
              "      <td>Black</td>\n",
              "      <td>Female</td>\n",
              "      <td>0</td>\n",
              "      <td>0</td>\n",
              "      <td>40</td>\n",
              "      <td>Cuba</td>\n",
              "      <td>&lt;=50K</td>\n",
              "    </tr>\n",
              "  </tbody>\n",
              "</table>\n",
              "</div>"
            ],
            "text/plain": [
              "   age          workclass  fnlwgt  ... hours-per-week         country  salary\n",
              "0   39          State-gov   77516  ...             40   United-States   <=50K\n",
              "1   50   Self-emp-not-inc   83311  ...             13   United-States   <=50K\n",
              "2   38            Private  215646  ...             40   United-States   <=50K\n",
              "3   53            Private  234721  ...             40   United-States   <=50K\n",
              "4   28            Private  338409  ...             40            Cuba   <=50K\n",
              "\n",
              "[5 rows x 15 columns]"
            ]
          },
          "metadata": {
            "tags": []
          },
          "execution_count": 40
        }
      ]
    },
    {
      "cell_type": "code",
      "metadata": {
        "id": "sIDT7qtr3vMX",
        "colab_type": "code",
        "colab": {
          "base_uri": "https://localhost:8080/",
          "height": 331
        },
        "outputId": "2cf47145-f6da-42e2-e13c-2c12238e0cfc"
      },
      "source": [
        "df.describe()"
      ],
      "execution_count": 41,
      "outputs": [
        {
          "output_type": "execute_result",
          "data": {
            "text/html": [
              "<div>\n",
              "<style scoped>\n",
              "    .dataframe tbody tr th:only-of-type {\n",
              "        vertical-align: middle;\n",
              "    }\n",
              "\n",
              "    .dataframe tbody tr th {\n",
              "        vertical-align: top;\n",
              "    }\n",
              "\n",
              "    .dataframe thead th {\n",
              "        text-align: right;\n",
              "    }\n",
              "</style>\n",
              "<table border=\"1\" class=\"dataframe\">\n",
              "  <thead>\n",
              "    <tr style=\"text-align: right;\">\n",
              "      <th></th>\n",
              "      <th>age</th>\n",
              "      <th>fnlwgt</th>\n",
              "      <th>education-num</th>\n",
              "      <th>capital-gain</th>\n",
              "      <th>capital-loss</th>\n",
              "      <th>hours-per-week</th>\n",
              "    </tr>\n",
              "  </thead>\n",
              "  <tbody>\n",
              "    <tr>\n",
              "      <th>count</th>\n",
              "      <td>32561.000000</td>\n",
              "      <td>3.256100e+04</td>\n",
              "      <td>32561.000000</td>\n",
              "      <td>32561.000000</td>\n",
              "      <td>32561.000000</td>\n",
              "      <td>32561.000000</td>\n",
              "    </tr>\n",
              "    <tr>\n",
              "      <th>mean</th>\n",
              "      <td>38.581647</td>\n",
              "      <td>1.897784e+05</td>\n",
              "      <td>10.080679</td>\n",
              "      <td>1077.648844</td>\n",
              "      <td>87.303830</td>\n",
              "      <td>40.437456</td>\n",
              "    </tr>\n",
              "    <tr>\n",
              "      <th>std</th>\n",
              "      <td>13.640433</td>\n",
              "      <td>1.055500e+05</td>\n",
              "      <td>2.572720</td>\n",
              "      <td>7385.292085</td>\n",
              "      <td>402.960219</td>\n",
              "      <td>12.347429</td>\n",
              "    </tr>\n",
              "    <tr>\n",
              "      <th>min</th>\n",
              "      <td>17.000000</td>\n",
              "      <td>1.228500e+04</td>\n",
              "      <td>1.000000</td>\n",
              "      <td>0.000000</td>\n",
              "      <td>0.000000</td>\n",
              "      <td>1.000000</td>\n",
              "    </tr>\n",
              "    <tr>\n",
              "      <th>25%</th>\n",
              "      <td>28.000000</td>\n",
              "      <td>1.178270e+05</td>\n",
              "      <td>9.000000</td>\n",
              "      <td>0.000000</td>\n",
              "      <td>0.000000</td>\n",
              "      <td>40.000000</td>\n",
              "    </tr>\n",
              "    <tr>\n",
              "      <th>50%</th>\n",
              "      <td>37.000000</td>\n",
              "      <td>1.783560e+05</td>\n",
              "      <td>10.000000</td>\n",
              "      <td>0.000000</td>\n",
              "      <td>0.000000</td>\n",
              "      <td>40.000000</td>\n",
              "    </tr>\n",
              "    <tr>\n",
              "      <th>75%</th>\n",
              "      <td>48.000000</td>\n",
              "      <td>2.370510e+05</td>\n",
              "      <td>12.000000</td>\n",
              "      <td>0.000000</td>\n",
              "      <td>0.000000</td>\n",
              "      <td>45.000000</td>\n",
              "    </tr>\n",
              "    <tr>\n",
              "      <th>max</th>\n",
              "      <td>90.000000</td>\n",
              "      <td>1.484705e+06</td>\n",
              "      <td>16.000000</td>\n",
              "      <td>99999.000000</td>\n",
              "      <td>4356.000000</td>\n",
              "      <td>99.000000</td>\n",
              "    </tr>\n",
              "  </tbody>\n",
              "</table>\n",
              "</div>"
            ],
            "text/plain": [
              "                age        fnlwgt  ...  capital-loss  hours-per-week\n",
              "count  32561.000000  3.256100e+04  ...  32561.000000    32561.000000\n",
              "mean      38.581647  1.897784e+05  ...     87.303830       40.437456\n",
              "std       13.640433  1.055500e+05  ...    402.960219       12.347429\n",
              "min       17.000000  1.228500e+04  ...      0.000000        1.000000\n",
              "25%       28.000000  1.178270e+05  ...      0.000000       40.000000\n",
              "50%       37.000000  1.783560e+05  ...      0.000000       40.000000\n",
              "75%       48.000000  2.370510e+05  ...      0.000000       45.000000\n",
              "max       90.000000  1.484705e+06  ...   4356.000000       99.000000\n",
              "\n",
              "[8 rows x 6 columns]"
            ]
          },
          "metadata": {
            "tags": []
          },
          "execution_count": 41
        }
      ]
    },
    {
      "cell_type": "code",
      "metadata": {
        "id": "amavVNlY355I",
        "colab_type": "code",
        "colab": {
          "base_uri": "https://localhost:8080/",
          "height": 226
        },
        "outputId": "b0cd0297-8d90-4422-f87a-df6fdcb5d5b8"
      },
      "source": [
        "df.describe(exclude='number')"
      ],
      "execution_count": 42,
      "outputs": [
        {
          "output_type": "execute_result",
          "data": {
            "text/html": [
              "<div>\n",
              "<style scoped>\n",
              "    .dataframe tbody tr th:only-of-type {\n",
              "        vertical-align: middle;\n",
              "    }\n",
              "\n",
              "    .dataframe tbody tr th {\n",
              "        vertical-align: top;\n",
              "    }\n",
              "\n",
              "    .dataframe thead th {\n",
              "        text-align: right;\n",
              "    }\n",
              "</style>\n",
              "<table border=\"1\" class=\"dataframe\">\n",
              "  <thead>\n",
              "    <tr style=\"text-align: right;\">\n",
              "      <th></th>\n",
              "      <th>workclass</th>\n",
              "      <th>education</th>\n",
              "      <th>marital-status</th>\n",
              "      <th>occupation</th>\n",
              "      <th>relationship</th>\n",
              "      <th>race</th>\n",
              "      <th>sex</th>\n",
              "      <th>country</th>\n",
              "      <th>salary</th>\n",
              "    </tr>\n",
              "  </thead>\n",
              "  <tbody>\n",
              "    <tr>\n",
              "      <th>count</th>\n",
              "      <td>30725</td>\n",
              "      <td>32561</td>\n",
              "      <td>32561</td>\n",
              "      <td>30718</td>\n",
              "      <td>32561</td>\n",
              "      <td>32561</td>\n",
              "      <td>32561</td>\n",
              "      <td>31978</td>\n",
              "      <td>32561</td>\n",
              "    </tr>\n",
              "    <tr>\n",
              "      <th>unique</th>\n",
              "      <td>8</td>\n",
              "      <td>16</td>\n",
              "      <td>7</td>\n",
              "      <td>14</td>\n",
              "      <td>6</td>\n",
              "      <td>5</td>\n",
              "      <td>2</td>\n",
              "      <td>41</td>\n",
              "      <td>2</td>\n",
              "    </tr>\n",
              "    <tr>\n",
              "      <th>top</th>\n",
              "      <td>Private</td>\n",
              "      <td>HS-grad</td>\n",
              "      <td>Married-civ-spouse</td>\n",
              "      <td>Prof-specialty</td>\n",
              "      <td>Husband</td>\n",
              "      <td>White</td>\n",
              "      <td>Male</td>\n",
              "      <td>United-States</td>\n",
              "      <td>&lt;=50K</td>\n",
              "    </tr>\n",
              "    <tr>\n",
              "      <th>freq</th>\n",
              "      <td>22696</td>\n",
              "      <td>10501</td>\n",
              "      <td>14976</td>\n",
              "      <td>4140</td>\n",
              "      <td>13193</td>\n",
              "      <td>27816</td>\n",
              "      <td>21790</td>\n",
              "      <td>29170</td>\n",
              "      <td>24720</td>\n",
              "    </tr>\n",
              "  </tbody>\n",
              "</table>\n",
              "</div>"
            ],
            "text/plain": [
              "       workclass education       marital-status  ...    sex         country  salary\n",
              "count      30725     32561                32561  ...  32561           31978   32561\n",
              "unique         8        16                    7  ...      2              41       2\n",
              "top      Private   HS-grad   Married-civ-spouse  ...   Male   United-States   <=50K\n",
              "freq       22696     10501                14976  ...  21790           29170   24720\n",
              "\n",
              "[4 rows x 9 columns]"
            ]
          },
          "metadata": {
            "tags": []
          },
          "execution_count": 42
        }
      ]
    },
    {
      "cell_type": "code",
      "metadata": {
        "id": "hexqEWws39Mi",
        "colab_type": "code",
        "colab": {
          "base_uri": "https://localhost:8080/",
          "height": 343
        },
        "outputId": "0d6776f6-3422-47b8-f274-36a209525dcb"
      },
      "source": [
        "cut_points = [0, 9, 19, 29, 39, 49, 1000]\n",
        "label_names = ['0-9', '10-19', '20-29', '30-39', '40-49', '50+']\n",
        "df['hours_per_week_categories'] = pd.cut(df['hours-per-week'], cut_points, labels=label_names)\n",
        "\n",
        "df.head()"
      ],
      "execution_count": 43,
      "outputs": [
        {
          "output_type": "execute_result",
          "data": {
            "text/html": [
              "<div>\n",
              "<style scoped>\n",
              "    .dataframe tbody tr th:only-of-type {\n",
              "        vertical-align: middle;\n",
              "    }\n",
              "\n",
              "    .dataframe tbody tr th {\n",
              "        vertical-align: top;\n",
              "    }\n",
              "\n",
              "    .dataframe thead th {\n",
              "        text-align: right;\n",
              "    }\n",
              "</style>\n",
              "<table border=\"1\" class=\"dataframe\">\n",
              "  <thead>\n",
              "    <tr style=\"text-align: right;\">\n",
              "      <th></th>\n",
              "      <th>age</th>\n",
              "      <th>workclass</th>\n",
              "      <th>fnlwgt</th>\n",
              "      <th>education</th>\n",
              "      <th>education-num</th>\n",
              "      <th>marital-status</th>\n",
              "      <th>occupation</th>\n",
              "      <th>relationship</th>\n",
              "      <th>race</th>\n",
              "      <th>sex</th>\n",
              "      <th>capital-gain</th>\n",
              "      <th>capital-loss</th>\n",
              "      <th>hours-per-week</th>\n",
              "      <th>country</th>\n",
              "      <th>salary</th>\n",
              "      <th>hours_per_week_categories</th>\n",
              "    </tr>\n",
              "  </thead>\n",
              "  <tbody>\n",
              "    <tr>\n",
              "      <th>0</th>\n",
              "      <td>39</td>\n",
              "      <td>State-gov</td>\n",
              "      <td>77516</td>\n",
              "      <td>Bachelors</td>\n",
              "      <td>13</td>\n",
              "      <td>Never-married</td>\n",
              "      <td>Adm-clerical</td>\n",
              "      <td>Not-in-family</td>\n",
              "      <td>White</td>\n",
              "      <td>Male</td>\n",
              "      <td>2174</td>\n",
              "      <td>0</td>\n",
              "      <td>40</td>\n",
              "      <td>United-States</td>\n",
              "      <td>&lt;=50K</td>\n",
              "      <td>40-49</td>\n",
              "    </tr>\n",
              "    <tr>\n",
              "      <th>1</th>\n",
              "      <td>50</td>\n",
              "      <td>Self-emp-not-inc</td>\n",
              "      <td>83311</td>\n",
              "      <td>Bachelors</td>\n",
              "      <td>13</td>\n",
              "      <td>Married-civ-spouse</td>\n",
              "      <td>Exec-managerial</td>\n",
              "      <td>Husband</td>\n",
              "      <td>White</td>\n",
              "      <td>Male</td>\n",
              "      <td>0</td>\n",
              "      <td>0</td>\n",
              "      <td>13</td>\n",
              "      <td>United-States</td>\n",
              "      <td>&lt;=50K</td>\n",
              "      <td>10-19</td>\n",
              "    </tr>\n",
              "    <tr>\n",
              "      <th>2</th>\n",
              "      <td>38</td>\n",
              "      <td>Private</td>\n",
              "      <td>215646</td>\n",
              "      <td>HS-grad</td>\n",
              "      <td>9</td>\n",
              "      <td>Divorced</td>\n",
              "      <td>Handlers-cleaners</td>\n",
              "      <td>Not-in-family</td>\n",
              "      <td>White</td>\n",
              "      <td>Male</td>\n",
              "      <td>0</td>\n",
              "      <td>0</td>\n",
              "      <td>40</td>\n",
              "      <td>United-States</td>\n",
              "      <td>&lt;=50K</td>\n",
              "      <td>40-49</td>\n",
              "    </tr>\n",
              "    <tr>\n",
              "      <th>3</th>\n",
              "      <td>53</td>\n",
              "      <td>Private</td>\n",
              "      <td>234721</td>\n",
              "      <td>11th</td>\n",
              "      <td>7</td>\n",
              "      <td>Married-civ-spouse</td>\n",
              "      <td>Handlers-cleaners</td>\n",
              "      <td>Husband</td>\n",
              "      <td>Black</td>\n",
              "      <td>Male</td>\n",
              "      <td>0</td>\n",
              "      <td>0</td>\n",
              "      <td>40</td>\n",
              "      <td>United-States</td>\n",
              "      <td>&lt;=50K</td>\n",
              "      <td>40-49</td>\n",
              "    </tr>\n",
              "    <tr>\n",
              "      <th>4</th>\n",
              "      <td>28</td>\n",
              "      <td>Private</td>\n",
              "      <td>338409</td>\n",
              "      <td>Bachelors</td>\n",
              "      <td>13</td>\n",
              "      <td>Married-civ-spouse</td>\n",
              "      <td>Prof-specialty</td>\n",
              "      <td>Wife</td>\n",
              "      <td>Black</td>\n",
              "      <td>Female</td>\n",
              "      <td>0</td>\n",
              "      <td>0</td>\n",
              "      <td>40</td>\n",
              "      <td>Cuba</td>\n",
              "      <td>&lt;=50K</td>\n",
              "      <td>40-49</td>\n",
              "    </tr>\n",
              "  </tbody>\n",
              "</table>\n",
              "</div>"
            ],
            "text/plain": [
              "   age          workclass  ...  salary hours_per_week_categories\n",
              "0   39          State-gov  ...   <=50K                     40-49\n",
              "1   50   Self-emp-not-inc  ...   <=50K                     10-19\n",
              "2   38            Private  ...   <=50K                     40-49\n",
              "3   53            Private  ...   <=50K                     40-49\n",
              "4   28            Private  ...   <=50K                     40-49\n",
              "\n",
              "[5 rows x 16 columns]"
            ]
          },
          "metadata": {
            "tags": []
          },
          "execution_count": 43
        }
      ]
    },
    {
      "cell_type": "code",
      "metadata": {
        "id": "dmIsIRoq4Ayo",
        "colab_type": "code",
        "colab": {
          "base_uri": "https://localhost:8080/",
          "height": 69
        },
        "outputId": "a447b9f2-8ded-4d98-95fb-c56ed73fcbe9"
      },
      "source": [
        "df['sex'].value_counts()"
      ],
      "execution_count": 44,
      "outputs": [
        {
          "output_type": "execute_result",
          "data": {
            "text/plain": [
              " Male      21790\n",
              " Female    10771\n",
              "Name: sex, dtype: int64"
            ]
          },
          "metadata": {
            "tags": []
          },
          "execution_count": 44
        }
      ]
    },
    {
      "cell_type": "code",
      "metadata": {
        "id": "jnpE3Zhi4DuM",
        "colab_type": "code",
        "colab": {
          "base_uri": "https://localhost:8080/",
          "height": 139
        },
        "outputId": "48742da0-f466-43b8-d2af-e5a2e8375c5b"
      },
      "source": [
        "df['hours_per_week_categories'].value_counts()"
      ],
      "execution_count": 45,
      "outputs": [
        {
          "output_type": "execute_result",
          "data": {
            "text/plain": [
              "40-49    18336\n",
              "50+       6462\n",
              "30-39     3667\n",
              "20-29     2392\n",
              "10-19     1246\n",
              "0-9        458\n",
              "Name: hours_per_week_categories, dtype: int64"
            ]
          },
          "metadata": {
            "tags": []
          },
          "execution_count": 45
        }
      ]
    },
    {
      "cell_type": "code",
      "metadata": {
        "id": "vxaEcul64G2a",
        "colab_type": "code",
        "colab": {
          "base_uri": "https://localhost:8080/",
          "height": 343
        },
        "outputId": "9abaf66f-b4c3-4f98-bf5c-05b4f764c16a"
      },
      "source": [
        "df = df.sort_values(by='hours_per_week_categories', ascending=True)\n",
        "\n",
        "df.head()"
      ],
      "execution_count": 46,
      "outputs": [
        {
          "output_type": "execute_result",
          "data": {
            "text/html": [
              "<div>\n",
              "<style scoped>\n",
              "    .dataframe tbody tr th:only-of-type {\n",
              "        vertical-align: middle;\n",
              "    }\n",
              "\n",
              "    .dataframe tbody tr th {\n",
              "        vertical-align: top;\n",
              "    }\n",
              "\n",
              "    .dataframe thead th {\n",
              "        text-align: right;\n",
              "    }\n",
              "</style>\n",
              "<table border=\"1\" class=\"dataframe\">\n",
              "  <thead>\n",
              "    <tr style=\"text-align: right;\">\n",
              "      <th></th>\n",
              "      <th>age</th>\n",
              "      <th>workclass</th>\n",
              "      <th>fnlwgt</th>\n",
              "      <th>education</th>\n",
              "      <th>education-num</th>\n",
              "      <th>marital-status</th>\n",
              "      <th>occupation</th>\n",
              "      <th>relationship</th>\n",
              "      <th>race</th>\n",
              "      <th>sex</th>\n",
              "      <th>capital-gain</th>\n",
              "      <th>capital-loss</th>\n",
              "      <th>hours-per-week</th>\n",
              "      <th>country</th>\n",
              "      <th>salary</th>\n",
              "      <th>hours_per_week_categories</th>\n",
              "    </tr>\n",
              "  </thead>\n",
              "  <tbody>\n",
              "    <tr>\n",
              "      <th>31290</th>\n",
              "      <td>55</td>\n",
              "      <td>Self-emp-not-inc</td>\n",
              "      <td>41938</td>\n",
              "      <td>Bachelors</td>\n",
              "      <td>13</td>\n",
              "      <td>Married-civ-spouse</td>\n",
              "      <td>Prof-specialty</td>\n",
              "      <td>Wife</td>\n",
              "      <td>White</td>\n",
              "      <td>Female</td>\n",
              "      <td>0</td>\n",
              "      <td>0</td>\n",
              "      <td>8</td>\n",
              "      <td>United-States</td>\n",
              "      <td>&lt;=50K</td>\n",
              "      <td>0-9</td>\n",
              "    </tr>\n",
              "    <tr>\n",
              "      <th>5172</th>\n",
              "      <td>32</td>\n",
              "      <td>NaN</td>\n",
              "      <td>134886</td>\n",
              "      <td>HS-grad</td>\n",
              "      <td>9</td>\n",
              "      <td>Married-civ-spouse</td>\n",
              "      <td>NaN</td>\n",
              "      <td>Wife</td>\n",
              "      <td>White</td>\n",
              "      <td>Female</td>\n",
              "      <td>0</td>\n",
              "      <td>0</td>\n",
              "      <td>2</td>\n",
              "      <td>United-States</td>\n",
              "      <td>&gt;50K</td>\n",
              "      <td>0-9</td>\n",
              "    </tr>\n",
              "    <tr>\n",
              "      <th>22928</th>\n",
              "      <td>17</td>\n",
              "      <td>NaN</td>\n",
              "      <td>332666</td>\n",
              "      <td>10th</td>\n",
              "      <td>6</td>\n",
              "      <td>Never-married</td>\n",
              "      <td>NaN</td>\n",
              "      <td>Own-child</td>\n",
              "      <td>White</td>\n",
              "      <td>Female</td>\n",
              "      <td>0</td>\n",
              "      <td>0</td>\n",
              "      <td>4</td>\n",
              "      <td>United-States</td>\n",
              "      <td>&lt;=50K</td>\n",
              "      <td>0-9</td>\n",
              "    </tr>\n",
              "    <tr>\n",
              "      <th>7902</th>\n",
              "      <td>35</td>\n",
              "      <td>Private</td>\n",
              "      <td>359131</td>\n",
              "      <td>Bachelors</td>\n",
              "      <td>13</td>\n",
              "      <td>Married-civ-spouse</td>\n",
              "      <td>Prof-specialty</td>\n",
              "      <td>Wife</td>\n",
              "      <td>White</td>\n",
              "      <td>Female</td>\n",
              "      <td>7298</td>\n",
              "      <td>0</td>\n",
              "      <td>8</td>\n",
              "      <td>NaN</td>\n",
              "      <td>&gt;50K</td>\n",
              "      <td>0-9</td>\n",
              "    </tr>\n",
              "    <tr>\n",
              "      <th>6604</th>\n",
              "      <td>41</td>\n",
              "      <td>Private</td>\n",
              "      <td>406603</td>\n",
              "      <td>HS-grad</td>\n",
              "      <td>9</td>\n",
              "      <td>Never-married</td>\n",
              "      <td>Other-service</td>\n",
              "      <td>Not-in-family</td>\n",
              "      <td>White</td>\n",
              "      <td>Male</td>\n",
              "      <td>0</td>\n",
              "      <td>0</td>\n",
              "      <td>6</td>\n",
              "      <td>Iran</td>\n",
              "      <td>&lt;=50K</td>\n",
              "      <td>0-9</td>\n",
              "    </tr>\n",
              "  </tbody>\n",
              "</table>\n",
              "</div>"
            ],
            "text/plain": [
              "       age          workclass  ...  salary hours_per_week_categories\n",
              "31290   55   Self-emp-not-inc  ...   <=50K                       0-9\n",
              "5172    32                NaN  ...    >50K                       0-9\n",
              "22928   17                NaN  ...   <=50K                       0-9\n",
              "7902    35            Private  ...    >50K                       0-9\n",
              "6604    41            Private  ...   <=50K                       0-9\n",
              "\n",
              "[5 rows x 16 columns]"
            ]
          },
          "metadata": {
            "tags": []
          },
          "execution_count": 46
        }
      ]
    },
    {
      "cell_type": "code",
      "metadata": {
        "id": "2SrGn9hL4KZv",
        "colab_type": "code",
        "colab": {
          "base_uri": "https://localhost:8080/",
          "height": 171
        },
        "outputId": "5e989cfb-44fd-4866-9350-7d56d11506e7"
      },
      "source": [
        "contingency_table = pd.crosstab(df['sex'], df['hours_per_week_categories'], margins=True)\n",
        "\n",
        "contingency_table"
      ],
      "execution_count": 47,
      "outputs": [
        {
          "output_type": "execute_result",
          "data": {
            "text/html": [
              "<div>\n",
              "<style scoped>\n",
              "    .dataframe tbody tr th:only-of-type {\n",
              "        vertical-align: middle;\n",
              "    }\n",
              "\n",
              "    .dataframe tbody tr th {\n",
              "        vertical-align: top;\n",
              "    }\n",
              "\n",
              "    .dataframe thead th {\n",
              "        text-align: right;\n",
              "    }\n",
              "</style>\n",
              "<table border=\"1\" class=\"dataframe\">\n",
              "  <thead>\n",
              "    <tr style=\"text-align: right;\">\n",
              "      <th>hours_per_week_categories</th>\n",
              "      <th>0-9</th>\n",
              "      <th>10-19</th>\n",
              "      <th>20-29</th>\n",
              "      <th>30-39</th>\n",
              "      <th>40-49</th>\n",
              "      <th>50+</th>\n",
              "      <th>All</th>\n",
              "    </tr>\n",
              "    <tr>\n",
              "      <th>sex</th>\n",
              "      <th></th>\n",
              "      <th></th>\n",
              "      <th></th>\n",
              "      <th></th>\n",
              "      <th></th>\n",
              "      <th></th>\n",
              "      <th></th>\n",
              "    </tr>\n",
              "  </thead>\n",
              "  <tbody>\n",
              "    <tr>\n",
              "      <th>Female</th>\n",
              "      <td>235</td>\n",
              "      <td>671</td>\n",
              "      <td>1287</td>\n",
              "      <td>1914</td>\n",
              "      <td>5636</td>\n",
              "      <td>1028</td>\n",
              "      <td>10771</td>\n",
              "    </tr>\n",
              "    <tr>\n",
              "      <th>Male</th>\n",
              "      <td>223</td>\n",
              "      <td>575</td>\n",
              "      <td>1105</td>\n",
              "      <td>1753</td>\n",
              "      <td>12700</td>\n",
              "      <td>5434</td>\n",
              "      <td>21790</td>\n",
              "    </tr>\n",
              "    <tr>\n",
              "      <th>All</th>\n",
              "      <td>458</td>\n",
              "      <td>1246</td>\n",
              "      <td>2392</td>\n",
              "      <td>3667</td>\n",
              "      <td>18336</td>\n",
              "      <td>6462</td>\n",
              "      <td>32561</td>\n",
              "    </tr>\n",
              "  </tbody>\n",
              "</table>\n",
              "</div>"
            ],
            "text/plain": [
              "hours_per_week_categories  0-9  10-19  20-29  30-39  40-49   50+    All\n",
              "sex                                                                    \n",
              " Female                    235    671   1287   1914   5636  1028  10771\n",
              " Male                      223    575   1105   1753  12700  5434  21790\n",
              "All                        458   1246   2392   3667  18336  6462  32561"
            ]
          },
          "metadata": {
            "tags": []
          },
          "execution_count": 47
        }
      ]
    },
    {
      "cell_type": "code",
      "metadata": {
        "id": "WgK933PQ4N7l",
        "colab_type": "code",
        "colab": {
          "base_uri": "https://localhost:8080/",
          "height": 35
        },
        "outputId": "656e9822-d1fa-45f7-99c5-07e6b1b1e17d"
      },
      "source": [
        "femalecount = contingency_table.iloc[0][0:6].values\n",
        "femalecount"
      ],
      "execution_count": 49,
      "outputs": [
        {
          "output_type": "execute_result",
          "data": {
            "text/plain": [
              "array([ 235,  671, 1287, 1914, 5636, 1028])"
            ]
          },
          "metadata": {
            "tags": []
          },
          "execution_count": 49
        }
      ]
    },
    {
      "cell_type": "code",
      "metadata": {
        "id": "4RxlAAJZ4TIh",
        "colab_type": "code",
        "colab": {
          "base_uri": "https://localhost:8080/",
          "height": 35
        },
        "outputId": "e3449790-2f87-40ba-e539-ae2ecf9e0f78"
      },
      "source": [
        "malecount = contingency_table.iloc[1][0:6].values\n",
        "malecount"
      ],
      "execution_count": 50,
      "outputs": [
        {
          "output_type": "execute_result",
          "data": {
            "text/plain": [
              "array([  223,   575,  1105,  1753, 12700,  5434])"
            ]
          },
          "metadata": {
            "tags": []
          },
          "execution_count": 50
        }
      ]
    },
    {
      "cell_type": "code",
      "metadata": {
        "id": "wtrhwiMt4XG5",
        "colab_type": "code",
        "colab": {
          "base_uri": "https://localhost:8080/",
          "height": 381
        },
        "outputId": "2ea511e6-b9a5-4870-b8f6-5d1c06de1d26"
      },
      "source": [
        "import matplotlib.pyplot as plt\n",
        "import seaborn as sns\n",
        "\n",
        "#Plots the bar chart\n",
        "fig = plt.figure(figsize=(10, 5))\n",
        "sns.set(font_scale=1.8)\n",
        "categories = [\"0-9\",\"10-19\",\"20-29\",\"30-39\",\"40-49\",\"50+\"]\n",
        "p1 = plt.bar(categories, malecount, 0.55, color='#d62728')\n",
        "p2 = plt.bar(categories, femalecount, 0.55, bottom=malecount)\n",
        "plt.legend((p2[0], p1[0]), ('Female', 'Male'))\n",
        "plt.xlabel('Hours per Week Worked')\n",
        "plt.ylabel('Count')\n",
        "plt.show()"
      ],
      "execution_count": 51,
      "outputs": [
        {
          "output_type": "display_data",
          "data": {
            "image/png": "[encoded data removed]",
            "text/plain": [
              "<Figure size 720x360 with 1 Axes>"
            ]
          },
          "metadata": {
            "tags": []
          }
        }
      ]
    },
    {
      "cell_type": "markdown",
      "metadata": {
        "id": "-1Cu0_nT4asF",
        "colab_type": "text"
      },
      "source": [
        ""
      ]
    },
    {
      "cell_type": "markdown",
      "metadata": {
        "id": "ShhbKrMyb6ij",
        "colab_type": "text"
      },
      "source": [
        "## Expected Value Calculation\n",
        "\\begin{align}\n",
        "expected_{i,j} =\\frac{(row_{i} \\text{total})(column_{j} \\text{total}) }{(\\text{total observations})}  \n",
        "\\end{align}"
      ]
    },
    {
      "cell_type": "code",
      "metadata": {
        "id": "Wf1UwtSQ4fIu",
        "colab_type": "code",
        "colab": {
          "base_uri": "https://localhost:8080/",
          "height": 52
        },
        "outputId": "09025546-78b9-463c-eb42-3563e4e568f3"
      },
      "source": [
        "row_sums = contingency_table.iloc[0:2, 6].values\n",
        "col_sums = contingency_table.iloc[2, 0:6].values\n",
        "\n",
        "print(row_sums)\n",
        "print(col_sums)"
      ],
      "execution_count": 52,
      "outputs": [
        {
          "output_type": "stream",
          "text": [
            "[10771 21790]\n",
            "[  458  1246  2392  3667 18336  6462]\n"
          ],
          "name": "stdout"
        }
      ]
    },
    {
      "cell_type": "code",
      "metadata": {
        "id": "IkZTAmp34i9w",
        "colab_type": "code",
        "colab": {
          "base_uri": "https://localhost:8080/",
          "height": 35
        },
        "outputId": "2667cfdd-0af0-42fb-d369-8e4d07add4b4"
      },
      "source": [
        "total = contingency_table.loc['All','All']\n",
        "total"
      ],
      "execution_count": 53,
      "outputs": [
        {
          "output_type": "execute_result",
          "data": {
            "text/plain": [
              "32561"
            ]
          },
          "metadata": {
            "tags": []
          },
          "execution_count": 53
        }
      ]
    },
    {
      "cell_type": "code",
      "metadata": {
        "id": "PNexTkjY4mAA",
        "colab_type": "code",
        "colab": {
          "base_uri": "https://localhost:8080/",
          "height": 35
        },
        "outputId": "6ffa3a05-3305-41bd-80ad-921240db6412"
      },
      "source": [
        "df.shape[0]"
      ],
      "execution_count": 54,
      "outputs": [
        {
          "output_type": "execute_result",
          "data": {
            "text/plain": [
              "32561"
            ]
          },
          "metadata": {
            "tags": []
          },
          "execution_count": 54
        }
      ]
    },
    {
      "cell_type": "code",
      "metadata": {
        "id": "V6UYWJ6v4pHb",
        "colab_type": "code",
        "colab": {
          "base_uri": "https://localhost:8080/",
          "height": 104
        },
        "outputId": "7c63a893-d91d-4cc0-c0bd-fd9d30958f54"
      },
      "source": [
        "expected = []\n",
        "for i in range(len(row_sums)):\n",
        "  expected_row = []\n",
        "  for column in col_sums:\n",
        "    expected_val = column*row_sums[i]/total\n",
        "    expected_row.append(expected_val)\n",
        "  expected.append(expected_row)\n",
        "  \n",
        "\n",
        "expected = np.array(expected)\n",
        "print(expected.shape)  \n",
        "print(expected)"
      ],
      "execution_count": 55,
      "outputs": [
        {
          "output_type": "stream",
          "text": [
            "(2, 6)\n",
            "[[  151.50388502   412.16995793   791.26046497  1213.02346365\n",
            "   6065.44811277  2137.59411566]\n",
            " [  306.49611498   833.83004207  1600.73953503  2453.97653635\n",
            "  12270.55188723  4324.40588434]]\n"
          ],
          "name": "stdout"
        }
      ]
    },
    {
      "cell_type": "code",
      "metadata": {
        "id": "nl4WEVDe4vdQ",
        "colab_type": "code",
        "colab": {
          "base_uri": "https://localhost:8080/",
          "height": 69
        },
        "outputId": "48e958a7-be57-4559-e27d-5a9990bb6234"
      },
      "source": [
        "observed = pd.crosstab(df['sex'], df['hours_per_week_categories']).values\n",
        "print(observed.shape)\n",
        "observed"
      ],
      "execution_count": 56,
      "outputs": [
        {
          "output_type": "stream",
          "text": [
            "(2, 6)\n"
          ],
          "name": "stdout"
        },
        {
          "output_type": "execute_result",
          "data": {
            "text/plain": [
              "array([[  235,   671,  1287,  1914,  5636,  1028],\n",
              "       [  223,   575,  1105,  1753, 12700,  5434]])"
            ]
          },
          "metadata": {
            "tags": []
          },
          "execution_count": 56
        }
      ]
    },
    {
      "cell_type": "markdown",
      "metadata": {
        "id": "jm_yQ-Zd4ytn",
        "colab_type": "text"
      },
      "source": [
        ""
      ]
    },
    {
      "cell_type": "markdown",
      "metadata": {
        "id": "dY8RYMMVcaMw",
        "colab_type": "text"
      },
      "source": [
        "## Chi-Squared Statistic with Numpy\n",
        "\n",
        "\\begin{align}\n",
        "\\chi^2 = \\sum \\frac{(observed_{i}-expected_{i})^2}{(expected_{i})}\n",
        "\\end{align}\n",
        "\n",
        "For the $observed$ values we will just use a version of our contingency table without the margins as a numpy array. In this way, if our observed values array and our expected values array are the same shape, then we can subtract them and divide them directly which makes the calculations a lot cleaner. No for loops!"
      ]
    },
    {
      "cell_type": "code",
      "metadata": {
        "id": "y4psJhiT42D_",
        "colab_type": "code",
        "colab": {
          "base_uri": "https://localhost:8080/",
          "height": 35
        },
        "outputId": "d186088c-0be7-461d-cb30-5f25e9d53415"
      },
      "source": [
        "# Array broadcasting will work with numpy arrays but not python lists\n",
        "chi_squared = ((observed - expected)**2/(expected)).sum() \n",
        "print(f\"Chi-Squared: {chi_squared}\")"
      ],
      "execution_count": 57,
      "outputs": [
        {
          "output_type": "stream",
          "text": [
            "Chi-Squared: 2287.190943926107\n"
          ],
          "name": "stdout"
        }
      ]
    },
    {
      "cell_type": "code",
      "metadata": {
        "id": "nm7azSpm48Wj",
        "colab_type": "code",
        "colab": {
          "base_uri": "https://localhost:8080/",
          "height": 35
        },
        "outputId": "8ceb20bd-ccaf-4b34-b0f1-74a42cae5b99"
      },
      "source": [
        "# Degrees of Freedom of a Chi-squared test\n",
        "\n",
        "#degrees_of_freedom = (num_rows - 1)(num_columns - 1)\n",
        "\n",
        "\n",
        "# Calculate Degrees of Freedom\n",
        "dof = (len(row_sums)-1)*(len(col_sums)-1)\n",
        "print(f\"Degrees of Freedom: {dof}\")    "
      ],
      "execution_count": 58,
      "outputs": [
        {
          "output_type": "stream",
          "text": [
            "Degrees of Freedom: 5\n"
          ],
          "name": "stdout"
        }
      ]
    },
    {
      "cell_type": "markdown",
      "metadata": {
        "id": "7Igz-XHcVbW3",
        "colab_type": "text"
      },
      "source": [
        "## Run a $\\chi^{2}$ Test using Scipy"
      ]
    },
    {
      "cell_type": "code",
      "metadata": {
        "id": "X52Nwt7AVlvk",
        "colab_type": "code",
        "colab": {
          "base_uri": "https://localhost:8080/",
          "height": 156
        },
        "outputId": "fff6f4a0-52bf-4164-f522-8ca93e6d421f"
      },
      "source": [
        "chi_squared, p_value, dof, expected = stats.chi2_contingency(observed)\n",
        "\n",
        "print(f\"Chi-Squared: {chi_squared}\")\n",
        "print(f\"P-value: {p_value}\")\n",
        "print(f\"Degrees of Freedom: {dof}\") \n",
        "print(\"Expected: \\n\", np.array(expected))"
      ],
      "execution_count": 59,
      "outputs": [
        {
          "output_type": "stream",
          "text": [
            "Chi-Squared: 2287.190943926107\n",
            "P-value: 0.0\n",
            "Degrees of Freedom: 5\n",
            "Expected: \n",
            " [[  151.50388502   412.16995793   791.26046497  1213.02346365\n",
            "   6065.44811277  2137.59411566]\n",
            " [  306.49611498   833.83004207  1600.73953503  2453.97653635\n",
            "  12270.55188723  4324.40588434]]\n"
          ],
          "name": "stdout"
        }
      ]
    },
    {
      "cell_type": "markdown",
      "metadata": {
        "id": "NC0OCAw-5GW-",
        "colab_type": "text"
      },
      "source": [
        ""
      ]
    },
    {
      "cell_type": "markdown",
      "metadata": {
        "id": "eQkaITv5eJX_",
        "colab_type": "text"
      },
      "source": [
        "Null Hypothesis: Hours worked per week bins is **independent** of sex. \n",
        "\n",
        "Due to a p-value of 0, we REJECT the null hypothesis that hours worked per week and sex are independent, and conclude that there is an association between hours worked per week and sex."
      ]
    }
  ]
}