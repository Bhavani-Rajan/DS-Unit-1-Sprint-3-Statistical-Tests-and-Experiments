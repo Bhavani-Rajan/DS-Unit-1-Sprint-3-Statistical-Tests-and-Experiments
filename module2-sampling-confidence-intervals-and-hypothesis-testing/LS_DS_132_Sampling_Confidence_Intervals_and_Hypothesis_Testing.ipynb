{
  "nbformat": 4,
  "nbformat_minor": 0,
  "metadata": {
    "colab": {
      "name": "LS_DS_132_Sampling_Confidence_Intervals_and_Hypothesis_Testing.ipynb",
      "provenance": [],
      "collapsed_sections": [],
      "include_colab_link": true
    },
    "kernelspec": {
      "name": "python3",
      "display_name": "Python 3"
    }
  },
  "cells": [
    {
      "cell_type": "markdown",
      "metadata": {
        "id": "view-in-github",
        "colab_type": "text"
      },
      "source": [
        "<a href=\"https://colab.research.google.com/github/Bhavani-Rajan/DS-Unit-1-Sprint-3-Statistical-Tests-and-Experiments/blob/master/module2-sampling-confidence-intervals-and-hypothesis-testing/LS_DS_132_Sampling_Confidence_Intervals_and_Hypothesis_Testing.ipynb\" target=\"_parent\"><img src=\"https://colab.research.google.com/assets/colab-badge.svg\" alt=\"Open In Colab\"/></a>"
      ]
    },
    {
      "cell_type": "markdown",
      "metadata": {
        "id": "838Dmw1kM2LK",
        "colab_type": "text"
      },
      "source": [
        "# Lambda School Data Science Module 132\n",
        "## Sampling, Confidence Intervals, and Hypothesis Testing"
      ]
    },
    {
      "cell_type": "markdown",
      "metadata": {
        "id": "dbcPKIo5M6Ny",
        "colab_type": "text"
      },
      "source": [
        "## Prepare - examine other available hypothesis tests\n",
        "\n",
        "If you had to pick a single hypothesis test in your toolbox, t-test would probably be the best choice - but the good news is you don't have to pick just one! Here's some of the others to be aware of:"
      ]
    },
    {
      "cell_type": "code",
      "metadata": {
        "id": "tlBel8j9M6tB",
        "colab_type": "code",
        "outputId": "67ed8570-f67b-4954-d6c5-ed8982a63768",
        "colab": {
          "base_uri": "https://localhost:8080/",
          "height": 211
        }
      },
      "source": [
        "import numpy as np\n",
        "from scipy.stats import chisquare  # One-way chi square test\n",
        "\n",
        "# Chi square can take any crosstab/table and test the independence of rows/cols\n",
        "# The null hypothesis is that the rows/cols are independent -> low chi square\n",
        "# The alternative is that there is a dependence -> high chi square\n",
        "# Be aware! Chi square does *not* tell you direction/causation\n",
        "\n",
        "ind_obs = np.array([[1, 1], [2, 2]]).T\n",
        "print(ind_obs)\n",
        "print(chisquare(ind_obs, axis=None))\n",
        "\n",
        "dep_obs = np.array([[16, 18, 16, 14, 12, 12], [32, 24, 16, 28, 20, 24]]).T\n",
        "print(dep_obs)\n",
        "print(chisquare(dep_obs, axis=None))"
      ],
      "execution_count": 2,
      "outputs": [
        {
          "output_type": "stream",
          "text": [
            "[[1 2]\n",
            " [1 2]]\n",
            "Power_divergenceResult(statistic=0.6666666666666666, pvalue=0.8810148425137847)\n",
            "[[16 32]\n",
            " [18 24]\n",
            " [16 16]\n",
            " [14 28]\n",
            " [12 20]\n",
            " [12 24]]\n",
            "Power_divergenceResult(statistic=23.31034482758621, pvalue=0.015975692534127565)\n"
          ],
          "name": "stdout"
        }
      ]
    },
    {
      "cell_type": "code",
      "metadata": {
        "id": "nN0BdNiDPxbk",
        "colab_type": "code",
        "outputId": "e2d111f4-1abb-4b6d-fffb-b942471f194e",
        "colab": {
          "base_uri": "https://localhost:8080/",
          "height": 35
        }
      },
      "source": [
        "# Distribution tests:\n",
        "# We often assume that something is normal, but it can be important to *check*\n",
        "\n",
        "# For example, later on with predictive modeling, a typical assumption is that\n",
        "# residuals (prediction errors) are normal - checking is a good diagnostic\n",
        "\n",
        "from scipy.stats import normaltest\n",
        "# Poisson models arrival times and is related to the binomial (coinflip)\n",
        "sample = np.random.poisson(5, 1000)\n",
        "print(normaltest(sample))  # Pretty clearly not normal"
      ],
      "execution_count": 5,
      "outputs": [
        {
          "output_type": "stream",
          "text": [
            "NormaltestResult(statistic=74.46657678236505, pvalue=6.757535075217675e-17)\n"
          ],
          "name": "stdout"
        }
      ]
    },
    {
      "cell_type": "code",
      "metadata": {
        "id": "P5t0WhkDReFO",
        "colab_type": "code",
        "outputId": "1f1fa86a-4965-461d-b8a1-cf636e3a8355",
        "colab": {
          "base_uri": "https://localhost:8080/",
          "height": 52
        }
      },
      "source": [
        "# Kruskal-Wallis H-test - compare the median rank between 2+ groups\n",
        "# Can be applied to ranking decisions/outcomes/recommendations\n",
        "# The underlying math comes from chi-square distribution, and is best for n>5\n",
        "from scipy.stats import kruskal\n",
        "\n",
        "x1 = [1, 3, 5, 7, 9]\n",
        "y1 = [2, 4, 6, 8, 10]\n",
        "print(kruskal(x1, y1))  # x1 is a little better, but not \"significantly\" so\n",
        "\n",
        "x2 = [1, 1, 1]\n",
        "y2 = [2, 2, 2]\n",
        "z = [2, 2]  # Hey, a third group, and of different size!\n",
        "print(kruskal(x2, y2, z))  # x clearly dominates"
      ],
      "execution_count": 7,
      "outputs": [
        {
          "output_type": "stream",
          "text": [
            "KruskalResult(statistic=0.2727272727272734, pvalue=0.6015081344405895)\n",
            "KruskalResult(statistic=7.0, pvalue=0.0301973834223185)\n"
          ],
          "name": "stdout"
        }
      ]
    },
    {
      "cell_type": "markdown",
      "metadata": {
        "id": "7pT3IP36Rh0b",
        "colab_type": "text"
      },
      "source": [
        "And there's many more! `scipy.stats` is fairly comprehensive, though there are even more available if you delve into the extended world of statistics packages. As tests get increasingly obscure and specialized, the importance of knowing them by heart becomes small - but being able to look them up and figure them out when they *are* relevant is still important."
      ]
    },
    {
      "cell_type": "markdown",
      "metadata": {
        "id": "unJSkpJHULVR",
        "colab_type": "text"
      },
      "source": [
        "## Degrees of Freedom\n"
      ]
    },
    {
      "cell_type": "code",
      "metadata": {
        "id": "WyXOzS_XUPWU",
        "colab_type": "code",
        "colab": {
          "base_uri": "https://localhost:8080/",
          "height": 35
        },
        "outputId": "f81d9fe2-ebb4-4421-ef9e-f761c0c486e8"
      },
      "source": [
        "mean = 20\n",
        "n = 7\n",
        "[5, 9, 10, 20 , 15, 12, 69]\n",
        "\n",
        "# the first 6 days added up to 71\n",
        "# The mean has to be 20\n",
        "# I need the sum of all the values in the list to be 140\n",
        "# The last value in the list *HAS* to be 140-71 = 69"
      ],
      "execution_count": 8,
      "outputs": [
        {
          "output_type": "execute_result",
          "data": {
            "text/plain": [
              "[5, 9, 10, 20, 15, 12, 69]"
            ]
          },
          "metadata": {
            "tags": []
          },
          "execution_count": 8
        }
      ]
    },
    {
      "cell_type": "markdown",
      "metadata": {
        "id": "3JqroCQYQqhy",
        "colab_type": "text"
      },
      "source": [
        "## T-test Assumptions\n",
        "\n",
        "<https://statistics.laerd.com/statistical-guides/independent-t-test-statistical-guide.php>\n",
        "\n",
        "- Independence of means\n",
        "\n",
        "Are the means of our voting data independent (do not affect the outcome of one another)?\n",
        "  \n",
        "The best way to increase thel likelihood of our means being independent is to randomly sample (which we did not do).\n"
      ]
    },
    {
      "cell_type": "code",
      "metadata": {
        "id": "sqy2hEFRZnvI",
        "colab_type": "code",
        "colab": {}
      },
      "source": [
        "from scipy.stats import ttest_ind\n",
        "\n",
        "?ttest_ind"
      ],
      "execution_count": 0,
      "outputs": []
    },
    {
      "cell_type": "markdown",
      "metadata": {
        "id": "xI-PcK5sZ1A9",
        "colab_type": "text"
      },
      "source": [
        "- \"Homogeneity\" of Variance? \n",
        "\n",
        "Is the magnitude of the variance between the two roughly the same?\n",
        "\n",
        "I think we're OK on this one for the voting data, although it probably could be better, one party was larger than the other.\n",
        "\n",
        "If we suspect this to be a problem then we can use Welch's T-test"
      ]
    },
    {
      "cell_type": "code",
      "metadata": {
        "id": "P02dL0waauN5",
        "colab_type": "code",
        "colab": {}
      },
      "source": [
        "?ttest_ind"
      ],
      "execution_count": 0,
      "outputs": []
    },
    {
      "cell_type": "markdown",
      "metadata": {
        "id": "tjgoHHwGayoC",
        "colab_type": "text"
      },
      "source": [
        "- \"Dependent Variable\" (sample means) are Distributed Normally\n",
        "\n",
        "<https://stats.stackexchange.com/questions/9573/t-test-for-non-normal-when-n50>\n",
        "\n",
        "Lots of statistical tests depend on normal distributions. We can test for normality using Scipy as was shown above.\n",
        "\n",
        "This assumption is often assumed even if the assumption is a weak one. If you strongly suspect that things are not normally distributed, you can transform your data to get it looking more normal and then run your test. This problem typically goes away for large sample sizes (yay Central Limit Theorem) and is often why you don't hear it brought up. People declare the assumption to be satisfied either way. \n",
        "\n"
      ]
    },
    {
      "cell_type": "markdown",
      "metadata": {
        "id": "bvvPV-RJN2vA",
        "colab_type": "text"
      },
      "source": [
        "## Central Limit Theorem\n",
        "\n"
      ]
    },
    {
      "cell_type": "code",
      "metadata": {
        "id": "FBLoOF8qOJeJ",
        "colab_type": "code",
        "outputId": "3f0987ff-7e76-486b-835d-260577f5e5aa",
        "colab": {
          "base_uri": "https://localhost:8080/",
          "height": 72
        }
      },
      "source": [
        "import numpy as np\n",
        "import matplotlib.pyplot as plt\n",
        "import pandas as pd\n",
        "\n",
        "sample_means = []\n",
        "for x in range(0,3000):\n",
        "  coinflips = np.random.binomial(n=1, p=.5, size=50)\n",
        "  one_sample = coinflips\n",
        "  sample_means.append(coinflips.mean())\n",
        "\n",
        "print(len(sample_means))\n",
        "print(sample_means)"
      ],
      "execution_count": 13,
      "outputs": [
        {
          "output_type": "stream",
          "text": [
            "3000\n",
            "[0.5, 0.46, 0.52, 0.56, 0.48, 0.5, 0.46, 0.6, 0.62, 0.56, 0.6, 0.52, 0.4, 0.62, 0.42, 0.46, 0.4, 0.46, 0.44, 0.4, 0.48, 0.54, 0.64, 0.56, 0.56, 0.54, 0.42, 0.48, 0.48, 0.44, 0.56, 0.44, 0.58, 0.4, 0.5, 0.56, 0.5, 0.46, 0.44, 0.54, 0.5, 0.52, 0.48, 0.5, 0.58, 0.54, 0.44, 0.44, 0.54, 0.4, 0.54, 0.42, 0.5, 0.36, 0.5, 0.56, 0.48, 0.54, 0.48, 0.48, 0.56, 0.52, 0.58, 0.54, 0.42, 0.54, 0.56, 0.5, 0.6, 0.5, 0.44, 0.48, 0.46, 0.48, 0.58, 0.5, 0.6, 0.48, 0.4, 0.48, 0.48, 0.56, 0.6, 0.48, 0.44, 0.44, 0.52, 0.44, 0.4, 0.52, 0.48, 0.48, 0.5, 0.56, 0.48, 0.52, 0.6, 0.5, 0.4, 0.5, 0.54, 0.48, 0.44, 0.38, 0.58, 0.5, 0.5, 0.48, 0.56, 0.36, 0.44, 0.42, 0.44, 0.56, 0.58, 0.6, 0.58, 0.54, 0.46, 0.4, 0.5, 0.56, 0.46, 0.46, 0.52, 0.48, 0.48, 0.5, 0.56, 0.42, 0.54, 0.42, 0.58, 0.36, 0.38, 0.48, 0.62, 0.68, 0.64, 0.38, 0.44, 0.44, 0.46, 0.46, 0.54, 0.6, 0.44, 0.58, 0.4, 0.56, 0.54, 0.66, 0.52, 0.5, 0.46, 0.5, 0.5, 0.56, 0.54, 0.36, 0.54, 0.52, 0.46, 0.46, 0.52, 0.56, 0.44, 0.52, 0.56, 0.44, 0.4, 0.48, 0.44, 0.54, 0.44, 0.54, 0.48, 0.46, 0.6, 0.52, 0.4, 0.44, 0.56, 0.6, 0.5, 0.54, 0.5, 0.44, 0.54, 0.5, 0.58, 0.58, 0.52, 0.44, 0.5, 0.46, 0.48, 0.6, 0.56, 0.52, 0.62, 0.52, 0.52, 0.46, 0.56, 0.52, 0.6, 0.52, 0.4, 0.52, 0.6, 0.54, 0.52, 0.56, 0.5, 0.46, 0.56, 0.46, 0.46, 0.4, 0.52, 0.42, 0.44, 0.44, 0.44, 0.54, 0.42, 0.48, 0.52, 0.54, 0.5, 0.4, 0.44, 0.5, 0.56, 0.56, 0.52, 0.64, 0.46, 0.54, 0.62, 0.36, 0.46, 0.44, 0.48, 0.6, 0.5, 0.5, 0.42, 0.38, 0.7, 0.46, 0.38, 0.48, 0.54, 0.54, 0.5, 0.46, 0.58, 0.48, 0.42, 0.44, 0.58, 0.48, 0.52, 0.46, 0.36, 0.52, 0.56, 0.54, 0.38, 0.52, 0.46, 0.5, 0.44, 0.48, 0.5, 0.48, 0.56, 0.5, 0.46, 0.36, 0.44, 0.56, 0.4, 0.52, 0.54, 0.52, 0.56, 0.44, 0.44, 0.44, 0.6, 0.42, 0.46, 0.54, 0.56, 0.56, 0.28, 0.44, 0.46, 0.54, 0.56, 0.58, 0.56, 0.44, 0.48, 0.44, 0.48, 0.5, 0.54, 0.38, 0.66, 0.58, 0.52, 0.36, 0.44, 0.46, 0.4, 0.4, 0.38, 0.66, 0.46, 0.52, 0.46, 0.42, 0.5, 0.58, 0.5, 0.3, 0.48, 0.52, 0.48, 0.44, 0.5, 0.5, 0.5, 0.52, 0.52, 0.38, 0.32, 0.5, 0.54, 0.4, 0.34, 0.62, 0.6, 0.42, 0.54, 0.46, 0.42, 0.54, 0.58, 0.44, 0.6, 0.54, 0.46, 0.52, 0.5, 0.48, 0.44, 0.52, 0.46, 0.5, 0.56, 0.34, 0.5, 0.44, 0.32, 0.52, 0.48, 0.44, 0.54, 0.62, 0.48, 0.54, 0.56, 0.6, 0.58, 0.36, 0.44, 0.44, 0.54, 0.5, 0.46, 0.66, 0.5, 0.56, 0.44, 0.56, 0.48, 0.58, 0.4, 0.44, 0.5, 0.38, 0.5, 0.46, 0.42, 0.58, 0.44, 0.42, 0.56, 0.48, 0.48, 0.5, 0.48, 0.56, 0.54, 0.58, 0.54, 0.56, 0.54, 0.52, 0.56, 0.56, 0.44, 0.42, 0.54, 0.56, 0.52, 0.46, 0.44, 0.54, 0.64, 0.38, 0.56, 0.54, 0.44, 0.54, 0.36, 0.54, 0.48, 0.44, 0.5, 0.46, 0.42, 0.48, 0.38, 0.42, 0.48, 0.44, 0.58, 0.56, 0.58, 0.48, 0.52, 0.44, 0.42, 0.5, 0.48, 0.46, 0.48, 0.44, 0.5, 0.58, 0.5, 0.46, 0.56, 0.48, 0.64, 0.56, 0.48, 0.58, 0.5, 0.36, 0.4, 0.64, 0.5, 0.52, 0.46, 0.4, 0.54, 0.46, 0.52, 0.36, 0.48, 0.42, 0.5, 0.4, 0.52, 0.5, 0.62, 0.6, 0.66, 0.38, 0.46, 0.5, 0.46, 0.46, 0.46, 0.46, 0.52, 0.58, 0.46, 0.48, 0.54, 0.52, 0.54, 0.6, 0.52, 0.42, 0.34, 0.48, 0.4, 0.4, 0.46, 0.52, 0.4, 0.44, 0.64, 0.56, 0.56, 0.32, 0.54, 0.5, 0.48, 0.56, 0.6, 0.5, 0.5, 0.6, 0.62, 0.46, 0.56, 0.4, 0.44, 0.52, 0.54, 0.6, 0.46, 0.42, 0.56, 0.46, 0.4, 0.56, 0.52, 0.52, 0.42, 0.52, 0.58, 0.58, 0.6, 0.48, 0.46, 0.46, 0.56, 0.58, 0.5, 0.56, 0.52, 0.58, 0.5, 0.58, 0.4, 0.44, 0.6, 0.44, 0.58, 0.52, 0.5, 0.5, 0.34, 0.46, 0.58, 0.54, 0.48, 0.5, 0.38, 0.5, 0.5, 0.54, 0.5, 0.52, 0.58, 0.5, 0.4, 0.44, 0.58, 0.48, 0.44, 0.44, 0.36, 0.52, 0.46, 0.38, 0.5, 0.54, 0.48, 0.36, 0.6, 0.58, 0.6, 0.54, 0.48, 0.64, 0.48, 0.44, 0.48, 0.5, 0.4, 0.46, 0.52, 0.5, 0.28, 0.58, 0.44, 0.54, 0.48, 0.6, 0.54, 0.48, 0.56, 0.56, 0.46, 0.56, 0.48, 0.62, 0.56, 0.5, 0.6, 0.48, 0.36, 0.58, 0.52, 0.48, 0.44, 0.54, 0.58, 0.44, 0.44, 0.46, 0.46, 0.64, 0.48, 0.5, 0.62, 0.4, 0.48, 0.38, 0.4, 0.44, 0.52, 0.56, 0.38, 0.5, 0.6, 0.56, 0.52, 0.54, 0.6, 0.36, 0.44, 0.54, 0.42, 0.5, 0.54, 0.46, 0.5, 0.58, 0.5, 0.48, 0.52, 0.54, 0.66, 0.48, 0.52, 0.42, 0.42, 0.54, 0.48, 0.48, 0.62, 0.46, 0.46, 0.44, 0.54, 0.5, 0.58, 0.36, 0.5, 0.52, 0.66, 0.52, 0.44, 0.48, 0.48, 0.46, 0.44, 0.36, 0.4, 0.54, 0.5, 0.4, 0.46, 0.42, 0.58, 0.54, 0.68, 0.44, 0.46, 0.62, 0.48, 0.56, 0.5, 0.52, 0.62, 0.5, 0.44, 0.5, 0.48, 0.52, 0.56, 0.58, 0.46, 0.48, 0.44, 0.52, 0.46, 0.52, 0.36, 0.48, 0.48, 0.44, 0.44, 0.4, 0.32, 0.5, 0.54, 0.48, 0.36, 0.6, 0.5, 0.48, 0.54, 0.48, 0.58, 0.58, 0.42, 0.5, 0.54, 0.58, 0.54, 0.54, 0.5, 0.46, 0.44, 0.42, 0.46, 0.64, 0.56, 0.48, 0.58, 0.56, 0.54, 0.44, 0.44, 0.5, 0.54, 0.52, 0.52, 0.52, 0.44, 0.54, 0.44, 0.56, 0.48, 0.58, 0.5, 0.52, 0.46, 0.46, 0.38, 0.52, 0.54, 0.48, 0.44, 0.48, 0.44, 0.44, 0.58, 0.4, 0.6, 0.36, 0.6, 0.56, 0.58, 0.48, 0.48, 0.36, 0.44, 0.54, 0.5, 0.48, 0.44, 0.38, 0.5, 0.48, 0.48, 0.52, 0.54, 0.52, 0.54, 0.52, 0.56, 0.5, 0.4, 0.48, 0.56, 0.3, 0.46, 0.5, 0.44, 0.44, 0.64, 0.54, 0.54, 0.52, 0.5, 0.5, 0.52, 0.42, 0.46, 0.46, 0.48, 0.42, 0.42, 0.5, 0.6, 0.54, 0.36, 0.54, 0.46, 0.52, 0.52, 0.54, 0.64, 0.62, 0.5, 0.46, 0.42, 0.54, 0.48, 0.52, 0.58, 0.56, 0.56, 0.54, 0.6, 0.5, 0.36, 0.42, 0.6, 0.48, 0.5, 0.44, 0.5, 0.48, 0.4, 0.54, 0.38, 0.62, 0.64, 0.44, 0.48, 0.42, 0.5, 0.48, 0.58, 0.52, 0.52, 0.44, 0.58, 0.6, 0.52, 0.46, 0.44, 0.54, 0.46, 0.62, 0.6, 0.54, 0.58, 0.4, 0.4, 0.34, 0.54, 0.6, 0.46, 0.54, 0.52, 0.42, 0.54, 0.54, 0.46, 0.5, 0.52, 0.44, 0.5, 0.52, 0.52, 0.44, 0.42, 0.58, 0.48, 0.64, 0.46, 0.6, 0.48, 0.46, 0.54, 0.56, 0.42, 0.48, 0.52, 0.44, 0.54, 0.54, 0.54, 0.46, 0.5, 0.54, 0.48, 0.46, 0.6, 0.56, 0.56, 0.58, 0.48, 0.38, 0.56, 0.4, 0.52, 0.44, 0.46, 0.5, 0.48, 0.66, 0.54, 0.5, 0.52, 0.5, 0.56, 0.44, 0.6, 0.52, 0.48, 0.42, 0.52, 0.44, 0.54, 0.54, 0.44, 0.54, 0.44, 0.58, 0.5, 0.5, 0.62, 0.54, 0.4, 0.4, 0.58, 0.68, 0.5, 0.46, 0.52, 0.5, 0.36, 0.56, 0.46, 0.62, 0.48, 0.58, 0.44, 0.5, 0.54, 0.48, 0.56, 0.56, 0.6, 0.62, 0.58, 0.7, 0.6, 0.56, 0.52, 0.66, 0.58, 0.5, 0.4, 0.48, 0.62, 0.52, 0.48, 0.48, 0.48, 0.46, 0.38, 0.52, 0.48, 0.52, 0.52, 0.5, 0.28, 0.46, 0.52, 0.44, 0.38, 0.56, 0.46, 0.48, 0.5, 0.46, 0.36, 0.4, 0.58, 0.42, 0.5, 0.5, 0.46, 0.54, 0.52, 0.46, 0.38, 0.48, 0.56, 0.56, 0.3, 0.54, 0.5, 0.56, 0.52, 0.54, 0.48, 0.58, 0.58, 0.54, 0.48, 0.44, 0.5, 0.44, 0.44, 0.54, 0.4, 0.64, 0.48, 0.52, 0.5, 0.7, 0.54, 0.56, 0.58, 0.5, 0.56, 0.46, 0.5, 0.58, 0.62, 0.48, 0.52, 0.42, 0.48, 0.6, 0.42, 0.56, 0.56, 0.46, 0.58, 0.52, 0.58, 0.44, 0.42, 0.44, 0.5, 0.56, 0.62, 0.46, 0.5, 0.5, 0.46, 0.36, 0.44, 0.56, 0.38, 0.6, 0.56, 0.46, 0.56, 0.62, 0.44, 0.4, 0.5, 0.62, 0.52, 0.52, 0.56, 0.52, 0.56, 0.54, 0.56, 0.58, 0.42, 0.54, 0.46, 0.56, 0.48, 0.5, 0.5, 0.46, 0.56, 0.52, 0.54, 0.56, 0.5, 0.42, 0.48, 0.36, 0.42, 0.56, 0.48, 0.46, 0.5, 0.58, 0.58, 0.52, 0.4, 0.52, 0.52, 0.46, 0.52, 0.5, 0.48, 0.54, 0.36, 0.38, 0.46, 0.56, 0.6, 0.46, 0.46, 0.44, 0.6, 0.54, 0.54, 0.56, 0.62, 0.36, 0.48, 0.46, 0.54, 0.4, 0.42, 0.48, 0.46, 0.44, 0.6, 0.56, 0.48, 0.44, 0.6, 0.46, 0.5, 0.5, 0.5, 0.56, 0.54, 0.52, 0.48, 0.46, 0.48, 0.7, 0.54, 0.46, 0.54, 0.48, 0.5, 0.48, 0.46, 0.48, 0.5, 0.56, 0.58, 0.42, 0.56, 0.44, 0.5, 0.5, 0.5, 0.54, 0.5, 0.48, 0.56, 0.64, 0.6, 0.6, 0.4, 0.46, 0.58, 0.52, 0.38, 0.54, 0.44, 0.5, 0.54, 0.42, 0.5, 0.56, 0.5, 0.58, 0.62, 0.5, 0.58, 0.36, 0.42, 0.46, 0.48, 0.6, 0.5, 0.54, 0.48, 0.42, 0.42, 0.54, 0.56, 0.4, 0.38, 0.52, 0.52, 0.48, 0.48, 0.58, 0.46, 0.46, 0.54, 0.6, 0.36, 0.46, 0.6, 0.54, 0.48, 0.52, 0.54, 0.56, 0.38, 0.34, 0.48, 0.54, 0.62, 0.5, 0.5, 0.4, 0.46, 0.54, 0.56, 0.44, 0.52, 0.46, 0.56, 0.36, 0.6, 0.6, 0.5, 0.5, 0.46, 0.5, 0.4, 0.56, 0.44, 0.52, 0.42, 0.56, 0.48, 0.52, 0.46, 0.52, 0.4, 0.38, 0.44, 0.46, 0.54, 0.52, 0.5, 0.48, 0.46, 0.46, 0.44, 0.4, 0.42, 0.6, 0.44, 0.44, 0.42, 0.46, 0.52, 0.44, 0.5, 0.56, 0.44, 0.54, 0.5, 0.46, 0.4, 0.5, 0.52, 0.38, 0.52, 0.48, 0.56, 0.54, 0.42, 0.64, 0.66, 0.58, 0.56, 0.52, 0.42, 0.5, 0.5, 0.6, 0.52, 0.38, 0.52, 0.54, 0.48, 0.42, 0.46, 0.66, 0.5, 0.62, 0.58, 0.44, 0.52, 0.6, 0.52, 0.56, 0.56, 0.62, 0.44, 0.48, 0.4, 0.48, 0.36, 0.56, 0.48, 0.46, 0.48, 0.52, 0.54, 0.56, 0.52, 0.52, 0.54, 0.4, 0.5, 0.44, 0.46, 0.48, 0.52, 0.54, 0.5, 0.56, 0.62, 0.52, 0.32, 0.42, 0.42, 0.6, 0.58, 0.42, 0.46, 0.62, 0.36, 0.42, 0.38, 0.44, 0.38, 0.54, 0.72, 0.52, 0.52, 0.44, 0.54, 0.56, 0.46, 0.44, 0.46, 0.54, 0.52, 0.4, 0.38, 0.46, 0.44, 0.44, 0.42, 0.5, 0.56, 0.66, 0.52, 0.44, 0.56, 0.66, 0.28, 0.34, 0.54, 0.44, 0.56, 0.62, 0.44, 0.42, 0.52, 0.5, 0.44, 0.52, 0.5, 0.5, 0.56, 0.5, 0.34, 0.52, 0.5, 0.54, 0.52, 0.58, 0.46, 0.52, 0.54, 0.5, 0.5, 0.54, 0.44, 0.38, 0.48, 0.56, 0.46, 0.58, 0.5, 0.44, 0.44, 0.6, 0.54, 0.36, 0.42, 0.46, 0.56, 0.42, 0.5, 0.52, 0.5, 0.58, 0.5, 0.54, 0.44, 0.56, 0.42, 0.5, 0.46, 0.44, 0.46, 0.4, 0.62, 0.56, 0.48, 0.52, 0.6, 0.58, 0.46, 0.52, 0.52, 0.52, 0.56, 0.54, 0.48, 0.44, 0.54, 0.54, 0.52, 0.48, 0.52, 0.46, 0.4, 0.52, 0.52, 0.56, 0.52, 0.44, 0.46, 0.46, 0.46, 0.54, 0.5, 0.52, 0.56, 0.62, 0.6, 0.46, 0.5, 0.52, 0.5, 0.5, 0.56, 0.54, 0.42, 0.48, 0.36, 0.5, 0.38, 0.38, 0.5, 0.48, 0.5, 0.5, 0.4, 0.32, 0.54, 0.38, 0.4, 0.46, 0.44, 0.48, 0.64, 0.46, 0.42, 0.48, 0.48, 0.52, 0.54, 0.54, 0.58, 0.52, 0.42, 0.52, 0.58, 0.54, 0.42, 0.6, 0.54, 0.4, 0.46, 0.46, 0.62, 0.54, 0.54, 0.58, 0.56, 0.4, 0.56, 0.64, 0.6, 0.44, 0.42, 0.54, 0.44, 0.56, 0.52, 0.52, 0.52, 0.48, 0.48, 0.6, 0.58, 0.5, 0.38, 0.5, 0.48, 0.56, 0.42, 0.48, 0.56, 0.58, 0.36, 0.4, 0.48, 0.4, 0.58, 0.52, 0.58, 0.64, 0.48, 0.6, 0.64, 0.36, 0.66, 0.42, 0.64, 0.38, 0.48, 0.42, 0.56, 0.44, 0.28, 0.42, 0.54, 0.58, 0.5, 0.56, 0.44, 0.36, 0.3, 0.5, 0.64, 0.32, 0.5, 0.46, 0.4, 0.5, 0.7, 0.46, 0.52, 0.46, 0.6, 0.62, 0.4, 0.58, 0.44, 0.44, 0.58, 0.46, 0.44, 0.46, 0.44, 0.54, 0.62, 0.42, 0.54, 0.58, 0.42, 0.48, 0.54, 0.42, 0.44, 0.4, 0.38, 0.64, 0.5, 0.52, 0.54, 0.56, 0.54, 0.42, 0.56, 0.52, 0.48, 0.46, 0.4, 0.58, 0.5, 0.56, 0.6, 0.56, 0.4, 0.52, 0.68, 0.38, 0.6, 0.5, 0.54, 0.62, 0.48, 0.38, 0.64, 0.56, 0.56, 0.52, 0.5, 0.48, 0.56, 0.44, 0.44, 0.54, 0.52, 0.5, 0.52, 0.42, 0.42, 0.58, 0.52, 0.56, 0.52, 0.5, 0.38, 0.52, 0.42, 0.68, 0.54, 0.36, 0.44, 0.5, 0.52, 0.4, 0.54, 0.52, 0.58, 0.58, 0.48, 0.52, 0.5, 0.54, 0.46, 0.4, 0.54, 0.58, 0.38, 0.44, 0.58, 0.52, 0.62, 0.48, 0.42, 0.54, 0.42, 0.52, 0.52, 0.56, 0.54, 0.58, 0.5, 0.44, 0.58, 0.56, 0.58, 0.52, 0.54, 0.64, 0.48, 0.48, 0.46, 0.36, 0.58, 0.5, 0.42, 0.58, 0.58, 0.48, 0.46, 0.48, 0.46, 0.46, 0.52, 0.42, 0.6, 0.46, 0.48, 0.52, 0.62, 0.48, 0.5, 0.48, 0.58, 0.46, 0.58, 0.44, 0.36, 0.62, 0.48, 0.44, 0.54, 0.5, 0.56, 0.5, 0.58, 0.56, 0.46, 0.42, 0.48, 0.42, 0.6, 0.42, 0.52, 0.48, 0.54, 0.5, 0.5, 0.52, 0.54, 0.38, 0.54, 0.42, 0.5, 0.5, 0.52, 0.48, 0.42, 0.46, 0.54, 0.52, 0.48, 0.48, 0.48, 0.48, 0.62, 0.6, 0.66, 0.44, 0.4, 0.56, 0.46, 0.52, 0.52, 0.46, 0.44, 0.48, 0.48, 0.38, 0.48, 0.62, 0.26, 0.44, 0.48, 0.52, 0.44, 0.6, 0.42, 0.48, 0.54, 0.48, 0.4, 0.5, 0.52, 0.52, 0.54, 0.5, 0.5, 0.4, 0.46, 0.48, 0.46, 0.36, 0.54, 0.52, 0.5, 0.42, 0.52, 0.56, 0.5, 0.54, 0.46, 0.46, 0.46, 0.54, 0.46, 0.58, 0.52, 0.6, 0.42, 0.5, 0.52, 0.5, 0.42, 0.5, 0.52, 0.46, 0.42, 0.62, 0.5, 0.48, 0.48, 0.52, 0.58, 0.52, 0.4, 0.56, 0.54, 0.6, 0.52, 0.4, 0.4, 0.52, 0.52, 0.48, 0.4, 0.52, 0.52, 0.52, 0.52, 0.5, 0.4, 0.64, 0.48, 0.52, 0.64, 0.48, 0.5, 0.58, 0.42, 0.36, 0.48, 0.52, 0.58, 0.48, 0.46, 0.54, 0.48, 0.56, 0.56, 0.54, 0.42, 0.56, 0.58, 0.56, 0.56, 0.48, 0.56, 0.62, 0.54, 0.44, 0.56, 0.56, 0.48, 0.42, 0.5, 0.4, 0.52, 0.5, 0.4, 0.5, 0.58, 0.56, 0.48, 0.42, 0.56, 0.5, 0.48, 0.46, 0.52, 0.68, 0.48, 0.54, 0.46, 0.42, 0.48, 0.62, 0.48, 0.48, 0.64, 0.52, 0.48, 0.48, 0.5, 0.42, 0.6, 0.52, 0.54, 0.5, 0.46, 0.46, 0.5, 0.5, 0.44, 0.38, 0.56, 0.48, 0.42, 0.58, 0.48, 0.5, 0.46, 0.58, 0.7, 0.52, 0.58, 0.5, 0.4, 0.52, 0.5, 0.46, 0.6, 0.42, 0.62, 0.44, 0.44, 0.54, 0.58, 0.44, 0.54, 0.54, 0.54, 0.36, 0.4, 0.44, 0.44, 0.52, 0.44, 0.58, 0.54, 0.66, 0.52, 0.46, 0.48, 0.48, 0.66, 0.5, 0.56, 0.46, 0.54, 0.66, 0.54, 0.52, 0.5, 0.54, 0.5, 0.5, 0.46, 0.62, 0.44, 0.56, 0.5, 0.5, 0.48, 0.5, 0.5, 0.46, 0.44, 0.5, 0.46, 0.42, 0.5, 0.62, 0.44, 0.54, 0.62, 0.46, 0.62, 0.46, 0.56, 0.48, 0.5, 0.44, 0.48, 0.44, 0.42, 0.56, 0.54, 0.48, 0.42, 0.44, 0.42, 0.52, 0.46, 0.58, 0.54, 0.52, 0.54, 0.58, 0.34, 0.52, 0.5, 0.54, 0.58, 0.56, 0.62, 0.48, 0.58, 0.42, 0.38, 0.48, 0.4, 0.54, 0.42, 0.54, 0.4, 0.48, 0.64, 0.48, 0.54, 0.52, 0.44, 0.54, 0.52, 0.42, 0.54, 0.5, 0.38, 0.44, 0.52, 0.46, 0.54, 0.5, 0.54, 0.52, 0.42, 0.44, 0.58, 0.56, 0.42, 0.42, 0.52, 0.44, 0.58, 0.5, 0.38, 0.66, 0.48, 0.34, 0.48, 0.54, 0.4, 0.52, 0.52, 0.46, 0.42, 0.46, 0.56, 0.52, 0.62, 0.5, 0.62, 0.6, 0.6, 0.7, 0.56, 0.52, 0.44, 0.48, 0.48, 0.56, 0.48, 0.56, 0.38, 0.54, 0.58, 0.66, 0.5, 0.48, 0.4, 0.52, 0.48, 0.46, 0.3, 0.52, 0.48, 0.56, 0.54, 0.46, 0.52, 0.56, 0.42, 0.4, 0.46, 0.54, 0.52, 0.66, 0.56, 0.46, 0.46, 0.58, 0.68, 0.54, 0.46, 0.54, 0.42, 0.48, 0.6, 0.4, 0.68, 0.62, 0.4, 0.48, 0.46, 0.46, 0.5, 0.42, 0.56, 0.5, 0.4, 0.46, 0.46, 0.4, 0.4, 0.5, 0.7, 0.44, 0.5, 0.52, 0.58, 0.56, 0.46, 0.36, 0.56, 0.46, 0.42, 0.58, 0.5, 0.56, 0.46, 0.58, 0.5, 0.52, 0.4, 0.5, 0.46, 0.6, 0.54, 0.54, 0.48, 0.54, 0.54, 0.42, 0.58, 0.44, 0.64, 0.56, 0.42, 0.48, 0.6, 0.4, 0.26, 0.46, 0.46, 0.42, 0.46, 0.32, 0.4, 0.34, 0.54, 0.44, 0.58, 0.52, 0.52, 0.54, 0.46, 0.46, 0.46, 0.48, 0.36, 0.52, 0.5, 0.52, 0.56, 0.54, 0.54, 0.5, 0.54, 0.56, 0.46, 0.46, 0.68, 0.54, 0.36, 0.52, 0.52, 0.56, 0.54, 0.5, 0.52, 0.64, 0.48, 0.5, 0.5, 0.7, 0.6, 0.6, 0.52, 0.48, 0.58, 0.56, 0.58, 0.44, 0.48, 0.6, 0.56, 0.6, 0.48, 0.42, 0.56, 0.52, 0.52, 0.52, 0.54, 0.44, 0.66, 0.54, 0.52, 0.56, 0.5, 0.44, 0.52, 0.52, 0.5, 0.42, 0.56, 0.36, 0.56, 0.58, 0.46, 0.54, 0.54, 0.52, 0.46, 0.62, 0.56, 0.52, 0.52, 0.44, 0.4, 0.34, 0.58, 0.46, 0.36, 0.46, 0.4, 0.6, 0.54, 0.52, 0.44, 0.46, 0.42, 0.6, 0.5, 0.54, 0.48, 0.64, 0.36, 0.58, 0.66, 0.46, 0.56, 0.6, 0.54, 0.42, 0.5, 0.62, 0.52, 0.48, 0.44, 0.52, 0.5, 0.52, 0.48, 0.6, 0.42, 0.56, 0.26, 0.42, 0.42, 0.46, 0.48, 0.5, 0.64, 0.42, 0.5, 0.6, 0.48, 0.56, 0.52, 0.56, 0.44, 0.62, 0.5, 0.44, 0.5, 0.54, 0.64, 0.44, 0.46, 0.44, 0.52, 0.58, 0.58, 0.5, 0.42, 0.56, 0.4, 0.68, 0.56, 0.58, 0.48, 0.5, 0.46, 0.44, 0.58, 0.52, 0.46, 0.6, 0.42, 0.48, 0.62, 0.48, 0.56, 0.52, 0.48, 0.54, 0.6, 0.52, 0.6, 0.52, 0.48, 0.62, 0.56, 0.52, 0.58, 0.48, 0.44, 0.52, 0.54, 0.58, 0.48, 0.46, 0.64, 0.42, 0.62, 0.42, 0.54, 0.46, 0.48, 0.5, 0.54, 0.4, 0.5, 0.52, 0.52, 0.32, 0.6, 0.52, 0.5, 0.32, 0.54, 0.4, 0.52, 0.38, 0.52, 0.48, 0.38, 0.44, 0.5, 0.58, 0.5, 0.56, 0.56, 0.52, 0.56, 0.6, 0.56, 0.46, 0.44, 0.56, 0.52, 0.6, 0.3, 0.5, 0.48, 0.42, 0.52, 0.5, 0.46, 0.54, 0.46, 0.44, 0.46, 0.5, 0.46, 0.48, 0.4, 0.54, 0.42, 0.5, 0.56, 0.6, 0.44, 0.42, 0.46, 0.42, 0.52, 0.44, 0.38, 0.52, 0.6, 0.58, 0.46, 0.44, 0.48, 0.44, 0.44, 0.44, 0.58, 0.36, 0.4, 0.44, 0.48, 0.44, 0.54, 0.5, 0.54, 0.56, 0.42, 0.4, 0.5, 0.58, 0.5, 0.54, 0.5, 0.72, 0.56, 0.54, 0.58, 0.44, 0.5, 0.36, 0.52, 0.56, 0.48, 0.56, 0.5, 0.54, 0.52, 0.54, 0.54, 0.46, 0.4, 0.58, 0.58, 0.48, 0.58, 0.4, 0.56, 0.58, 0.56, 0.5, 0.54, 0.56, 0.44, 0.54, 0.52, 0.58, 0.5, 0.52, 0.42, 0.4, 0.56, 0.46, 0.32, 0.48, 0.48, 0.46, 0.54, 0.54, 0.54, 0.44, 0.48, 0.46, 0.42, 0.48, 0.48, 0.5, 0.38, 0.48, 0.44, 0.46, 0.5, 0.34, 0.56, 0.46, 0.5, 0.58, 0.44, 0.54, 0.46, 0.46, 0.54, 0.44, 0.44, 0.52, 0.42, 0.68, 0.34, 0.5, 0.52, 0.44, 0.56, 0.42, 0.6, 0.54, 0.62, 0.54, 0.44, 0.52, 0.5, 0.56, 0.54, 0.52, 0.58, 0.6, 0.5, 0.52, 0.42, 0.54, 0.54, 0.48, 0.4, 0.5, 0.44, 0.48, 0.52, 0.42, 0.4, 0.44, 0.54, 0.46, 0.5, 0.5, 0.4, 0.5, 0.4, 0.44, 0.52, 0.52, 0.44, 0.52, 0.56, 0.54, 0.54, 0.4, 0.4, 0.44, 0.62, 0.5, 0.52, 0.4, 0.6, 0.54, 0.44, 0.42, 0.5, 0.56, 0.44, 0.5, 0.5, 0.54, 0.46, 0.46, 0.42, 0.5, 0.46, 0.44, 0.42, 0.48, 0.42, 0.46, 0.6, 0.4, 0.42, 0.44, 0.62, 0.5, 0.5, 0.46, 0.62, 0.44, 0.46, 0.52, 0.42, 0.54, 0.52, 0.52, 0.38, 0.58, 0.38, 0.44, 0.54, 0.44, 0.44, 0.48, 0.56, 0.66, 0.5, 0.56, 0.52, 0.54, 0.56, 0.4, 0.52, 0.54, 0.46, 0.58, 0.4, 0.6, 0.54, 0.5, 0.5, 0.56, 0.54, 0.5, 0.52, 0.5, 0.5, 0.5, 0.5, 0.5, 0.58, 0.48, 0.52, 0.42, 0.6, 0.42, 0.56, 0.52, 0.5, 0.44, 0.56, 0.5, 0.52, 0.56, 0.58, 0.54, 0.4, 0.52, 0.44, 0.36, 0.58, 0.52, 0.52, 0.4, 0.48, 0.58, 0.52, 0.48, 0.64, 0.62, 0.52, 0.54, 0.44, 0.48, 0.5, 0.68, 0.54, 0.54, 0.42, 0.46, 0.58, 0.52, 0.4, 0.52, 0.58, 0.58, 0.4, 0.38, 0.52, 0.52, 0.48, 0.5, 0.46, 0.56, 0.54, 0.58, 0.52, 0.56, 0.52, 0.6, 0.56, 0.42, 0.56, 0.56, 0.52, 0.54, 0.48, 0.4, 0.4, 0.42, 0.44, 0.5, 0.5, 0.62, 0.42, 0.48, 0.5, 0.5, 0.64, 0.56, 0.44, 0.5, 0.54, 0.46, 0.48, 0.5, 0.48, 0.58, 0.38, 0.48, 0.38, 0.56, 0.6, 0.48, 0.52, 0.6, 0.68, 0.52, 0.52, 0.58, 0.52, 0.44, 0.52, 0.3, 0.56, 0.48, 0.46, 0.6, 0.46, 0.48, 0.54, 0.52, 0.48, 0.54, 0.48, 0.58, 0.38, 0.5, 0.48, 0.52, 0.48, 0.34, 0.42, 0.58, 0.48, 0.54, 0.42, 0.42, 0.5, 0.54, 0.5, 0.6, 0.58, 0.38, 0.5, 0.46, 0.56, 0.52, 0.48, 0.6, 0.42, 0.6, 0.5, 0.54, 0.48, 0.58, 0.56, 0.5, 0.48, 0.46, 0.44, 0.52, 0.48, 0.5, 0.5, 0.58, 0.46, 0.72, 0.4, 0.44, 0.36, 0.5, 0.42, 0.46, 0.58, 0.46, 0.44, 0.52, 0.54, 0.6, 0.54, 0.32, 0.42, 0.52, 0.54, 0.5, 0.44, 0.4, 0.56, 0.32, 0.5, 0.52, 0.5, 0.46, 0.44, 0.4, 0.46, 0.48, 0.48, 0.54, 0.56, 0.56, 0.58, 0.48, 0.46, 0.6, 0.54, 0.52, 0.4, 0.36, 0.46, 0.56, 0.44, 0.58, 0.44, 0.3, 0.6, 0.46, 0.48, 0.44, 0.42, 0.44, 0.52, 0.38, 0.5, 0.42, 0.54, 0.44, 0.46, 0.56, 0.44, 0.48, 0.4, 0.5, 0.46, 0.44, 0.46, 0.56, 0.5, 0.34, 0.66, 0.5, 0.48, 0.46, 0.64, 0.54, 0.38, 0.42, 0.46, 0.52, 0.42, 0.5, 0.46, 0.6, 0.58, 0.4, 0.48, 0.64, 0.54, 0.62, 0.5, 0.5, 0.4, 0.5, 0.56, 0.58, 0.44, 0.52, 0.56, 0.56, 0.38, 0.48, 0.52, 0.52, 0.5, 0.66, 0.5, 0.62, 0.48, 0.44, 0.42, 0.46, 0.52, 0.48, 0.46, 0.56, 0.42, 0.64, 0.34, 0.32, 0.46, 0.46, 0.58, 0.44, 0.4, 0.52, 0.34, 0.48, 0.48, 0.48, 0.5, 0.52, 0.5, 0.5, 0.48, 0.5, 0.58, 0.56, 0.44, 0.5, 0.58, 0.66, 0.54, 0.38, 0.42, 0.46, 0.5, 0.58, 0.58, 0.4, 0.58, 0.6]\n"
          ],
          "name": "stdout"
        }
      ]
    },
    {
      "cell_type": "code",
      "metadata": {
        "id": "rfeA06evOT2K",
        "colab_type": "code",
        "outputId": "eaccda1f-2ff6-4036-9a09-0a075115a318",
        "colab": {
          "base_uri": "https://localhost:8080/",
          "height": 202
        }
      },
      "source": [
        "df = pd.DataFrame({'single_sample': one_sample})\n",
        "df.head()"
      ],
      "execution_count": 14,
      "outputs": [
        {
          "output_type": "execute_result",
          "data": {
            "text/html": [
              "<div>\n",
              "<style scoped>\n",
              "    .dataframe tbody tr th:only-of-type {\n",
              "        vertical-align: middle;\n",
              "    }\n",
              "\n",
              "    .dataframe tbody tr th {\n",
              "        vertical-align: top;\n",
              "    }\n",
              "\n",
              "    .dataframe thead th {\n",
              "        text-align: right;\n",
              "    }\n",
              "</style>\n",
              "<table border=\"1\" class=\"dataframe\">\n",
              "  <thead>\n",
              "    <tr style=\"text-align: right;\">\n",
              "      <th></th>\n",
              "      <th>single_sample</th>\n",
              "    </tr>\n",
              "  </thead>\n",
              "  <tbody>\n",
              "    <tr>\n",
              "      <th>0</th>\n",
              "      <td>1</td>\n",
              "    </tr>\n",
              "    <tr>\n",
              "      <th>1</th>\n",
              "      <td>1</td>\n",
              "    </tr>\n",
              "    <tr>\n",
              "      <th>2</th>\n",
              "      <td>0</td>\n",
              "    </tr>\n",
              "    <tr>\n",
              "      <th>3</th>\n",
              "      <td>1</td>\n",
              "    </tr>\n",
              "    <tr>\n",
              "      <th>4</th>\n",
              "      <td>1</td>\n",
              "    </tr>\n",
              "  </tbody>\n",
              "</table>\n",
              "</div>"
            ],
            "text/plain": [
              "   single_sample\n",
              "0              1\n",
              "1              1\n",
              "2              0\n",
              "3              1\n",
              "4              1"
            ]
          },
          "metadata": {
            "tags": []
          },
          "execution_count": 14
        }
      ]
    },
    {
      "cell_type": "code",
      "metadata": {
        "id": "GlMSNFX6OmBV",
        "colab_type": "code",
        "outputId": "e7403fc2-3fa4-44ad-db56-3645d5acbbb3",
        "colab": {
          "base_uri": "https://localhost:8080/",
          "height": 269
        }
      },
      "source": [
        "df.single_sample.hist();"
      ],
      "execution_count": 15,
      "outputs": [
        {
          "output_type": "display_data",
          "data": {
            "image/png": "[encoded data removed]",
            "text/plain": [
              "<Figure size 432x288 with 1 Axes>"
            ]
          },
          "metadata": {
            "tags": []
          }
        }
      ]
    },
    {
      "cell_type": "code",
      "metadata": {
        "id": "Jie4ypgLOs5M",
        "colab_type": "code",
        "outputId": "347fd4d9-74f7-41f0-f032-ebd10b9c1d2d",
        "colab": {
          "base_uri": "https://localhost:8080/",
          "height": 296
        }
      },
      "source": [
        "ax = plt.hist(sample_means, bins=13)\n",
        "plt.title('Distribution of 3000 sample means \\n (of 8 coinflips each)');"
      ],
      "execution_count": 16,
      "outputs": [
        {
          "output_type": "display_data",
          "data": {
            "image/png": "[encoded data removed]",
            "text/plain": [
              "<Figure size 432x288 with 1 Axes>"
            ]
          },
          "metadata": {
            "tags": []
          }
        }
      ]
    },
    {
      "cell_type": "markdown",
      "metadata": {
        "id": "LsEAjc4rOylm",
        "colab_type": "text"
      },
      "source": [
        "What does the Central Limit Theorem State? That no matter the initial distribution of the population, the distribution of sample means taken will approximate a normal distribution as $n \\rightarrow \\infty$.\n",
        "\n",
        "This has very important implications for hypothesis testing and is precisely the reason why the t-distribution begins to approximate the normal distribution as our sample size increases. "
      ]
    },
    {
      "cell_type": "code",
      "metadata": {
        "id": "F15l-J788ApQ",
        "colab_type": "code",
        "outputId": "afb637fe-330d-4292-a718-70587f0a1d97",
        "colab": {
          "base_uri": "https://localhost:8080/",
          "height": 72
        }
      },
      "source": [
        "sample_means_small = []\n",
        "sample_means_large = []\n",
        "for x in range(0,3000):\n",
        "  coinflips_small = np.random.binomial(n=1, p=.5, size=20)\n",
        "  coinflips_large = np.random.binomial(n=1, p=.5, size=100)\n",
        "  one_small_sample = coinflips_small\n",
        "  one_small_large = coinflips_large\n",
        "  sample_means_small.append(coinflips_small.mean())\n",
        "  sample_means_large.append(coinflips_large.mean())\n",
        "\n",
        "print(len(sample_means_small))\n",
        "print(sample_means_small)"
      ],
      "execution_count": 0,
      "outputs": [
        {
          "output_type": "stream",
          "text": [
            "3000\n",
            "[0.35, 0.55, 0.4, 0.5, 0.4, 0.4, 0.5, 0.6, 0.5, 0.45, 0.55, 0.45, 0.6, 0.45, 0.75, 0.5, 0.4, 0.35, 0.55, 0.6, 0.5, 0.75, 0.7, 0.45, 0.45, 0.75, 0.35, 0.5, 0.45, 0.5, 0.55, 0.4, 0.5, 0.45, 0.6, 0.55, 0.55, 0.5, 0.35, 0.6, 0.4, 0.5, 0.6, 0.35, 0.4, 0.5, 0.6, 0.3, 0.65, 0.45, 0.55, 0.45, 0.5, 0.4, 0.3, 0.55, 0.4, 0.3, 0.55, 0.5, 0.5, 0.5, 0.45, 0.45, 0.45, 0.6, 0.6, 0.5, 0.4, 0.65, 0.45, 0.35, 0.6, 0.65, 0.65, 0.45, 0.55, 0.5, 0.6, 0.6, 0.65, 0.6, 0.5, 0.5, 0.5, 0.35, 0.65, 0.5, 0.55, 0.55, 0.35, 0.6, 0.7, 0.65, 0.55, 0.5, 0.6, 0.5, 0.35, 0.35, 0.5, 0.5, 0.3, 0.4, 0.35, 0.4, 0.45, 0.5, 0.65, 0.45, 0.35, 0.6, 0.65, 0.6, 0.5, 0.55, 0.5, 0.65, 0.7, 0.5, 0.4, 0.5, 0.55, 0.45, 0.5, 0.4, 0.6, 0.4, 0.45, 0.4, 0.6, 0.35, 0.5, 0.55, 0.35, 0.6, 0.3, 0.3, 0.5, 0.55, 0.55, 0.55, 0.55, 0.6, 0.6, 0.4, 0.55, 0.55, 0.4, 0.55, 0.65, 0.6, 0.55, 0.55, 0.4, 0.45, 0.35, 0.5, 0.4, 0.4, 0.5, 0.45, 0.7, 0.35, 0.35, 0.35, 0.3, 0.5, 0.6, 0.45, 0.2, 0.4, 0.35, 0.4, 0.5, 0.65, 0.65, 0.55, 0.15, 0.55, 0.5, 0.4, 0.4, 0.45, 0.4, 0.3, 0.6, 0.5, 0.65, 0.5, 0.5, 0.75, 0.55, 0.65, 0.5, 0.45, 0.35, 0.45, 0.55, 0.4, 0.55, 0.5, 0.7, 0.25, 0.55, 0.45, 0.4, 0.65, 0.6, 0.5, 0.4, 0.4, 0.55, 0.45, 0.6, 0.5, 0.3, 0.6, 0.6, 0.7, 0.5, 0.45, 0.4, 0.75, 0.35, 0.45, 0.65, 0.75, 0.45, 0.55, 0.3, 0.45, 0.4, 0.5, 0.6, 0.55, 0.55, 0.4, 0.45, 0.45, 0.5, 0.35, 0.35, 0.55, 0.55, 0.5, 0.55, 0.35, 0.6, 0.55, 0.5, 0.25, 0.45, 0.7, 0.55, 0.45, 0.55, 0.4, 0.4, 0.35, 0.45, 0.6, 0.45, 0.7, 0.4, 0.5, 0.5, 0.55, 0.35, 0.35, 0.35, 0.6, 0.5, 0.3, 0.6, 0.45, 0.45, 0.35, 0.45, 0.5, 0.5, 0.6, 0.7, 0.45, 0.5, 0.45, 0.55, 0.45, 0.4, 0.4, 0.5, 0.6, 0.45, 0.5, 0.45, 0.55, 0.3, 0.45, 0.7, 0.45, 0.55, 0.6, 0.65, 0.5, 0.4, 0.55, 0.4, 0.35, 0.55, 0.7, 0.5, 0.55, 0.5, 0.6, 0.5, 0.3, 0.45, 0.45, 0.6, 0.6, 0.45, 0.75, 0.6, 0.6, 0.5, 0.6, 0.5, 0.45, 0.4, 0.45, 0.5, 0.45, 0.45, 0.55, 0.45, 0.45, 0.8, 0.45, 0.7, 0.7, 0.4, 0.35, 0.5, 0.5, 0.45, 0.2, 0.35, 0.55, 0.6, 0.55, 0.45, 0.55, 0.35, 0.55, 0.45, 0.6, 0.45, 0.4, 0.6, 0.6, 0.5, 0.55, 0.55, 0.45, 0.6, 0.6, 0.35, 0.55, 0.65, 0.6, 0.45, 0.5, 0.3, 0.5, 0.5, 0.25, 0.55, 0.4, 0.7, 0.45, 0.5, 0.55, 0.45, 0.4, 0.45, 0.35, 0.7, 0.5, 0.65, 0.7, 0.6, 0.5, 0.45, 0.45, 0.45, 0.6, 0.6, 0.4, 0.4, 0.5, 0.6, 0.55, 0.25, 0.6, 0.75, 0.6, 0.45, 0.5, 0.45, 0.4, 0.5, 0.7, 0.35, 0.5, 0.55, 0.55, 0.65, 0.5, 0.7, 0.55, 0.3, 0.5, 0.6, 0.65, 0.5, 0.55, 0.35, 0.55, 0.45, 0.35, 0.35, 0.6, 0.35, 0.65, 0.65, 0.7, 0.55, 0.5, 0.5, 0.35, 0.35, 0.7, 0.35, 0.55, 0.6, 0.4, 0.55, 0.4, 0.55, 0.65, 0.55, 0.3, 0.5, 0.45, 0.65, 0.45, 0.4, 0.65, 0.3, 0.5, 0.4, 0.65, 0.4, 0.6, 0.45, 0.5, 0.45, 0.45, 0.5, 0.5, 0.25, 0.4, 0.5, 0.55, 0.5, 0.45, 0.45, 0.75, 0.45, 0.3, 0.35, 0.65, 0.5, 0.45, 0.6, 0.55, 0.7, 0.55, 0.45, 0.45, 0.45, 0.6, 0.4, 0.4, 0.45, 0.5, 0.4, 0.75, 0.55, 0.35, 0.65, 0.5, 0.45, 0.6, 0.6, 0.45, 0.65, 0.55, 0.5, 0.65, 0.5, 0.7, 0.45, 0.65, 0.5, 0.4, 0.45, 0.4, 0.35, 0.65, 0.55, 0.35, 0.5, 0.45, 0.6, 0.6, 0.45, 0.65, 0.65, 0.35, 0.3, 0.6, 0.55, 0.5, 0.7, 0.45, 0.6, 0.5, 0.35, 0.45, 0.55, 0.55, 0.65, 0.45, 0.3, 0.65, 0.45, 0.5, 0.45, 0.5, 0.6, 0.35, 0.35, 0.55, 0.35, 0.6, 0.6, 0.35, 0.65, 0.4, 0.35, 0.5, 0.45, 0.45, 0.6, 0.55, 0.45, 0.55, 0.45, 0.7, 0.4, 0.65, 0.4, 0.45, 0.5, 0.55, 0.5, 0.5, 0.55, 0.6, 0.5, 0.4, 0.65, 0.55, 0.5, 0.5, 0.45, 0.65, 0.65, 0.5, 0.5, 0.65, 0.65, 0.5, 0.5, 0.5, 0.4, 0.5, 0.45, 0.55, 0.5, 0.55, 0.65, 0.5, 0.55, 0.45, 0.35, 0.5, 0.3, 0.7, 0.2, 0.5, 0.45, 0.4, 0.45, 0.4, 0.6, 0.55, 0.6, 0.5, 0.4, 0.6, 0.55, 0.6, 0.45, 0.55, 0.55, 0.7, 0.4, 0.4, 0.4, 0.55, 0.6, 0.55, 0.55, 0.6, 0.4, 0.45, 0.45, 0.3, 0.5, 0.6, 0.45, 0.5, 0.45, 0.6, 0.2, 0.5, 0.4, 0.5, 0.55, 0.55, 0.4, 0.55, 0.6, 0.4, 0.55, 0.5, 0.85, 0.45, 0.55, 0.65, 0.5, 0.6, 0.6, 0.45, 0.2, 0.55, 0.3, 0.45, 0.45, 0.5, 0.6, 0.5, 0.55, 0.4, 0.55, 0.65, 0.65, 0.55, 0.45, 0.5, 0.6, 0.7, 0.55, 0.4, 0.4, 0.5, 0.6, 0.6, 0.6, 0.3, 0.5, 0.35, 0.4, 0.6, 0.45, 0.35, 0.3, 0.4, 0.45, 0.45, 0.6, 0.35, 0.5, 0.55, 0.6, 0.6, 0.45, 0.55, 0.65, 0.45, 0.65, 0.6, 0.6, 0.5, 0.55, 0.35, 0.55, 0.6, 0.75, 0.5, 0.45, 0.4, 0.4, 0.35, 0.6, 0.6, 0.55, 0.6, 0.4, 0.55, 0.6, 0.65, 0.45, 0.45, 0.45, 0.45, 0.55, 0.7, 0.55, 0.6, 0.45, 0.4, 0.5, 0.45, 0.5, 0.55, 0.55, 0.55, 0.7, 0.6, 0.55, 0.4, 0.5, 0.45, 0.75, 0.35, 0.35, 0.5, 0.6, 0.45, 0.45, 0.45, 0.5, 0.3, 0.55, 0.6, 0.6, 0.6, 0.45, 0.5, 0.65, 0.6, 0.75, 0.55, 0.45, 0.6, 0.55, 0.6, 0.55, 0.5, 0.4, 0.5, 0.45, 0.25, 0.5, 0.5, 0.55, 0.6, 0.6, 0.55, 0.4, 0.4, 0.5, 0.6, 0.55, 0.5, 0.45, 0.5, 0.75, 0.5, 0.55, 0.4, 0.4, 0.3, 0.3, 0.5, 0.5, 0.5, 0.55, 0.5, 0.5, 0.5, 0.65, 0.35, 0.55, 0.3, 0.4, 0.4, 0.6, 0.3, 0.5, 0.55, 0.4, 0.6, 0.6, 0.45, 0.65, 0.45, 0.45, 0.65, 0.4, 0.5, 0.5, 0.6, 0.35, 0.5, 0.4, 0.5, 0.55, 0.45, 0.6, 0.25, 0.7, 0.45, 0.6, 0.4, 0.4, 0.5, 0.8, 0.55, 0.45, 0.5, 0.65, 0.55, 0.4, 0.65, 0.55, 0.4, 0.4, 0.35, 0.55, 0.35, 0.45, 0.6, 0.5, 0.5, 0.3, 0.65, 0.45, 0.5, 0.55, 0.35, 0.55, 0.45, 0.45, 0.25, 0.55, 0.6, 0.6, 0.55, 0.35, 0.45, 0.35, 0.5, 0.5, 0.45, 0.65, 0.65, 0.65, 0.5, 0.55, 0.5, 0.45, 0.35, 0.45, 0.65, 0.4, 0.7, 0.4, 0.5, 0.6, 0.55, 0.55, 0.45, 0.6, 0.55, 0.7, 0.6, 0.65, 0.5, 0.45, 0.35, 0.35, 0.55, 0.5, 0.45, 0.5, 0.6, 0.35, 0.55, 0.4, 0.55, 0.65, 0.55, 0.6, 0.45, 0.45, 0.55, 0.6, 0.45, 0.45, 0.55, 0.4, 0.6, 0.45, 0.45, 0.4, 0.45, 0.5, 0.55, 0.4, 0.55, 0.6, 0.4, 0.5, 0.5, 0.6, 0.5, 0.25, 0.45, 0.55, 0.65, 0.4, 0.6, 0.5, 0.45, 0.7, 0.75, 0.25, 0.55, 0.45, 0.55, 0.5, 0.7, 0.55, 0.65, 0.55, 0.5, 0.6, 0.3, 0.6, 0.5, 0.6, 0.7, 0.6, 0.4, 0.35, 0.5, 0.45, 0.5, 0.4, 0.3, 0.6, 0.4, 0.5, 0.45, 0.4, 0.6, 0.65, 0.6, 0.8, 0.45, 0.7, 0.45, 0.55, 0.55, 0.35, 0.5, 0.3, 0.4, 0.35, 0.35, 0.7, 0.55, 0.5, 0.4, 0.45, 0.35, 0.6, 0.55, 0.45, 0.3, 0.55, 0.45, 0.65, 0.7, 0.6, 0.6, 0.45, 0.6, 0.7, 0.5, 0.65, 0.4, 0.45, 0.6, 0.55, 0.55, 0.45, 0.5, 0.5, 0.45, 0.55, 0.3, 0.55, 0.3, 0.45, 0.65, 0.5, 0.3, 0.85, 0.55, 0.4, 0.45, 0.4, 0.3, 0.6, 0.5, 0.55, 0.45, 0.55, 0.75, 0.75, 0.35, 0.5, 0.45, 0.5, 0.6, 0.5, 0.35, 0.65, 0.6, 0.4, 0.4, 0.5, 0.55, 0.55, 0.45, 0.35, 0.5, 0.6, 0.65, 0.55, 0.45, 0.4, 0.5, 0.65, 0.5, 0.25, 0.4, 0.7, 0.55, 0.35, 0.45, 0.4, 0.5, 0.35, 0.7, 0.4, 0.4, 0.2, 0.55, 0.45, 0.5, 0.55, 0.5, 0.55, 0.5, 0.4, 0.3, 0.45, 0.35, 0.55, 0.45, 0.55, 0.65, 0.7, 0.55, 0.6, 0.55, 0.55, 0.5, 0.45, 0.55, 0.75, 0.25, 0.65, 0.4, 0.7, 0.55, 0.4, 0.4, 0.5, 0.55, 0.4, 0.55, 0.55, 0.6, 0.65, 0.35, 0.25, 0.75, 0.6, 0.55, 0.8, 0.4, 0.45, 0.6, 0.4, 0.6, 0.55, 0.7, 0.5, 0.35, 0.6, 0.45, 0.6, 0.65, 0.65, 0.4, 0.35, 0.35, 0.5, 0.35, 0.6, 0.45, 0.4, 0.55, 0.5, 0.5, 0.35, 0.35, 0.45, 0.5, 0.4, 0.7, 0.5, 0.35, 0.5, 0.35, 0.6, 0.4, 0.6, 0.55, 0.65, 0.65, 0.55, 0.45, 0.7, 0.7, 0.55, 0.25, 0.4, 0.45, 0.45, 0.5, 0.35, 0.5, 0.6, 0.5, 0.6, 0.5, 0.5, 0.6, 0.5, 0.4, 0.6, 0.65, 0.3, 0.55, 0.55, 0.6, 0.6, 0.55, 0.6, 0.45, 0.45, 0.35, 0.45, 0.5, 0.7, 0.4, 0.5, 0.45, 0.45, 0.5, 0.6, 0.55, 0.4, 0.6, 0.55, 0.5, 0.5, 0.5, 0.55, 0.6, 0.4, 0.35, 0.5, 0.45, 0.7, 0.55, 0.5, 0.55, 0.55, 0.4, 0.45, 0.5, 0.45, 0.75, 0.4, 0.75, 0.65, 0.6, 0.25, 0.5, 0.4, 0.6, 0.45, 0.55, 0.35, 0.4, 0.5, 0.5, 0.6, 0.55, 0.55, 0.4, 0.5, 0.3, 0.6, 0.7, 0.45, 0.45, 0.5, 0.35, 0.65, 0.7, 0.65, 0.35, 0.5, 0.55, 0.5, 0.4, 0.65, 0.55, 0.6, 0.55, 0.7, 0.55, 0.7, 0.65, 0.7, 0.45, 0.65, 0.45, 0.3, 0.5, 0.4, 0.4, 0.55, 0.5, 0.45, 0.5, 0.25, 0.3, 0.55, 0.3, 0.55, 0.4, 0.35, 0.55, 0.5, 0.5, 0.7, 0.35, 0.6, 0.4, 0.8, 0.45, 0.35, 0.6, 0.35, 0.6, 0.45, 0.55, 0.4, 0.5, 0.7, 0.35, 0.45, 0.5, 0.5, 0.5, 0.6, 0.6, 0.3, 0.65, 0.45, 0.55, 0.45, 0.5, 0.6, 0.65, 0.5, 0.55, 0.4, 0.5, 0.4, 0.45, 0.35, 0.4, 0.65, 0.65, 0.55, 0.55, 0.5, 0.35, 0.35, 0.35, 0.45, 0.55, 0.3, 0.65, 0.2, 0.45, 0.45, 0.6, 0.7, 0.5, 0.55, 0.55, 0.4, 0.6, 0.55, 0.45, 0.65, 0.45, 0.45, 0.65, 0.5, 0.5, 0.65, 0.65, 0.45, 0.55, 0.45, 0.7, 0.65, 0.7, 0.5, 0.4, 0.5, 0.35, 0.3, 0.6, 0.5, 0.45, 0.4, 0.65, 0.3, 0.45, 0.55, 0.6, 0.5, 0.6, 0.55, 0.4, 0.55, 0.5, 0.55, 0.5, 0.55, 0.35, 0.6, 0.4, 0.6, 0.45, 0.4, 0.45, 0.35, 0.45, 0.3, 0.4, 0.55, 0.6, 0.5, 0.45, 0.55, 0.55, 0.65, 0.45, 0.3, 0.6, 0.55, 0.3, 0.4, 0.65, 0.55, 0.6, 0.6, 0.55, 0.35, 0.55, 0.35, 0.7, 0.6, 0.65, 0.85, 0.45, 0.65, 0.45, 0.55, 0.45, 0.4, 0.4, 0.25, 0.4, 0.45, 0.4, 0.6, 0.55, 0.65, 0.5, 0.45, 0.5, 0.35, 0.7, 0.45, 0.6, 0.4, 0.55, 0.7, 0.4, 0.65, 0.4, 0.55, 0.65, 0.4, 0.6, 0.4, 0.5, 0.5, 0.5, 0.55, 0.65, 0.45, 0.7, 0.55, 0.4, 0.45, 0.45, 0.45, 0.55, 0.65, 0.5, 0.5, 0.5, 0.45, 0.65, 0.6, 0.15, 0.5, 0.55, 0.4, 0.5, 0.6, 0.65, 0.4, 0.35, 0.55, 0.5, 0.6, 0.3, 0.5, 0.35, 0.35, 0.6, 0.4, 0.35, 0.6, 0.6, 0.4, 0.65, 0.6, 0.5, 0.35, 0.4, 0.55, 0.6, 0.6, 0.35, 0.4, 0.45, 0.35, 0.5, 0.3, 0.5, 0.55, 0.6, 0.5, 0.55, 0.65, 0.3, 0.7, 0.65, 0.5, 0.4, 0.65, 0.4, 0.55, 0.7, 0.65, 0.6, 0.65, 0.4, 0.45, 0.55, 0.35, 0.65, 0.4, 0.55, 0.65, 0.3, 0.45, 0.6, 0.35, 0.55, 0.5, 0.4, 0.65, 0.5, 0.45, 0.4, 0.5, 0.55, 0.6, 0.55, 0.55, 0.45, 0.45, 0.5, 0.5, 0.65, 0.45, 0.5, 0.6, 0.65, 0.6, 0.55, 0.3, 0.4, 0.6, 0.35, 0.55, 0.6, 0.35, 0.45, 0.45, 0.5, 0.4, 0.5, 0.6, 0.5, 0.65, 0.55, 0.6, 0.6, 0.4, 0.35, 0.4, 0.55, 0.6, 0.6, 0.3, 0.5, 0.5, 0.5, 0.55, 0.45, 0.3, 0.4, 0.5, 0.6, 0.7, 0.4, 0.35, 0.45, 0.4, 0.35, 0.6, 0.5, 0.5, 0.3, 0.55, 0.5, 0.5, 0.4, 0.35, 0.55, 0.45, 0.55, 0.35, 0.4, 0.55, 0.45, 0.65, 0.4, 0.5, 0.45, 0.45, 0.35, 0.4, 0.6, 0.3, 0.35, 0.45, 0.6, 0.45, 0.4, 0.35, 0.55, 0.3, 0.55, 0.55, 0.45, 0.4, 0.6, 0.6, 0.4, 0.45, 0.65, 0.6, 0.6, 0.5, 0.55, 0.45, 0.6, 0.45, 0.6, 0.65, 0.4, 0.6, 0.55, 0.5, 0.45, 0.45, 0.35, 0.4, 0.5, 0.45, 0.6, 0.4, 0.5, 0.55, 0.65, 0.25, 0.35, 0.7, 0.7, 0.6, 0.5, 0.2, 0.65, 0.5, 0.6, 0.4, 0.5, 0.55, 0.6, 0.45, 0.6, 0.5, 0.65, 0.6, 0.5, 0.5, 0.35, 0.6, 0.5, 0.3, 0.55, 0.35, 0.3, 0.3, 0.55, 0.55, 0.4, 0.45, 0.45, 0.6, 0.6, 0.6, 0.5, 0.5, 0.55, 0.4, 0.5, 0.65, 0.4, 0.6, 0.5, 0.55, 0.4, 0.5, 0.5, 0.6, 0.4, 0.45, 0.45, 0.3, 0.35, 0.45, 0.4, 0.4, 0.4, 0.5, 0.55, 0.5, 0.65, 0.3, 0.75, 0.5, 0.6, 0.5, 0.45, 0.55, 0.45, 0.4, 0.45, 0.4, 0.5, 0.55, 0.4, 0.6, 0.45, 0.4, 0.55, 0.5, 0.45, 0.4, 0.4, 0.45, 0.45, 0.65, 0.55, 0.7, 0.65, 0.55, 0.4, 0.45, 0.4, 0.65, 0.4, 0.4, 0.4, 0.5, 0.55, 0.6, 0.35, 0.45, 0.6, 0.4, 0.3, 0.4, 0.5, 0.3, 0.5, 0.7, 0.6, 0.45, 0.35, 0.45, 0.45, 0.35, 0.25, 0.7, 0.5, 0.65, 0.5, 0.4, 0.45, 0.55, 0.5, 0.4, 0.55, 0.6, 0.55, 0.35, 0.4, 0.65, 0.6, 0.5, 0.55, 0.3, 0.5, 0.5, 0.65, 0.55, 0.5, 0.6, 0.4, 0.45, 0.55, 0.45, 0.45, 0.65, 0.45, 0.5, 0.65, 0.5, 0.6, 0.45, 0.45, 0.75, 0.75, 0.65, 0.4, 0.6, 0.3, 0.65, 0.6, 0.6, 0.35, 0.45, 0.6, 0.5, 0.4, 0.45, 0.4, 0.5, 0.4, 0.55, 0.55, 0.35, 0.4, 0.55, 0.45, 0.6, 0.5, 0.35, 0.6, 0.6, 0.45, 0.5, 0.3, 0.65, 0.65, 0.25, 0.6, 0.45, 0.5, 0.55, 0.5, 0.6, 0.5, 0.45, 0.4, 0.45, 0.4, 0.5, 0.5, 0.45, 0.6, 0.6, 0.35, 0.65, 0.45, 0.4, 0.4, 0.8, 0.5, 0.5, 0.35, 0.4, 0.45, 0.55, 0.4, 0.55, 0.55, 0.4, 0.65, 0.6, 0.45, 0.45, 0.5, 0.65, 0.5, 0.5, 0.6, 0.5, 0.55, 0.4, 0.4, 0.5, 0.65, 0.8, 0.45, 0.45, 0.45, 0.6, 0.4, 0.65, 0.6, 0.55, 0.45, 0.6, 0.6, 0.25, 0.7, 0.5, 0.55, 0.6, 0.4, 0.25, 0.45, 0.5, 0.5, 0.5, 0.55, 0.55, 0.6, 0.55, 0.5, 0.35, 0.45, 0.75, 0.4, 0.55, 0.4, 0.55, 0.35, 0.35, 0.6, 0.35, 0.4, 0.4, 0.75, 0.6, 0.65, 0.35, 0.3, 0.45, 0.4, 0.6, 0.6, 0.45, 0.25, 0.45, 0.6, 0.6, 0.45, 0.6, 0.65, 0.65, 0.4, 0.6, 0.65, 0.55, 0.45, 0.65, 0.5, 0.6, 0.55, 0.65, 0.55, 0.75, 0.35, 0.5, 0.7, 0.35, 0.7, 0.6, 0.4, 0.5, 0.5, 0.4, 0.6, 0.7, 0.5, 0.45, 0.45, 0.5, 0.45, 0.6, 0.5, 0.55, 0.4, 0.6, 0.65, 0.65, 0.35, 0.65, 0.55, 0.6, 0.75, 0.6, 0.55, 0.45, 0.45, 0.3, 0.6, 0.4, 0.5, 0.5, 0.65, 0.6, 0.45, 0.6, 0.4, 0.4, 0.25, 0.6, 0.55, 0.45, 0.6, 0.5, 0.55, 0.6, 0.5, 0.5, 0.5, 0.4, 0.65, 0.3, 0.6, 0.25, 0.75, 0.65, 0.5, 0.7, 0.5, 0.3, 0.35, 0.65, 0.4, 0.6, 0.5, 0.45, 0.55, 0.65, 0.55, 0.35, 0.55, 0.3, 0.45, 0.5, 0.5, 0.5, 0.5, 0.5, 0.5, 0.5, 0.4, 0.25, 0.5, 0.5, 0.75, 0.45, 0.6, 0.4, 0.2, 0.5, 0.35, 0.55, 0.4, 0.35, 0.35, 0.6, 0.3, 0.65, 0.7, 0.55, 0.4, 0.55, 0.5, 0.6, 0.3, 0.35, 0.5, 0.55, 0.45, 0.35, 0.45, 0.6, 0.45, 0.7, 0.55, 0.7, 0.6, 0.6, 0.55, 0.6, 0.55, 0.55, 0.6, 0.6, 0.4, 0.4, 0.45, 0.45, 0.5, 0.5, 0.45, 0.55, 0.65, 0.7, 0.45, 0.5, 0.5, 0.9, 0.45, 0.45, 0.5, 0.45, 0.4, 0.45, 0.7, 0.4, 0.45, 0.3, 0.6, 0.45, 0.5, 0.6, 0.6, 0.55, 0.55, 0.6, 0.6, 0.45, 0.35, 0.45, 0.4, 0.35, 0.6, 0.45, 0.7, 0.5, 0.45, 0.55, 0.65, 0.5, 0.25, 0.5, 0.6, 0.4, 0.35, 0.35, 0.5, 0.4, 0.3, 0.5, 0.45, 0.5, 0.45, 0.4, 0.5, 0.6, 0.45, 0.55, 0.45, 0.35, 0.6, 0.45, 0.5, 0.4, 0.35, 0.4, 0.5, 0.45, 0.55, 0.75, 0.3, 0.6, 0.6, 0.55, 0.4, 0.35, 0.65, 0.5, 0.45, 0.55, 0.55, 0.65, 0.55, 0.2, 0.65, 0.45, 0.15, 0.65, 0.35, 0.35, 0.4, 0.55, 0.5, 0.55, 0.45, 0.65, 0.6, 0.4, 0.6, 0.3, 0.55, 0.45, 0.4, 0.6, 0.35, 0.45, 0.35, 0.5, 0.5, 0.5, 0.35, 0.4, 0.4, 0.3, 0.3, 0.55, 0.4, 0.6, 0.65, 0.4, 0.55, 0.45, 0.65, 0.65, 0.25, 0.35, 0.5, 0.3, 0.55, 0.5, 0.35, 0.6, 0.45, 0.5, 0.4, 0.6, 0.55, 0.5, 0.4, 0.55, 0.5, 0.45, 0.65, 0.65, 0.65, 0.45, 0.4, 0.45, 0.5, 0.55, 0.3, 0.5, 0.3, 0.45, 0.4, 0.6, 0.45, 0.55, 0.55, 0.35, 0.6, 0.55, 0.3, 0.65, 0.3, 0.55, 0.35, 0.35, 0.5, 0.55, 0.45, 0.35, 0.5, 0.35, 0.6, 0.35, 0.55, 0.55, 0.45, 0.7, 0.5, 0.5, 0.65, 0.65, 0.6, 0.45, 0.35, 0.55, 0.45, 0.6, 0.5, 0.5, 0.6, 0.65, 0.5, 0.6, 0.45, 0.55, 0.75, 0.5, 0.45, 0.55, 0.6, 0.55, 0.6, 0.35, 0.55, 0.4, 0.45, 0.6, 0.5, 0.55, 0.5, 0.4, 0.4, 0.6, 0.45, 0.55, 0.5, 0.5, 0.35, 0.6, 0.4, 0.4, 0.6, 0.4, 0.55, 0.45, 0.55, 0.4, 0.55, 0.3, 0.55, 0.45, 0.6, 0.45, 0.35, 0.4, 0.45, 0.45, 0.5, 0.5, 0.55, 0.6, 0.7, 0.3, 0.55, 0.4, 0.45, 0.35, 0.45, 0.3, 0.3, 0.45, 0.4, 0.6, 0.6, 0.5, 0.35, 0.55, 0.55, 0.5, 0.45, 0.7, 0.5, 0.4, 0.4, 0.45, 0.65, 0.25, 0.5, 0.3, 0.55, 0.5, 0.8, 0.25, 0.45, 0.65, 0.65, 0.6, 0.65, 0.65, 0.45, 0.7, 0.5, 0.6, 0.4, 0.45, 0.45, 0.4, 0.5, 0.65, 0.4, 0.5, 0.55, 0.5, 0.65, 0.4, 0.4, 0.35, 0.7, 0.6, 0.5, 0.65, 0.55, 0.55, 0.5, 0.6, 0.55, 0.45, 0.55, 0.55, 0.4, 0.5, 0.6, 0.25, 0.4, 0.5, 0.4, 0.55, 0.55, 0.6, 0.6, 0.55, 0.6, 0.5, 0.55, 0.4, 0.2, 0.45, 0.55, 0.3, 0.55, 0.6, 0.5, 0.45, 0.35, 0.55, 0.4, 0.5, 0.6, 0.55, 0.4, 0.5, 0.35, 0.5, 0.5, 0.55, 0.45, 0.45, 0.65, 0.65, 0.6, 0.45, 0.45, 0.7, 0.6, 0.4, 0.4, 0.45, 0.65, 0.45, 0.5, 0.65, 0.55, 0.3, 0.5, 0.55, 0.6, 0.45, 0.45, 0.5, 0.35, 0.45, 0.65, 0.6, 0.55, 0.45, 0.5, 0.65, 0.35, 0.55, 0.6, 0.45, 0.4, 0.35, 0.5, 0.35, 0.45, 0.75, 0.65, 0.35, 0.4, 0.35, 0.55, 0.6, 0.3, 0.5, 0.55, 0.5, 0.6, 0.55, 0.5, 0.45, 0.55, 0.65, 0.3, 0.45, 0.55, 0.4, 0.55, 0.3, 0.35, 0.35, 0.55, 0.5, 0.6, 0.5, 0.55, 0.45, 0.5, 0.65, 0.5, 0.6, 0.6, 0.4, 0.55, 0.8, 0.4, 0.55, 0.75, 0.45, 0.55, 0.6, 0.3, 0.4, 0.5, 0.55, 0.4, 0.45, 0.8, 0.65, 0.55, 0.45, 0.45, 0.6, 0.55, 0.5, 0.75, 0.45, 0.45, 0.7, 0.75, 0.5, 0.4, 0.4, 0.55, 0.4, 0.55, 0.3, 0.5, 0.55, 0.3, 0.6, 0.3, 0.4, 0.6, 0.4, 0.5, 0.6, 0.8, 0.45, 0.3, 0.65, 0.5, 0.6, 0.55, 0.55, 0.5, 0.5, 0.3, 0.5, 0.65, 0.65, 0.25, 0.5, 0.45, 0.45, 0.6, 0.4, 0.5, 0.45, 0.45, 0.45, 0.55, 0.55, 0.55, 0.65, 0.4, 0.5, 0.6, 0.55, 0.5, 0.55, 0.45, 0.6, 0.45, 0.5, 0.45, 0.5, 0.55, 0.5, 0.45, 0.3, 0.6, 0.4, 0.35, 0.45, 0.4, 0.6, 0.6, 0.5, 0.35, 0.6, 0.45, 0.55, 0.7, 0.5, 0.35, 0.5, 0.5, 0.4, 0.6, 0.65, 0.7, 0.45, 0.45, 0.45, 0.45, 0.25, 0.4, 0.4, 0.4, 0.75, 0.45, 0.7, 0.5, 0.4, 0.5, 0.4, 0.3, 0.35, 0.45, 0.85, 0.65, 0.45, 0.25, 0.6, 0.5, 0.75, 0.5, 0.55, 0.55, 0.4, 0.6, 0.55, 0.65, 0.55, 0.6, 0.4, 0.55, 0.4, 0.4, 0.35, 0.5, 0.65, 0.55, 0.45, 0.4, 0.5, 0.55, 0.5, 0.65, 0.55, 0.3, 0.6, 0.3, 0.6, 0.65, 0.4, 0.35, 0.6, 0.6, 0.65, 0.65, 0.5, 0.6, 0.55, 0.3, 0.4, 0.7, 0.55, 0.35, 0.4, 0.5, 0.45, 0.6, 0.55, 0.6, 0.5, 0.5, 0.6, 0.35, 0.5, 0.2, 0.55, 0.45, 0.45, 0.35, 0.6, 0.6, 0.4, 0.75, 0.55, 0.5, 0.5, 0.6, 0.5, 0.5, 0.75, 0.55, 0.45, 0.7, 0.5, 0.6, 0.55, 0.6, 0.35, 0.55, 0.55, 0.45, 0.55, 0.45, 0.4, 0.55, 0.6, 0.65, 0.45, 0.55, 0.25, 0.5, 0.5, 0.4, 0.55, 0.3, 0.4, 0.65, 0.25, 0.6, 0.45, 0.35, 0.65, 0.5, 0.4, 0.65, 0.65, 0.7, 0.55, 0.25, 0.4, 0.5, 0.4, 0.35, 0.3, 0.55, 0.45, 0.75, 0.55, 0.6, 0.6, 0.65, 0.5, 0.55, 0.55, 0.65, 0.45, 0.45, 0.55, 0.4, 0.65, 0.35, 0.6, 0.5, 0.35, 0.55, 0.6, 0.55, 0.3, 0.5, 0.3, 0.5, 0.5, 0.45, 0.8, 0.45, 0.55, 0.35, 0.5, 0.5, 0.6, 0.55, 0.3, 0.5, 0.55, 0.5, 0.7, 0.5, 0.6, 0.5, 0.6, 0.4, 0.4, 0.55, 0.45, 0.4, 0.55, 0.55, 0.55, 0.45, 0.6, 0.5, 0.35, 0.5, 0.4, 0.4, 0.4, 0.55, 0.4, 0.4, 0.35, 0.55, 0.3, 0.45, 0.75, 0.4, 0.55, 0.6, 0.25, 0.4, 0.55, 0.6, 0.45, 0.55, 0.65, 0.5, 0.5, 0.6, 0.55, 0.3, 0.6, 0.45, 0.4, 0.55, 0.3, 0.6, 0.55, 0.55, 0.5, 0.5, 0.7, 0.5, 0.25, 0.35, 0.55, 0.6, 0.7, 0.55, 0.5, 0.35, 0.5, 0.65, 0.7, 0.45, 0.55, 0.45, 0.35, 0.5, 0.5, 0.45, 0.55, 0.5, 0.45, 0.6, 0.4, 0.5, 0.35, 0.65, 0.85, 0.4, 0.35, 0.7, 0.55, 0.5, 0.4, 0.55, 0.5, 0.4, 0.65, 0.5, 0.4, 0.65, 0.75, 0.5, 0.3, 0.6, 0.5, 0.4, 0.5, 0.5, 0.6, 0.7, 0.55, 0.5, 0.45, 0.5, 0.55, 0.25, 0.35, 0.45, 0.35, 0.5, 0.5, 0.65, 0.55, 0.55, 0.35, 0.75, 0.6, 0.5, 0.6, 0.4, 0.5, 0.35, 0.6, 0.55, 0.65, 0.3, 0.45, 0.45, 0.55, 0.4, 0.55, 0.5, 0.5, 0.4, 0.45, 0.35, 0.65, 0.55, 0.6, 0.5, 0.45, 0.5, 0.45, 0.4]\n"
          ],
          "name": "stdout"
        }
      ]
    },
    {
      "cell_type": "code",
      "metadata": {
        "colab_type": "code",
        "outputId": "7f1ca5c1-62cc-4bea-c808-12f943166c2a",
        "id": "JdES8jXz8kAG",
        "colab": {
          "base_uri": "https://localhost:8080/",
          "height": 269
        }
      },
      "source": [
        "import matplotlib.pyplot as plt\n",
        "import seaborn as sns\n",
        "fix, ax = plt.subplots()\n",
        "for sample in [sample_means_small, sample_means_large]:\n",
        "  sns.distplot(sample)"
      ],
      "execution_count": 0,
      "outputs": [
        {
          "output_type": "display_data",
          "data": {
            "image/png": "[encoded data removed]",
            "text/plain": [
              "<Figure size 432x288 with 1 Axes>"
            ]
          },
          "metadata": {
            "tags": []
          }
        }
      ]
    },
    {
      "cell_type": "markdown",
      "metadata": {
        "id": "EYqo5vZZSFUr",
        "colab_type": "text"
      },
      "source": [
        "## Standard Error of the Mean\n",
        "\n",
        "What does it mean to \"estimate\"? the Population mean?"
      ]
    },
    {
      "cell_type": "code",
      "metadata": {
        "id": "puGXH6vbSIE4",
        "colab_type": "code",
        "colab": {}
      },
      "source": [
        ""
      ],
      "execution_count": 0,
      "outputs": []
    },
    {
      "cell_type": "markdown",
      "metadata": {
        "id": "nfdQf8QYUUmw",
        "colab_type": "text"
      },
      "source": [
        "## Build and Interpret a Confidence Interval\n",
        "\n",
        "<img src=\"https://github.com/ryanallredblog/ryanallredblog.github.io/blob/master/img/Confidence_Interval.png?raw=true\" width=400>"
      ]
    },
    {
      "cell_type": "code",
      "metadata": {
        "id": "tBx71Kf0UjT3",
        "colab_type": "code",
        "colab": {}
      },
      "source": [
        "def confidence_interval(data, confidence=0.95):\n",
        "  \"\"\"\n",
        "  Calculate a confidence interval around a sample mean for given data.\n",
        "  Using t-distribution and two-tailed test, default 95% confidence. \n",
        "  \n",
        "  Arguments:\n",
        "    data - iterable (list or numpy array) of sample observations\n",
        "    confidence - level of confidence for the interval\n",
        "  \n",
        "  Returns:\n",
        "    tuple of (mean, lower bound, upper bound)\n",
        "  \"\"\"\n",
        "  data = np.array(data)\n",
        "  mean = np.mean(data)\n",
        "  n = len(data)\n",
        "  stderr = stats.sem(data)\n",
        "  interval = stderr * stats.t.ppf((1 + confidence) / 2.0, n - 1)\n",
        "  return (mean, mean - interval, mean + interval)"
      ],
      "execution_count": 0,
      "outputs": []
    },
    {
      "cell_type": "markdown",
      "metadata": {
        "id": "C4rtc8luVUAK",
        "colab_type": "text"
      },
      "source": [
        "## Graphically Represent a Confidence Interval"
      ]
    },
    {
      "cell_type": "code",
      "metadata": {
        "id": "pz6F9_3_VmKr",
        "colab_type": "code",
        "colab": {}
      },
      "source": [
        ""
      ],
      "execution_count": 0,
      "outputs": []
    },
    {
      "cell_type": "markdown",
      "metadata": {
        "id": "_oy0uoBGeoEb",
        "colab_type": "text"
      },
      "source": [
        "## Relationship between Confidence Intervals and T-tests\n",
        "\n",
        "Confidence Interval == Bounds of statistical significance for our t-test\n",
        "\n",
        "A sample mean that falls inside of our confidence interval will \"FAIL TO REJECT\" our null hypothesis\n",
        "\n",
        "A sample mean that falls outside of our confidence interval will \"REJECT\" our null hypothesis"
      ]
    },
    {
      "cell_type": "code",
      "metadata": {
        "id": "izIyVavzfCXS",
        "colab_type": "code",
        "colab": {}
      },
      "source": [
        "from scipy.stats import t, ttest_1samp"
      ],
      "execution_count": 0,
      "outputs": []
    },
    {
      "cell_type": "code",
      "metadata": {
        "id": "Y7HwdMwDfL1N",
        "colab_type": "code",
        "outputId": "43309626-838a-4d17-8507-038e7a0f6b74",
        "colab": {
          "base_uri": "https://localhost:8080/",
          "height": 55
        }
      },
      "source": [
        "import numpy as np\n",
        "\n",
        "coinflip_means = []\n",
        "for x in range(0,100):\n",
        "  coinflips = np.random.binomial(n=1, p=.5, size=30)\n",
        "  coinflip_means.append(coinflips.mean())\n",
        "\n",
        "print(coinflip_means)"
      ],
      "execution_count": 0,
      "outputs": [
        {
          "output_type": "stream",
          "text": [
            "[0.7333333333333333, 0.43333333333333335, 0.5, 0.43333333333333335, 0.5, 0.5, 0.5333333333333333, 0.5, 0.4, 0.43333333333333335, 0.3333333333333333, 0.5333333333333333, 0.5333333333333333, 0.4666666666666667, 0.5, 0.6, 0.6333333333333333, 0.5, 0.3333333333333333, 0.43333333333333335, 0.4666666666666667, 0.43333333333333335, 0.4666666666666667, 0.5333333333333333, 0.43333333333333335, 0.7, 0.7, 0.5333333333333333, 0.5, 0.6666666666666666, 0.43333333333333335, 0.43333333333333335, 0.4, 0.5666666666666667, 0.5333333333333333, 0.6333333333333333, 0.4666666666666667, 0.5333333333333333, 0.36666666666666664, 0.4666666666666667, 0.4, 0.6333333333333333, 0.5666666666666667, 0.5666666666666667, 0.7333333333333333, 0.4, 0.4666666666666667, 0.6, 0.5333333333333333, 0.6333333333333333, 0.4666666666666667, 0.5333333333333333, 0.43333333333333335, 0.5, 0.36666666666666664, 0.4, 0.5666666666666667, 0.5, 0.36666666666666664, 0.5666666666666667, 0.7, 0.43333333333333335, 0.36666666666666664, 0.5666666666666667, 0.5, 0.5333333333333333, 0.5333333333333333, 0.4, 0.36666666666666664, 0.6, 0.6, 0.43333333333333335, 0.3333333333333333, 0.5333333333333333, 0.4666666666666667, 0.3333333333333333, 0.6333333333333333, 0.43333333333333335, 0.43333333333333335, 0.5666666666666667, 0.5666666666666667, 0.5, 0.4666666666666667, 0.5, 0.5333333333333333, 0.43333333333333335, 0.5666666666666667, 0.4, 0.5, 0.4, 0.43333333333333335, 0.5666666666666667, 0.5666666666666667, 0.5, 0.43333333333333335, 0.5666666666666667, 0.5666666666666667, 0.4666666666666667, 0.5, 0.43333333333333335]\n"
          ],
          "name": "stdout"
        }
      ]
    },
    {
      "cell_type": "code",
      "metadata": {
        "id": "nQDo-ZXlfOvR",
        "colab_type": "code",
        "outputId": "c2e8386e-a0c4-49a4-f2ca-447fa92463f9",
        "colab": {
          "base_uri": "https://localhost:8080/",
          "height": 35
        }
      },
      "source": [
        "# Sample Size\n",
        "n = len(coinflip_means)\n",
        "# Degrees of Freedom\n",
        "dof = n-1\n",
        "# The Mean of Means:\n",
        "mean = np.mean(coinflip_means)\n",
        "# Sample Standard Deviation\n",
        "sample_std = np.std(coinflip_means, ddof=1)\n",
        "# Standard Error\n",
        "std_err = sample_std/n**.5\n",
        "\n",
        "CI = t.interval(.95, dof, loc=mean, scale=std_err)\n",
        "print(\"95% Confidence Interval: \", CI)"
      ],
      "execution_count": 0,
      "outputs": [
        {
          "output_type": "stream",
          "text": [
            "95% Confidence Interval:  (0.48189276007256693, 0.5181072399274331)\n"
          ],
          "name": "stdout"
        }
      ]
    },
    {
      "cell_type": "code",
      "metadata": {
        "id": "PiaALHSNfWou",
        "colab_type": "code",
        "outputId": "612dbe6c-be4e-4cbb-9aeb-81309fb54529",
        "colab": {
          "base_uri": "https://localhost:8080/",
          "height": 52
        }
      },
      "source": [
        "'''You can roll your own CI calculation pretty easily. \n",
        "The only thing that's a little bit challenging \n",
        "is understanding the t stat lookup'''\n",
        "\n",
        "# 95% confidence interval\n",
        "t_stat = t.ppf(.975, dof)\n",
        "print(\"t Statistic:\", t_stat)\n",
        "\n",
        "CI = (mean-(t_stat*std_err), mean+(t_stat*std_err))\n",
        "print(\"Confidence Interval\", CI)"
      ],
      "execution_count": 0,
      "outputs": [
        {
          "output_type": "stream",
          "text": [
            "t Statistic: 1.9842169515086827\n",
            "Confidence Interval (0.48189276007256693, 0.5181072399274331)\n"
          ],
          "name": "stdout"
        }
      ]
    },
    {
      "cell_type": "markdown",
      "metadata": {
        "id": "EamZNJhAf-fY",
        "colab_type": "text"
      },
      "source": [
        "A null hypothesis that's just inside of our confidence interval == fail to reject\n",
        "\n"
      ]
    },
    {
      "cell_type": "code",
      "metadata": {
        "id": "cNpzYbjpfirR",
        "colab_type": "code",
        "outputId": "ec1072cb-5130-43c8-c026-df6728f521e8",
        "colab": {
          "base_uri": "https://localhost:8080/",
          "height": 35
        }
      },
      "source": [
        "ttest_1samp(coinflip_means, .49)"
      ],
      "execution_count": 0,
      "outputs": [
        {
          "output_type": "execute_result",
          "data": {
            "text/plain": [
              "Ttest_1sampResult(statistic=1.0958141381351718, pvalue=0.2758187277462794)"
            ]
          },
          "metadata": {
            "tags": []
          },
          "execution_count": 28
        }
      ]
    },
    {
      "cell_type": "markdown",
      "metadata": {
        "id": "hO34mbL9gHn1",
        "colab_type": "text"
      },
      "source": [
        "A null hypothesis that's just outside of our confidence interval == reject\n",
        "\n"
      ]
    },
    {
      "cell_type": "code",
      "metadata": {
        "id": "N4SUjj82gKlv",
        "colab_type": "code",
        "outputId": "8acaad7f-e23a-4c7a-a6aa-dc5c6a19b337",
        "colab": {
          "base_uri": "https://localhost:8080/",
          "height": 35
        }
      },
      "source": [
        "ttest_1samp(coinflip_means, .4818927)"
      ],
      "execution_count": 0,
      "outputs": [
        {
          "output_type": "execute_result",
          "data": {
            "text/plain": [
              "Ttest_1sampResult(statistic=1.9842235343454973, pvalue=0.04999925456754134)"
            ]
          },
          "metadata": {
            "tags": []
          },
          "execution_count": 31
        }
      ]
    },
    {
      "cell_type": "markdown",
      "metadata": {
        "id": "pTIzrkKdUaLl",
        "colab_type": "text"
      },
      "source": [
        "## Run a $\\chi^{2}$ Test \"by hand\" (Using Numpy)"
      ]
    },
    {
      "cell_type": "code",
      "metadata": {
        "id": "DDsovHUyUj3v",
        "colab_type": "code",
        "colab": {}
      },
      "source": [
        ""
      ],
      "execution_count": 0,
      "outputs": []
    },
    {
      "cell_type": "markdown",
      "metadata": {
        "id": "7Igz-XHcVbW3",
        "colab_type": "text"
      },
      "source": [
        "## Run a $\\chi^{2}$ Test using Scipy"
      ]
    },
    {
      "cell_type": "code",
      "metadata": {
        "id": "X52Nwt7AVlvk",
        "colab_type": "code",
        "colab": {}
      },
      "source": [
        ""
      ],
      "execution_count": 0,
      "outputs": []
    }
  ]
}